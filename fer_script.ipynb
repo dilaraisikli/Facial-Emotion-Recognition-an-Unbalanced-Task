{
  "nbformat": 4,
  "nbformat_minor": 0,
  "metadata": {
    "colab": {
      "name": "FER.ipynb",
      "provenance": [],
      "collapsed_sections": [
        "2LbyKbSDfU8a",
        "x5UsPWk-SKnd",
        "O-TO6KnzJ4Xz",
        "o44IFQQ_jVn2",
        "05Hti1zbZZ_G",
        "-6J2dIBIYibm"
      ],
      "toc_visible": true
    },
    "kernelspec": {
      "display_name": "Python 3",
      "name": "python3"
    },
    "accelerator": "GPU",
    "widgets": {
      "application/vnd.jupyter.widget-state+json": {
        "8b5630fcb437468abb936f2693e18209": {
          "model_module": "@jupyter-widgets/controls",
          "model_name": "HBoxModel",
          "state": {
            "_view_name": "HBoxView",
            "_dom_classes": [],
            "_model_name": "HBoxModel",
            "_view_module": "@jupyter-widgets/controls",
            "_model_module_version": "1.5.0",
            "_view_count": null,
            "_view_module_version": "1.5.0",
            "box_style": "",
            "layout": "IPY_MODEL_2c02752db8c84347be07bf046ab3846a",
            "_model_module": "@jupyter-widgets/controls",
            "children": [
              "IPY_MODEL_a3eece719fec43388747ed25833137d9",
              "IPY_MODEL_a2bc1a71c94749ad9490269d10126f3c"
            ]
          }
        },
        "2c02752db8c84347be07bf046ab3846a": {
          "model_module": "@jupyter-widgets/base",
          "model_name": "LayoutModel",
          "state": {
            "_view_name": "LayoutView",
            "grid_template_rows": null,
            "right": null,
            "justify_content": null,
            "_view_module": "@jupyter-widgets/base",
            "overflow": null,
            "_model_module_version": "1.2.0",
            "_view_count": null,
            "flex_flow": null,
            "width": null,
            "min_width": null,
            "border": null,
            "align_items": null,
            "bottom": null,
            "_model_module": "@jupyter-widgets/base",
            "top": null,
            "grid_column": null,
            "overflow_y": null,
            "overflow_x": null,
            "grid_auto_flow": null,
            "grid_area": null,
            "grid_template_columns": null,
            "flex": null,
            "_model_name": "LayoutModel",
            "justify_items": null,
            "grid_row": null,
            "max_height": null,
            "align_content": null,
            "visibility": null,
            "align_self": null,
            "height": null,
            "min_height": null,
            "padding": null,
            "grid_auto_rows": null,
            "grid_gap": null,
            "max_width": null,
            "order": null,
            "_view_module_version": "1.2.0",
            "grid_template_areas": null,
            "object_position": null,
            "object_fit": null,
            "grid_auto_columns": null,
            "margin": null,
            "display": null,
            "left": null
          }
        },
        "a3eece719fec43388747ed25833137d9": {
          "model_module": "@jupyter-widgets/controls",
          "model_name": "FloatProgressModel",
          "state": {
            "_view_name": "ProgressView",
            "style": "IPY_MODEL_2c8e1841ffbb4e4fbf1cb575ba172d5d",
            "_dom_classes": [],
            "description": "100%",
            "_model_name": "FloatProgressModel",
            "bar_style": "success",
            "max": 531456000,
            "_view_module": "@jupyter-widgets/controls",
            "_model_module_version": "1.5.0",
            "value": 531456000,
            "_view_count": null,
            "_view_module_version": "1.5.0",
            "orientation": "horizontal",
            "min": 0,
            "description_tooltip": null,
            "_model_module": "@jupyter-widgets/controls",
            "layout": "IPY_MODEL_a02dc2c517c14cb9aae98837a2fcaedf"
          }
        },
        "a2bc1a71c94749ad9490269d10126f3c": {
          "model_module": "@jupyter-widgets/controls",
          "model_name": "HTMLModel",
          "state": {
            "_view_name": "HTMLView",
            "style": "IPY_MODEL_b9c9d9c013d648a0b573cdd6e5c90f1e",
            "_dom_classes": [],
            "description": "",
            "_model_name": "HTMLModel",
            "placeholder": "​",
            "_view_module": "@jupyter-widgets/controls",
            "_model_module_version": "1.5.0",
            "value": " 507M/507M [00:20&lt;00:00, 26.4MB/s]",
            "_view_count": null,
            "_view_module_version": "1.5.0",
            "description_tooltip": null,
            "_model_module": "@jupyter-widgets/controls",
            "layout": "IPY_MODEL_05230a6edff0482bbc522de8d3d97a9c"
          }
        },
        "2c8e1841ffbb4e4fbf1cb575ba172d5d": {
          "model_module": "@jupyter-widgets/controls",
          "model_name": "ProgressStyleModel",
          "state": {
            "_view_name": "StyleView",
            "_model_name": "ProgressStyleModel",
            "description_width": "initial",
            "_view_module": "@jupyter-widgets/base",
            "_model_module_version": "1.5.0",
            "_view_count": null,
            "_view_module_version": "1.2.0",
            "bar_color": null,
            "_model_module": "@jupyter-widgets/controls"
          }
        },
        "a02dc2c517c14cb9aae98837a2fcaedf": {
          "model_module": "@jupyter-widgets/base",
          "model_name": "LayoutModel",
          "state": {
            "_view_name": "LayoutView",
            "grid_template_rows": null,
            "right": null,
            "justify_content": null,
            "_view_module": "@jupyter-widgets/base",
            "overflow": null,
            "_model_module_version": "1.2.0",
            "_view_count": null,
            "flex_flow": null,
            "width": null,
            "min_width": null,
            "border": null,
            "align_items": null,
            "bottom": null,
            "_model_module": "@jupyter-widgets/base",
            "top": null,
            "grid_column": null,
            "overflow_y": null,
            "overflow_x": null,
            "grid_auto_flow": null,
            "grid_area": null,
            "grid_template_columns": null,
            "flex": null,
            "_model_name": "LayoutModel",
            "justify_items": null,
            "grid_row": null,
            "max_height": null,
            "align_content": null,
            "visibility": null,
            "align_self": null,
            "height": null,
            "min_height": null,
            "padding": null,
            "grid_auto_rows": null,
            "grid_gap": null,
            "max_width": null,
            "order": null,
            "_view_module_version": "1.2.0",
            "grid_template_areas": null,
            "object_position": null,
            "object_fit": null,
            "grid_auto_columns": null,
            "margin": null,
            "display": null,
            "left": null
          }
        },
        "b9c9d9c013d648a0b573cdd6e5c90f1e": {
          "model_module": "@jupyter-widgets/controls",
          "model_name": "DescriptionStyleModel",
          "state": {
            "_view_name": "StyleView",
            "_model_name": "DescriptionStyleModel",
            "description_width": "",
            "_view_module": "@jupyter-widgets/base",
            "_model_module_version": "1.5.0",
            "_view_count": null,
            "_view_module_version": "1.2.0",
            "_model_module": "@jupyter-widgets/controls"
          }
        },
        "05230a6edff0482bbc522de8d3d97a9c": {
          "model_module": "@jupyter-widgets/base",
          "model_name": "LayoutModel",
          "state": {
            "_view_name": "LayoutView",
            "grid_template_rows": null,
            "right": null,
            "justify_content": null,
            "_view_module": "@jupyter-widgets/base",
            "overflow": null,
            "_model_module_version": "1.2.0",
            "_view_count": null,
            "flex_flow": null,
            "width": null,
            "min_width": null,
            "border": null,
            "align_items": null,
            "bottom": null,
            "_model_module": "@jupyter-widgets/base",
            "top": null,
            "grid_column": null,
            "overflow_y": null,
            "overflow_x": null,
            "grid_auto_flow": null,
            "grid_area": null,
            "grid_template_columns": null,
            "flex": null,
            "_model_name": "LayoutModel",
            "justify_items": null,
            "grid_row": null,
            "max_height": null,
            "align_content": null,
            "visibility": null,
            "align_self": null,
            "height": null,
            "min_height": null,
            "padding": null,
            "grid_auto_rows": null,
            "grid_gap": null,
            "max_width": null,
            "order": null,
            "_view_module_version": "1.2.0",
            "grid_template_areas": null,
            "object_position": null,
            "object_fit": null,
            "grid_auto_columns": null,
            "margin": null,
            "display": null,
            "left": null
          }
        }
      }
    }
  },
  "cells": [
    {
      "cell_type": "markdown",
      "metadata": {
        "id": "u1B8RJV0eLri"
      },
      "source": [
        "# FER\n",
        "\n",
        "\n"
      ]
    },
    {
      "cell_type": "markdown",
      "metadata": {
        "id": "h8eiqfOrnQAi"
      },
      "source": [
        "# Mount Drive:"
      ]
    },
    {
      "cell_type": "code",
      "metadata": {
        "colab": {
          "base_uri": "https://localhost:8080/"
        },
        "id": "QCEZ4A9Vy3s9",
        "outputId": "3c3812d2-f3cf-494f-eadc-b13d78791bdf"
      },
      "source": [
        "# Mount Drive\n",
        "from google.colab import drive\n",
        "drive.mount('/content/gdrive')"
      ],
      "execution_count": null,
      "outputs": [
        {
          "output_type": "stream",
          "text": [
            "Mounted at /content/gdrive\n"
          ],
          "name": "stdout"
        }
      ]
    },
    {
      "cell_type": "markdown",
      "metadata": {
        "id": "Dl2XWektSt_i"
      },
      "source": [
        "# Set Paths:"
      ]
    },
    {
      "cell_type": "code",
      "metadata": {
        "id": "eQngkI8dSz5d"
      },
      "source": [
        "PATH_STATS = '/content/gdrive/MyDrive/DS/Second Year - First Semster/AML/homeworks/final project/stats/'\n",
        "PATH_MODELS = '/content/gdrive/MyDrive/DS/Second Year - First Semster/AML/homeworks/final project/models/'\n",
        "PATH_FIG = '/content/gdrive/MyDrive/DS/Second Year - First Semster/AML/homeworks/final project/figures/'\n",
        "PATH_DATA = '/content/FER/'"
      ],
      "execution_count": null,
      "outputs": []
    },
    {
      "cell_type": "markdown",
      "metadata": {
        "id": "enD9HrvSgNUM"
      },
      "source": [
        "# Get Datset From Kaggle\n",
        "\n",
        "As first step we install the libraries needed and load the key.\n",
        "Then we can start the download from kaggle and unzip."
      ]
    },
    {
      "cell_type": "code",
      "metadata": {
        "colab": {
          "resources": {
            "http://localhost:8080/nbextensions/google.colab/files.js": {
              "data": "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",
              "ok": true,
              "headers": [
                [
                  "content-type",
                  "application/javascript"
                ]
              ],
              "status": 200,
              "status_text": ""
            }
          },
          "base_uri": "https://localhost:8080/"
        },
        "id": "5wCBMxtSecxx",
        "outputId": "fd19470f-8b9f-4a36-eb56-d82af4d3eea9"
      },
      "source": [
        "from google.colab import files\n",
        "# Install Kaggle library\n",
        "!pip install -q kaggle\n",
        "# Upload kaggle API key file\n",
        "uploaded = files.upload()\n",
        "# create the needed directory\n",
        "! mkdir ~/.kaggle\n",
        "# Copy the file to the dir\n",
        "! cp kaggle.json ~/.kaggle/\n",
        "# Change permissions:\n",
        "! chmod 600 ~/.kaggle/kaggle.json"
      ],
      "execution_count": null,
      "outputs": [
        {
          "output_type": "display_data",
          "data": {
            "text/html": [
              "\n",
              "     <input type=\"file\" id=\"files-509c59bf-36c5-4dbb-98a4-539cb51f5955\" name=\"files[]\" multiple disabled\n",
              "        style=\"border:none\" />\n",
              "     <output id=\"result-509c59bf-36c5-4dbb-98a4-539cb51f5955\">\n",
              "      Upload widget is only available when the cell has been executed in the\n",
              "      current browser session. Please rerun this cell to enable.\n",
              "      </output>\n",
              "      <script src=\"/nbextensions/google.colab/files.js\"></script> "
            ],
            "text/plain": [
              "<IPython.core.display.HTML object>"
            ]
          },
          "metadata": {
            "tags": []
          }
        },
        {
          "output_type": "stream",
          "text": [
            "Saving kaggle.json to kaggle.json\n"
          ],
          "name": "stdout"
        }
      ]
    },
    {
      "cell_type": "code",
      "metadata": {
        "colab": {
          "base_uri": "https://localhost:8080/"
        },
        "id": "C7saf2ZegMx7",
        "outputId": "93dacd59-f635-4369-d6e9-63cc6982660b"
      },
      "source": [
        "!kaggle datasets download -d msambare/fer2013"
      ],
      "execution_count": null,
      "outputs": [
        {
          "output_type": "stream",
          "text": [
            "Downloading fer2013.zip to /content\n",
            " 81% 49.0M/60.3M [00:00<00:00, 96.5MB/s]\n",
            "100% 60.3M/60.3M [00:00<00:00, 136MB/s] \n"
          ],
          "name": "stdout"
        }
      ]
    },
    {
      "cell_type": "code",
      "metadata": {
        "id": "q-WEWBOpoIcY"
      },
      "source": [
        "%%capture\n",
        "! unzip fer2013.zip -d FER\n",
        "! rm fer2013.zip"
      ],
      "execution_count": null,
      "outputs": []
    },
    {
      "cell_type": "markdown",
      "metadata": {
        "id": "2LbyKbSDfU8a"
      },
      "source": [
        "# Get Validation"
      ]
    },
    {
      "cell_type": "code",
      "metadata": {
        "id": "3t7zaUmxaYKU"
      },
      "source": [
        "import os\n",
        "import shutil\n",
        "import numpy as np"
      ],
      "execution_count": null,
      "outputs": []
    },
    {
      "cell_type": "code",
      "metadata": {
        "id": "8hBXEhlwaTys"
      },
      "source": [
        "def create_valid(path_data):\n",
        "  np.random.seed(123)\n",
        "  dest = path_data + 'valid/'\n",
        "  if not os.path.isdir(dest):\n",
        "      \n",
        "    source = path_data + 'train/'\n",
        "    os.mkdir(dest)\n",
        "\n",
        "    folders = os.listdir(source)\n",
        "    for fold in folders:\n",
        "      in_path = source + fold + '/'\n",
        "      out_path = dest + fold + '/'\n",
        "      if not os.path.isdir(out_path):\n",
        "        os.mkdir(out_path)\n",
        "      for img in os.listdir(in_path):\n",
        "        if np.random.rand(1) < 0.1:\n",
        "            shutil.move(in_path + img, out_path + img)"
      ],
      "execution_count": null,
      "outputs": []
    },
    {
      "cell_type": "code",
      "metadata": {
        "id": "1pxyLgpp_gg5"
      },
      "source": [
        "create_valid(PATH_DATA)"
      ],
      "execution_count": null,
      "outputs": []
    },
    {
      "cell_type": "markdown",
      "metadata": {
        "id": "O-TO6KnzJ4Xz"
      },
      "source": [
        "# Data Augmentation Classes:"
      ]
    },
    {
      "cell_type": "code",
      "metadata": {
        "id": "xv5ZsQE59Cvc"
      },
      "source": [
        "%%capture\n",
        "!pip install git+https://github.com/aleju/imgaug"
      ],
      "execution_count": null,
      "outputs": []
    },
    {
      "cell_type": "code",
      "metadata": {
        "id": "c1anNkxZKBvh"
      },
      "source": [
        "%%capture\n",
        "# Library for DA:\n",
        "from torchvision import transforms\n",
        "import torch\n",
        "\n",
        "# Color Transformations:\n",
        "from imgaug import augmenters as iaa\n",
        "import imgaug as ia\n",
        "\n",
        "# Load and work with images:\n",
        "from PIL import Image\n",
        "import cv2\n",
        "import numpy as np"
      ],
      "execution_count": null,
      "outputs": []
    },
    {
      "cell_type": "code",
      "metadata": {
        "id": "j_s4Iz34ftdu"
      },
      "source": [
        "# Transformation to preprocess during validation:\n",
        "class HistEqualization(object):\n",
        "  '''\n",
        "  This class adjust the illumination of the picture\n",
        "  '''\n",
        "  def __call__(self, img):\n",
        "    img = np.array(img)\n",
        "    grayimg = cv2.cvtColor(img, cv2.COLOR_BGR2GRAY)\n",
        "    equ = cv2.equalizeHist(grayimg) \n",
        "\n",
        "    return Image.fromarray(equ).convert('RGB')"
      ],
      "execution_count": null,
      "outputs": []
    },
    {
      "cell_type": "code",
      "metadata": {
        "id": "QSpo2gjLTRhD"
      },
      "source": [
        "# Colors Custom Transform:\n",
        "class RandomErasing:\n",
        "  def __init__(self, max_n, size):\n",
        "    self.aug = iaa.Sequential([iaa.Cutout(nb_iterations=(1, max_n), size=size, squared=False, fill_mode='gaussian')])\n",
        "      \n",
        "  def __call__(self, img):\n",
        "    img = np.array(img)\n",
        "    return self.aug.augment_image(img)"
      ],
      "execution_count": null,
      "outputs": []
    },
    {
      "cell_type": "markdown",
      "metadata": {
        "id": "o44IFQQ_jVn2"
      },
      "source": [
        "# Data Loading:\n"
      ]
    },
    {
      "cell_type": "code",
      "metadata": {
        "id": "07OX99TwLHP-"
      },
      "source": [
        "%%capture\n",
        "# Libraries to load data:\n",
        "import torch\n",
        "from torchvision.datasets import ImageFolder\n",
        "from torch.utils.data import DataLoader\n",
        "import cv2\n",
        "\n",
        "# Library to modify:\n",
        "import numpy as np"
      ],
      "execution_count": null,
      "outputs": []
    },
    {
      "cell_type": "code",
      "metadata": {
        "id": "aNbv14jgjIpQ"
      },
      "source": [
        "def define_weights(data, path_data):\n",
        "  '''\n",
        "  This function returns a set of weights for the data loader\n",
        "    Args:\n",
        "      data (ImageFolder): a preprocessed folder by pytorch\n",
        "      path_data (str): the path to the folder containing train and test data\n",
        "    Out:\n",
        "      tensor containing the weights\n",
        "  '''\n",
        "  \n",
        "  labels = torch.IntTensor(data.targets)\n",
        "  class_count = torch.bincount(torch.IntTensor(data.targets))\n",
        "  N = torch.sum(labels)\n",
        "  relative_w = N / class_count\n",
        "  weights = relative_w[labels.tolist()]\n",
        "    \n",
        "  return weights"
      ],
      "execution_count": null,
      "outputs": []
    },
    {
      "cell_type": "code",
      "metadata": {
        "id": "GWfF0zs2QS9p"
      },
      "source": [
        "# Define function to Load and Process Data:\n",
        "def CustomDataLoader(path, transformations=None,  batch_size=120, as_df='train', balanced=True):\n",
        "\n",
        "  \"\"\"\"\n",
        "  This function loads deta, split in train and validation if needed, transform the data and\n",
        "  prepare for the data loader, adding transformations.\n",
        "    Args:\n",
        "      path (str): a tring containing the path to the folder of data\n",
        "      transformations (lst): a list as transform.COmopose of transformations\n",
        "      btach_size (int): size of the batch\n",
        "      as_df (str): which df you want to load, three possibilities (train, valid, test)\n",
        "    Out:\n",
        "      data.a_loader (data_loader): a dataset ready to be passed in the net\n",
        "  \"\"\"\n",
        "\n",
        "  # Load Data:\n",
        "  if balanced:\n",
        "    if as_df == 'train':\n",
        "      data = ImageFolder(root=path + 'train/', transform= transformations)\n",
        "      # Define weights for classes:\n",
        "      weights = define_weights(data, path + 'train/')                                                                                                \n",
        "      sampler = torch.utils.data.sampler.WeightedRandomSampler(weights, len(data)) \n",
        "      # Load Data:\n",
        "      train = DataLoader(data, batch_size=batch_size, sampler=sampler, pin_memory=True)\n",
        "      return train\n",
        "    elif as_df == 'valid':\n",
        "      data = ImageFolder(root=path + 'valid/', transform= transformations) \n",
        "      valid = DataLoader(data, batch_size=batch_size, pin_memory=True)\n",
        "      return valid\n",
        "    elif as_df == 'test':\n",
        "      data = ImageFolder(root=path + 'test/', transform= transformations)             \n",
        "      test = DataLoader(data, batch_size=batch_size, pin_memory=True)\n",
        "      return test    \n",
        "\n",
        "  else:\n",
        "    if as_df == 'train':\n",
        "      data = ImageFolder(path + 'train/', transform= transformations)\n",
        "      train = DataLoader(data, batch_size=batch_size, shuffle=True, pin_memory=True)\n",
        "      return train\n",
        "    elif as_df == 'valid':\n",
        "      data = ImageFolder(path + 'valid/', transform= transformations)\n",
        "      valid = DataLoader(data, batch_size=batch_size, shuffle=False, pin_memory=True) \n",
        "      return valid \n",
        "    elif as_df == 'test':\n",
        "      data = ImageFolder(root=path + 'test/', transform= transformations)             \n",
        "      test = DataLoader(data, batch_size=batch_size, pin_memory=True)\n",
        "      return test                                                                      \n"
      ],
      "execution_count": null,
      "outputs": []
    },
    {
      "cell_type": "markdown",
      "metadata": {
        "id": "05Hti1zbZZ_G"
      },
      "source": [
        "# Common Functions For the Models\n",
        "Useful tools to compute and save statistics and to work on the model"
      ]
    },
    {
      "cell_type": "code",
      "metadata": {
        "id": "ZODebECGK4p2"
      },
      "source": [
        "import torch\n",
        "\n",
        "# Helpful tools:\n",
        "from time import time\n",
        "import pandas as pd\n",
        "import numpy as np\n",
        "# Plot\\ results:\n",
        "import matplotlib.pyplot as plt\n",
        "import seaborn as sns\n",
        "\n",
        "# Write CSV:\n",
        "import csv\n",
        "import os\n",
        "\n",
        "# For evaluation:\n",
        "from sklearn.metrics import confusion_matrix\n",
        "from sklearn.metrics import plot_confusion_matrix\n",
        "\n",
        "# Metrics:\n",
        "from sklearn.metrics import classification_report"
      ],
      "execution_count": null,
      "outputs": []
    },
    {
      "cell_type": "code",
      "metadata": {
        "id": "rrvW3a22Li_g"
      },
      "source": [
        "# Plot a sample from our train:\n",
        "def plot_pic(n, loader):\n",
        "  '''\n",
        "  This function plot n pictures processed.\n",
        "    Args:\n",
        "      n (int): number of features to show\n",
        "      loader : a data loader made by pytorch\n",
        "  '''\n",
        "\n",
        "  for i in range(n):\n",
        "\n",
        "    # Select sample:\n",
        "\n",
        "    x, y = next(iter(loader))\n",
        "\n",
        "    # Plot:\n",
        "    plt.subplot(1,3,i+1)\n",
        "    plt.imshow(x[i].permute(1,2,0))\n",
        "    plt.title('Class: ' + str(int(y[i])))\n",
        "  plt.tight_layout()"
      ],
      "execution_count": null,
      "outputs": []
    },
    {
      "cell_type": "code",
      "metadata": {
        "id": "iIeLv77ReOYW"
      },
      "source": [
        "def show_trai_acc(path_stats, path_fig, model_name):\n",
        "  \"\"\"\n",
        "  This function helps in plot train and valid acc and loss\n",
        "  \"\"\"\n",
        "\n",
        "  curves = pd.read_csv(path_stats + model_name + '.csv')\n",
        "\n",
        "  fig, axs = plt.subplots(1 ,2, figsize=(15,6))\n",
        "  axs = axs.ravel()\n",
        "\n",
        "  sns.lineplot(data=curves.iloc[:, [0, 2, 3]], ax=axs[0])\n",
        "  axs[0].set_ylabel('Loss', labelpad = 10)\n",
        "  axs[0].set_xlabel('Epoch', labelpad=12)\n",
        "  axs[0].set_title('Train and Valid Loss', y = 1.05)  \n",
        "  sns.lineplot(data=curves.iloc[:, [0, 4, 5]], ax=axs[1])\n",
        "  axs[1].set_ylabel('Accuracy', labelpad = 10)\n",
        "  axs[1].set_xlabel('Epoch', labelpad=12)\n",
        "  axs[1].set_title('Train and Valid Accuracy', y = 1.05)  \n",
        "\n",
        "  plt.savefig(path_fig + model_name + '_loss_acc.jpg')\n",
        "  plt.plot()"
      ],
      "execution_count": null,
      "outputs": []
    },
    {
      "cell_type": "code",
      "metadata": {
        "id": "obTl47kGSCEH"
      },
      "source": [
        "# Save csv Files\n",
        "def save_csv(model_name, path_stats, cols=None, col_names=None, new_file=True):\n",
        "\n",
        "  '''\n",
        "  This function allow you to generate different csv files.\n",
        "    Args:\n",
        "      model_name (str): the name of the model\n",
        "      path_stats (str): the path to the folder where to save\n",
        "      cols (lst): a list of value to save\n",
        "      col_names (lst): a list of names to of the columns to save\n",
        "  '''\n",
        "  \n",
        "  path = path_stats + model_name + '.csv'\n",
        "  \n",
        "  if new_file:\n",
        "    connect = open(path, 'w')\n",
        "    writer = csv.writer(connect)\n",
        "    writer.writerow(col_names)\n",
        "    if cols:\n",
        "      writer.writerow(cols)\n",
        "    connect.close()\n",
        "\n",
        "  else:\n",
        "    connect = open(path, 'a')\n",
        "    writer = csv.writer(connect)\n",
        "    writer.writerow(cols)\n",
        "    connect.close()"
      ],
      "execution_count": null,
      "outputs": []
    },
    {
      "cell_type": "code",
      "metadata": {
        "id": "SZrKySgCubPc"
      },
      "source": [
        "# Plot Confusion Matrix:\n",
        "def confusion_plot(y_true, y_pred, path_fig, model_name):\n",
        "\n",
        "  '''\n",
        "  This function compute and plot the confusion-matrix\n",
        "    Args:\n",
        "      y_true (lst): the list of true labels\n",
        "      y_pred (lst): th elist of predicted labels\n",
        "  '''\n",
        "\n",
        "  # Get the matrix\n",
        "  labs = ['angry', 'disgust', 'fear', 'happy', 'neutral', 'sad', 'surprise']\n",
        "  conf = pd.DataFrame(confusion_matrix(y_true, y_pred, labels = list(range(7)), normalize='true'))\n",
        "\n",
        "  # Plot\n",
        "  plt.figure(figsize=(7,6))\n",
        "  palette = sns.color_palette(\"Blues\", as_cmap=True)\n",
        "  sns.heatmap(conf, annot=True, annot_kws={\"size\": 12}, linewidths=0, linecolor='black',cmap = palette, center = 0.5) # font size\n",
        "  ticks = [0.5, 1.5, 2.5, 3.5, 4.5, 5.5, 6.5]\n",
        "  plt.xticks(ticks, labs, fontsize = 14, rotation = 90)\n",
        "  plt.yticks(ticks, labs, fontsize = 14, rotation=0)\n",
        "\n",
        "  plt.savefig(path_fig + model_name + '.jpg')\n",
        "  plt.show()"
      ],
      "execution_count": null,
      "outputs": []
    },
    {
      "cell_type": "code",
      "metadata": {
        "id": "_zJmIV1h6dG4"
      },
      "source": [
        "def compute_metrics(y_true, y_pred, path_stats, model_name):\n",
        "\n",
        "  '''\n",
        "  This function automatically compute and save as csv classes and model (as avg) metrics,\n",
        "  such as precision, recall, F1 and accuracy.\n",
        "    Args:\n",
        "      y_true (lst): the list of true labels\n",
        "      y_pred (lst): th elist of predicted labels\n",
        "  '''\n",
        "\n",
        "  # Compute Metrics:\n",
        "  target_names = ['angry', 'disgust', 'fear', 'happy', 'neutral', 'sad', 'surprise']\n",
        "  metrics = classification_report(y_true, y_pred, target_names=target_names, output_dict=True)\n",
        "  \n",
        "  # DataFrame for classes metrics:\n",
        "  df = pd.DataFrame.from_dict(metrics).T\n",
        "  df.iloc[:-3, :].to_csv(path_stats + model_name + '_class_stats' + '.csv')\n",
        "\n",
        "  # Overall metrics:\n",
        "  avg_scores = df.iloc[:-3, :].mean()\n",
        "  stats = pd.DataFrame(avg_scores, columns=[model_name]).T.iloc[:,:-1]\n",
        "  stats['accuracy'] = df.iat[-3, 0]\n",
        "\n",
        "  stats.to_csv(path_stats + model_name + '_model_stats' + '.csv')\n",
        "\n",
        "  print(stats)"
      ],
      "execution_count": null,
      "outputs": []
    },
    {
      "cell_type": "code",
      "metadata": {
        "id": "fERUXQwMk1ql"
      },
      "source": [
        "# Test the model:\n",
        "\n",
        "def test(model, device, path_models, path_stats, model_name):\n",
        "\n",
        "  \"\"\"\n",
        "  This function retuns and save some statistics about the test.\n",
        "    Args:\n",
        "      model : the model to evaluate\n",
        "      path_model (str): the path where the weights are saved\n",
        "      path_stats (str): the path where to save the stats\n",
        "      model_name (str): a name to save the stats (ex. base_line, vgg, test_1, ...)\n",
        "      device (str): indicates to use cuda or cpu\n",
        "  \"\"\"\n",
        "\n",
        "  # Save y_pre, y_true:\n",
        "  y_true = []\n",
        "  y_pred = []\n",
        "\n",
        "  # Load the model:\n",
        "  best_model = None\n",
        "  best_model = torch.load(path_models + model_name + '.ckpt')\n",
        "  model.load_state_dict(best_model)\n",
        "\n",
        "  # Evaluate model:\n",
        "  model.eval() \n",
        "\n",
        "  with torch.no_grad():\n",
        "\n",
        "      for images, labels in test_loader:\n",
        "          images = images.to(device)\n",
        "          labels = labels.to(device)\n",
        "        \n",
        "          outputs = model(images)\n",
        "          _, predicted = torch.max(outputs, 1)\n",
        "\n",
        "          y_pred.extend([int(el) for el in predicted])\n",
        "          y_true.extend([int(el) for el in labels])\n",
        "\n",
        "  # Compute Metrics:\n",
        "  compute_metrics(y_true, y_pred, path_stats, model_name)\n",
        "\n",
        "  return (y_true, y_pred)"
      ],
      "execution_count": null,
      "outputs": []
    },
    {
      "cell_type": "code",
      "metadata": {
        "id": "Hhkz9wH0u56Y"
      },
      "source": [
        "def weights_init(m):\n",
        "  \"\"\"\n",
        "  This function initialize weights in the network\n",
        "    Args:\n",
        "      m : element of a sequential\n",
        "  \"\"\"\n",
        "  if type(m) == nn.Conv2d:\n",
        "    nn.init.kaiming_uniform_(m.weight)\n",
        "    #nn.init.constant_(m.bias, 0)\n",
        "  elif type(m) == nn.Linear:\n",
        "    nn.init.xavier_uniform_(m.weight)\n",
        "    nn.init.constant_(m.bias, 0)\n",
        "  elif type(m) == nn.BatchNorm2d or type(m) == nn.BatchNorm1d:\n",
        "    nn.init.constant_(m.weight, 1)\n",
        "    nn.init.constant_(m.bias, 0)\n"
      ],
      "execution_count": null,
      "outputs": []
    },
    {
      "cell_type": "code",
      "metadata": {
        "id": "zFypzanmu56c"
      },
      "source": [
        "def set_parameter_requires_grad(model, feature_extracting=True):\n",
        "  \"\"\"\n",
        "  This Function set levels as not trainables\n",
        "    Args:\n",
        "      model: the sequential model\n",
        "      feature_extracting (bool): if True set as not trainable\n",
        "  \"\"\"\n",
        "  if feature_extracting:\n",
        "    for param in model.parameters():\n",
        "      param.requires_grad = False"
      ],
      "execution_count": null,
      "outputs": []
    },
    {
      "cell_type": "markdown",
      "metadata": {
        "id": "-6J2dIBIYibm"
      },
      "source": [
        "# Optimization\n",
        "It contains the engine and the function to train the model, also suited for the optimization with optuna"
      ]
    },
    {
      "cell_type": "code",
      "metadata": {
        "id": "7Vr28HlokHzo"
      },
      "source": [
        "# Install optuna:\n",
        "%%capture\n",
        "! pip install optuna"
      ],
      "execution_count": null,
      "outputs": []
    },
    {
      "cell_type": "code",
      "metadata": {
        "id": "c4tI7bo9mFpY"
      },
      "source": [
        "# For the model:\n",
        "import torch\n",
        "import torch.nn as nn\n",
        "import optuna"
      ],
      "execution_count": null,
      "outputs": []
    },
    {
      "cell_type": "code",
      "metadata": {
        "id": "oHOa-w-Udy9Z"
      },
      "source": [
        "class Engine:\n",
        "  def __init__(self, model, optimizer, device):\n",
        "    self.model = model\n",
        "    self.device = device\n",
        "    self.optimizer = optimizer\n",
        "  \n",
        "\n",
        "  @staticmethod\n",
        "  def loss_fn(targets, outputs):\n",
        "    #return nn.NLLLoss()(outputs, targets)\n",
        "    return nn.CrossEntropyLoss()(outputs, targets)\n",
        "  def train(self, data_loader):\n",
        "    \n",
        "    # Ste variables:\n",
        "    final_loss = 0\n",
        "    total = 0\n",
        "    correct = 0\n",
        "\n",
        "    # Start training:\n",
        "    self.model.train()\n",
        "    for images, labels in data_loader:\n",
        "      \n",
        "      # Reset gradients:\n",
        "      self.optimizer.zero_grad()\n",
        "      \n",
        "      # Send imgs and labels to devie:\n",
        "      inputs = images.to(self.device)\n",
        "      targets = labels.to(self.device)\n",
        "      \n",
        "      # Compute the output the values for the accuracy:\n",
        "      outputs = self.model(inputs)\n",
        "      _, predicted = torch.max(outputs, 1)\n",
        "      total += labels.size(0)\n",
        "      correct += (predicted == targets).sum().item()\n",
        "\n",
        "      # Compute the loss:\n",
        "      loss = self.loss_fn(targets, outputs)\n",
        "      final_loss += loss.item()\n",
        "\n",
        "      # Backward:\n",
        "      loss.backward()\n",
        "      #nn.utils.clip_grad_norm_(model.parameters(), max_norm=1)\n",
        "      self.optimizer.step()\n",
        "\n",
        "\n",
        "    avg_loss = final_loss / len(data_loader)\n",
        "    acc = correct/total\n",
        "\n",
        "    return avg_loss, acc\n",
        "\n",
        "  def evaluate(self, data_loader):\n",
        "    \n",
        "    # Set variables:\n",
        "    final_loss = 0\n",
        "    total = 0\n",
        "    correct = 0\n",
        "\n",
        "    # Start Evaluation:\n",
        "    self.model.eval()\n",
        "    with torch.no_grad():\n",
        "      for images, labels in data_loader:\n",
        "        \n",
        "        inputs = images.to(self.device)\n",
        "        targets = labels.to(self.device)\n",
        "\n",
        "        outputs = self.model(inputs)\n",
        "        \n",
        "        _, predicted = torch.max(outputs, 1)\n",
        "        total += labels.size(0)\n",
        "        correct += (predicted == targets).sum().item()\n",
        "\n",
        "        # Compute the loss:\n",
        "        loss = self.loss_fn(targets, outputs)\n",
        "        final_loss += loss.item()\n",
        "    \n",
        "    avg_loss = final_loss / len(data_loader)\n",
        "    acc = correct/total\n",
        "\n",
        "    return avg_loss, acc"
      ],
      "execution_count": null,
      "outputs": []
    },
    {
      "cell_type": "code",
      "metadata": {
        "id": "gJsuPb2UIMdb"
      },
      "source": [
        "# Training function:\n",
        "def update_lr(optimizer, lr):\n",
        "    for param_group in optimizer.param_groups:\n",
        "        param_group['lr'] = lr\n",
        "\n",
        "\n",
        "def run_train(num_epochs, early_stopping, train_transform, valid_transform, batch_size,\n",
        "              model_name, path_stats, path_models, path_data, device, model,\n",
        "              weight_decay=0, learning_rate=None, learning_rate_decay=None, params=None, balanced=True):\n",
        " \n",
        "  # Define the model\n",
        "\n",
        "  # Load data:\n",
        "  if not params:\n",
        "    \n",
        "    train_loader = CustomDataLoader(path_data, transformations=train_transform, batch_size=batch_size, as_df='train',balanced=balanced)\n",
        "    valid_loader = CustomDataLoader(path_data, transformations=valid_transform, batch_size=batch_size, as_df='valid' ,balanced=balanced)\n",
        "\n",
        "  \n",
        "    optimizer = optim.Adam(model.parameters(), lr=learning_rate,  weight_decay=weight_decay)\n",
        "    \n",
        "    scheduler1 = optim.lr_scheduler.ExponentialLR(optimizer, learning_rate_decay)\n",
        "    scheduler2 = optim.lr_scheduler.ReduceLROnPlateau(optimizer, patience=5, threshold=0.001)\n",
        "    \n",
        "    eng = Engine(model, optimizer, device)\n",
        "  \n",
        "  else:\n",
        "    # Load data:\n",
        "    train_loader = CustomDataLoader(path_data, transformations=train_transform, batch_size=params['batch_size'], as_df='train', balanced=balanced)\n",
        "    valid_loader = CustomDataLoader(path_data, transformations=valid_transform, batch_size=params['batch_size'], as_df='valid', balanced=balanced)\n",
        "\n",
        "    #Define model:\n",
        "    optimizer = optim.Adam(model.parameters(), lr=params['learning_rate'], weight_decay=params['weight_decay'])\n",
        "   \n",
        "    learning_rate_decay = params['learning_rate_decay']\n",
        "    scheduler1 = optim.lr_scheduler.ExponentialLR(optimizer, learning_rate_decay)\n",
        "    scheduler2 = optim.lr_scheduler.ReduceLROnPlateau(optimizer, patience=5, threshold=0.001)\n",
        "    \n",
        "    \n",
        "    eng = Engine(model, optimizer, device)\n",
        "\n",
        "  #Set columns name for csv:\n",
        "  col_names = ['model_name','epoch', 'loss_train', 'loss_valid', 'acc_train', 'acc_valid']\n",
        "  save_csv(model_name, path_stats, col_names=col_names, new_file=True)\n",
        "\n",
        "  # Set Variables:\n",
        "  best_loss = np.inf\n",
        "  early_stopping_iter =  early_stopping\n",
        "  early_stopping_counter = 0\n",
        "\n",
        "  # Start:\n",
        "  for epoch in range(num_epochs):\n",
        "    # Train:\n",
        "    loss_t, acc_t = eng.train(train_loader)\n",
        "    print(f'Epoch: {epoch + 1} Loss Train: {loss_t} Train Accuracy: {acc_t}')\n",
        "      \n",
        "    # Validation:\n",
        "    loss_v, acc_v = eng.evaluate(valid_loader)\n",
        "    print(f'Epoch: {epoch + 1} Loss Validation: {loss_v} Validation Accuracy: {acc_v}')\n",
        "      \n",
        "    # Save eveything to csv:\n",
        "\n",
        "    if not params:\n",
        "      to_csv=[model_name, epoch, loss_t, loss_v, acc_t, acc_v]\n",
        "      save_csv(model_name, path_stats, cols=to_csv, new_file=False)\n",
        "\n",
        "    # Schedule loss:\n",
        "    \n",
        "      scheduler1.step(loss_v)\n",
        "      scheduler2.step(loss_v)\n",
        "\n",
        "    # Early stopping:\n",
        "\n",
        "    if loss_v < best_loss:\n",
        "      best_loss = loss_v\n",
        "      torch.save(model.state_dict(), path_models + model_name + '.ckpt')\n",
        "    else:\n",
        "        early_stopping_counter += 1\n",
        "\n",
        "\n",
        "    if early_stopping_counter > early_stopping_iter:\n",
        "      break\n",
        "\n",
        "  # Save the model checkpoint\n",
        "  torch.save(model.state_dict(), path_models + model_name + '.ckpt')\n",
        "\n",
        "  return best_loss"
      ],
      "execution_count": null,
      "outputs": []
    },
    {
      "cell_type": "code",
      "metadata": {
        "id": "5RjHVTyCkTEo"
      },
      "source": [
        "def objective(trial):\n",
        "  params = {\n",
        "      'learning_rate': trial.suggest_loguniform('learning_rate', 1e-5, 1e-2),\n",
        "      'learning_rate_decay': trial.suggest_loguniform('learning_rate_decay', 1e-5, 1e-3),\n",
        "      'weight_decay': trial.suggest_loguniform('momentum', 1e-6, 1e-3),\n",
        "      'batch_size': trial.suggest_int('batch_size', 60, 150)\n",
        "\n",
        "  }\n",
        "  num_epochs=50\n",
        "  early_stopping = 30\n",
        "  batch_size = 80\n",
        "  model_name = 'optimization'\n",
        "  path_stats = PATH_STATS\n",
        "  path_models = PATH_MODELS\n",
        "  path_data = PATH_DATA\n",
        "  device = torch.device('cuda' if torch.cuda.is_available() else 'cpu')\n",
        "\n",
        "  model = Model().to(device)\n",
        "\n",
        "  train_transform = transforms.Compose([HistEqualization(),\n",
        "                                        transforms.RandomHorizontalFlip(p=0.5),\n",
        "                                        transforms.RandomApply(torch.nn.ModuleList([transforms.RandomAffine(degrees=(-10, +10))]), p=0.5),\n",
        "                                        transforms.RandomApply(torch.nn.ModuleList([transforms.RandomAffine(degrees=0, translate=(0.20,0.20))]), p=0.5),\n",
        "                                        transforms.ToTensor(),\n",
        "                                        transforms.Normalize(mean=[0.485, 0.456, 0.406], std=[0.229, 0.224, 0.225])\n",
        "                                    ])\n",
        "                                      \n",
        "  validation_transform = transforms.Compose([HistEqualization(),\n",
        "                                      transforms.ToTensor(),\n",
        "                                      transforms.Normalize(mean=[0.485, 0.456, 0.406], std=[0.229, 0.224, 0.225])\n",
        "                                      ])\n",
        "\n",
        "  loss = run_train(num_epochs, early_stopping, train_transform, valid_transform, batch_size,\n",
        "                   model_name, path_stats, path_models, path_data, device, model,\n",
        "                  weight_decay=0, learning_rate=None, learning_rate_decay=None, params=params, balanced=True)\n",
        "  \n",
        "  return np.mean(loss)"
      ],
      "execution_count": null,
      "outputs": []
    },
    {
      "cell_type": "code",
      "metadata": {
        "colab": {
          "base_uri": "https://localhost:8080/",
          "height": 1000
        },
        "id": "ClXPn3gzl3iz",
        "outputId": "9eca50b7-21e7-4ac3-a213-11494716d2d6"
      },
      "source": [
        "\n",
        "# Optimization Process:\n",
        "study = optuna.create_study(direction='minimize', storage=\"sqlite:///basel_line.db\", study_name=\"base_line_opt\")\n",
        "study.optimize(objective, n_trials=10)\n",
        "\n",
        "print('best trial')\n",
        "trial_ = study.best_trial\n",
        "\n",
        "if type(study.best_trial) != optuna.trial._frozen.FrozenTrial:\n",
        "  print(trial_.values)\n",
        "  print(trial_.params)\n"
      ],
      "execution_count": null,
      "outputs": [
        {
          "output_type": "stream",
          "text": [
            "\u001b[32m[I 2021-01-06 17:31:34,919]\u001b[0m A new study created in memory with name: no-name-fe5c93d0-355a-46be-a89b-9ffdc1829f77\u001b[0m\n",
            "/usr/local/lib/python3.6/dist-packages/torch/nn/modules/container.py:117: UserWarning:\n",
            "\n",
            "Implicit dimension choice for log_softmax has been deprecated. Change the call to include dim=X as an argument.\n",
            "\n"
          ],
          "name": "stderr"
        },
        {
          "output_type": "stream",
          "text": [
            "Epoch: 1 Loss Train: 1.9524175081497583 Train Accuracy: 0.1654370582100506\n",
            "Epoch: 1 Loss Validation: 1.9185340685002945 Validation Accuracy: 0.09078014184397164\n",
            "Epoch: 2 Loss Train: 1.8688967671149816 Train Accuracy: 0.2242651319093051\n",
            "Epoch: 2 Loss Validation: 1.8649048419559704 Validation Accuracy: 0.22127659574468084\n",
            "Epoch: 3 Loss Train: 1.803308218717575 Train Accuracy: 0.27502027888292324\n",
            "Epoch: 3 Loss Validation: 1.7640270590782166 Validation Accuracy: 0.23120567375886525\n",
            "Epoch: 4 Loss Train: 1.746227394311856 Train Accuracy: 0.3082390204333887\n",
            "Epoch: 4 Loss Validation: 1.5725539011113785 Validation Accuracy: 0.38652482269503546\n",
            "Epoch: 5 Loss Train: 1.6859598052807343 Train Accuracy: 0.3368225887442543\n",
            "Epoch: 5 Loss Validation: 1.530868444372626 Validation Accuracy: 0.3900709219858156\n",
            "Epoch: 6 Loss Train: 1.6470427008775563 Train Accuracy: 0.3565220750125536\n",
            "Epoch: 6 Loss Validation: 1.456869346254012 Validation Accuracy: 0.4173758865248227\n",
            "Epoch: 7 Loss Train: 1.6071132669846218 Train Accuracy: 0.37680095793580287\n",
            "Epoch: 7 Loss Validation: 1.4376166234998142 Validation Accuracy: 0.4450354609929078\n",
            "Epoch: 8 Loss Train: 1.5801586676866581 Train Accuracy: 0.3885820232531191\n",
            "Epoch: 8 Loss Validation: 1.3065033686511658 Validation Accuracy: 0.48617021276595745\n",
            "Epoch: 9 Loss Train: 1.547145976087986 Train Accuracy: 0.40171501409865196\n",
            "Epoch: 9 Loss Validation: 1.4206040431471432 Validation Accuracy: 0.4450354609929078\n",
            "Epoch: 10 Loss Train: 1.536619782829896 Train Accuracy: 0.4077407393101317\n",
            "Epoch: 10 Loss Validation: 1.3340673990109388 Validation Accuracy: 0.4673758865248227\n",
            "Epoch: 11 Loss Train: 1.5084134630667858 Train Accuracy: 0.4175904824442814\n",
            "Epoch: 11 Loss Validation: 1.342919779174468 Validation Accuracy: 0.475531914893617\n",
            "Epoch: 12 Loss Train: 1.4935562633551085 Train Accuracy: 0.42689945536714435\n",
            "Epoch: 12 Loss Validation: 1.3448911081342136 Validation Accuracy: 0.47127659574468084\n",
            "Epoch: 13 Loss Train: 1.47948711957687 Train Accuracy: 0.4312642435011009\n",
            "Epoch: 13 Loss Validation: 1.3195419136215658 Validation Accuracy: 0.48226950354609927\n",
            "Epoch: 14 Loss Train: 1.4588643618119068 Train Accuracy: 0.44072772219861717\n",
            "Epoch: 14 Loss Validation: 1.4258288066176807 Validation Accuracy: 0.45673758865248226\n",
            "Epoch: 15 Loss Train: 1.4457155370559447 Train Accuracy: 0.45026845378346014\n",
            "Epoch: 15 Loss Validation: 1.330374507343068 Validation Accuracy: 0.4875886524822695\n",
            "Epoch: 16 Loss Train: 1.427004255545445 Train Accuracy: 0.45409247170613004\n",
            "Epoch: 16 Loss Validation: 1.278300813454039 Validation Accuracy: 0.5205673758865248\n",
            "Epoch: 17 Loss Train: 1.4054925770331652 Train Accuracy: 0.46336281818532965\n",
            "Epoch: 17 Loss Validation: 1.2576729252057917 Validation Accuracy: 0.5014184397163121\n",
            "Epoch: 18 Loss Train: 1.3913149715234072 Train Accuracy: 0.4729808026574993\n",
            "Epoch: 18 Loss Validation: 1.2501954182105905 Validation Accuracy: 0.5145390070921986\n",
            "Epoch: 19 Loss Train: 1.3815717907288136 Train Accuracy: 0.471667503572946\n",
            "Epoch: 19 Loss Validation: 1.3740987392032848 Validation Accuracy: 0.4854609929078014\n",
            "Epoch: 20 Loss Train: 1.3650773408321233 Train Accuracy: 0.4844142299818456\n",
            "Epoch: 20 Loss Validation: 1.1364365851177889 Validation Accuracy: 0.5613475177304964\n",
            "Epoch: 21 Loss Train: 1.341096354982792 Train Accuracy: 0.49190776005253195\n",
            "Epoch: 21 Loss Validation: 1.2621417334851097 Validation Accuracy: 0.5230496453900709\n",
            "Epoch: 22 Loss Train: 1.335642342384045 Train Accuracy: 0.4995171694542084\n",
            "Epoch: 22 Loss Validation: 1.264549599850879 Validation Accuracy: 0.5269503546099291\n",
            "Epoch: 23 Loss Train: 1.3276081394690733 Train Accuracy: 0.5007532156514349\n",
            "Epoch: 23 Loss Validation: 1.127645096358131 Validation Accuracy: 0.5712765957446808\n",
            "Epoch: 24 Loss Train: 1.2976010667207913 Train Accuracy: 0.5113754876588512\n",
            "Epoch: 24 Loss Validation: 1.150801560458015 Validation Accuracy: 0.5528368794326242\n",
            "Epoch: 25 Loss Train: 1.2923238136065311 Train Accuracy: 0.5122252694194446\n",
            "Epoch: 25 Loss Validation: 1.1618539094924927 Validation Accuracy: 0.5460992907801419\n",
            "Epoch: 26 Loss Train: 1.2798441388668158 Train Accuracy: 0.5224226505465642\n",
            "Epoch: 26 Loss Validation: 1.1126426624901153 Validation Accuracy: 0.5712765957446808\n",
            "Epoch: 27 Loss Train: 1.2622528905287766 Train Accuracy: 0.5222681447719109\n",
            "Epoch: 27 Loss Validation: 1.147432424566325 Validation Accuracy: 0.5741134751773049\n",
            "Epoch: 28 Loss Train: 1.2627813363304505 Train Accuracy: 0.5247402371663641\n",
            "Epoch: 28 Loss Validation: 1.1450857905780567 Validation Accuracy: 0.5570921985815603\n",
            "Epoch: 29 Loss Train: 1.2531308961602359 Train Accuracy: 0.5270578237861641\n",
            "Epoch: 29 Loss Validation: 1.08794806284063 Validation Accuracy: 0.5875886524822695\n",
            "Epoch: 30 Loss Train: 1.2428133233617513 Train Accuracy: 0.5309204681524972\n",
            "Epoch: 30 Loss Validation: 1.0701751726515152 Validation Accuracy: 0.5900709219858156\n",
            "Epoch: 31 Loss Train: 1.2285074960344877 Train Accuracy: 0.5367530611456603\n",
            "Epoch: 31 Loss Validation: 1.1096878384842592 Validation Accuracy: 0.5762411347517731\n",
            "Epoch: 32 Loss Train: 1.2219328028269303 Train Accuracy: 0.5409247170613002\n",
            "Epoch: 32 Loss Validation: 1.0861795658574385 Validation Accuracy: 0.5851063829787234\n",
            "Epoch: 33 Loss Train: 1.2077051152785618 Train Accuracy: 0.54382170033605\n",
            "Epoch: 33 Loss Validation: 1.0617303988512825 Validation Accuracy: 0.5950354609929078\n",
            "Epoch: 34 Loss Train: 1.2123426808378635 Train Accuracy: 0.5421993897021902\n",
            "Epoch: 34 Loss Validation: 1.1116871053681654 Validation Accuracy: 0.5790780141843972\n",
            "Epoch: 35 Loss Train: 1.1909144333539865 Train Accuracy: 0.5506585808644598\n",
            "Epoch: 35 Loss Validation: 1.1169625222682953 Validation Accuracy: 0.5787234042553191\n",
            "Epoch: 36 Loss Train: 1.2030123699551973 Train Accuracy: 0.5459461547375333\n",
            "Epoch: 36 Loss Validation: 1.0719034847091227 Validation Accuracy: 0.5943262411347517\n",
            "Epoch: 37 Loss Train: 1.1815345625464733 Train Accuracy: 0.5572637027308895\n",
            "Epoch: 37 Loss Validation: 1.0652278679258682 Validation Accuracy: 0.5964539007092199\n",
            "Epoch: 38 Loss Train: 1.1862323167614448 Train Accuracy: 0.5521650121673297\n",
            "Epoch: 38 Loss Validation: 1.0679625711020302 Validation Accuracy: 0.5868794326241135\n",
            "Epoch: 39 Loss Train: 1.184346929192543 Train Accuracy: 0.5530920468152497\n",
            "Epoch: 39 Loss Validation: 1.0867126391214483 Validation Accuracy: 0.5921985815602837\n",
            "Epoch: 40 Loss Train: 1.1734560433870707 Train Accuracy: 0.5566843060759396\n",
            "Epoch: 40 Loss Validation: 1.052284192513017 Validation Accuracy: 0.5921985815602837\n",
            "Epoch: 41 Loss Train: 1.1609318126470616 Train Accuracy: 0.5608559619915794\n",
            "Epoch: 41 Loss Validation: 1.0309110783478792 Validation Accuracy: 0.6095744680851064\n",
            "Epoch: 42 Loss Train: 1.1523536974802995 Train Accuracy: 0.5680791069566224\n",
            "Epoch: 42 Loss Validation: 1.0692594480865143 Validation Accuracy: 0.5968085106382979\n",
            "Epoch: 43 Loss Train: 1.142769659941013 Train Accuracy: 0.5635211866043494\n",
            "Epoch: 43 Loss Validation: 1.054092081154094 Validation Accuracy: 0.6007092198581561\n",
            "Epoch: 44 Loss Train: 1.151365360388389 Train Accuracy: 0.5643709683649426\n",
            "Epoch: 44 Loss Validation: 1.037388018825475 Validation Accuracy: 0.6028368794326241\n",
            "Epoch: 45 Loss Train: 1.138883623175132 Train Accuracy: 0.5678473482946426\n"
          ],
          "name": "stdout"
        },
        {
          "output_type": "stream",
          "text": [
            "\u001b[32m[I 2021-01-06 18:01:08,199]\u001b[0m Trial 0 finished with value: 1.0309110783478792 and parameters: {'learning_rate': 0.000939672972836573, 'learning_rate_decay': 0.0008985105789973733, 'momentum': 1.9010936462972558e-06, 'batch_size': 83}. Best is trial 0 with value: 1.0309110783478792.\u001b[0m\n"
          ],
          "name": "stderr"
        },
        {
          "output_type": "stream",
          "text": [
            "Epoch: 45 Loss Validation: 1.0566545812522663 Validation Accuracy: 0.601418439716312\n",
            "Epoch: 1 Loss Train: 1.9674011495087174 Train Accuracy: 0.14844142299818455\n",
            "Epoch: 1 Loss Validation: 1.954860838254293 Validation Accuracy: 0.1099290780141844\n",
            "Epoch: 2 Loss Train: 1.9460842216407859 Train Accuracy: 0.14334273243462475\n",
            "Epoch: 2 Loss Validation: 1.9434938430786133 Validation Accuracy: 0.1099290780141844\n",
            "Epoch: 3 Loss Train: 1.946079012675163 Train Accuracy: 0.14457877863185137\n",
            "Epoch: 3 Loss Validation: 1.950992484887441 Validation Accuracy: 0.1425531914893617\n",
            "Epoch: 4 Loss Train: 1.9460887542137733 Train Accuracy: 0.14508092239947468\n",
            "Epoch: 4 Loss Validation: 1.9444888869921366 Validation Accuracy: 0.14432624113475176\n",
            "Epoch: 5 Loss Train: 1.9461963285893311 Train Accuracy: 0.1426860828923481\n",
            "Epoch: 5 Loss Validation: 1.9433458964029948 Validation Accuracy: 0.1099290780141844\n",
            "Epoch: 6 Loss Train: 1.9461084080266429 Train Accuracy: 0.14056162849086484\n",
            "Epoch: 6 Loss Validation: 1.944499627749125 Validation Accuracy: 0.1652482269503546\n",
            "Epoch: 7 Loss Train: 1.9461569576473026 Train Accuracy: 0.1417204218007648\n",
            "Epoch: 7 Loss Validation: 1.9372129440307617 Validation Accuracy: 0.18014184397163122\n",
            "Epoch: 8 Loss Train: 1.9463215930994613 Train Accuracy: 0.13955734095561823\n",
            "Epoch: 8 Loss Validation: 1.9534350633621216 Validation Accuracy: 0.1099290780141844\n",
            "Epoch: 9 Loss Train: 1.9460007017785377 Train Accuracy: 0.14457877863185137\n",
            "Epoch: 9 Loss Validation: 1.9518715341885884 Validation Accuracy: 0.012056737588652482\n",
            "Epoch: 10 Loss Train: 1.9461344524180932 Train Accuracy: 0.1433041059909614\n",
            "Epoch: 10 Loss Validation: 1.9470086415608725 Validation Accuracy: 0.24574468085106382\n",
            "Epoch: 11 Loss Train: 1.9464677912848336 Train Accuracy: 0.13608096102591835\n",
            "Epoch: 11 Loss Validation: 1.943877653280894 Validation Accuracy: 0.1425531914893617\n",
            "Epoch: 12 Loss Train: 1.9462143763517723 Train Accuracy: 0.13839854764571827\n",
            "Epoch: 12 Loss Validation: 1.945808211962382 Validation Accuracy: 0.1652482269503546\n",
            "Epoch: 13 Loss Train: 1.9462571550201584 Train Accuracy: 0.14322685310363475\n",
            "Epoch: 13 Loss Validation: 1.9472745815912882 Validation Accuracy: 0.18014184397163122\n",
            "Epoch: 14 Loss Train: 1.9461131248718653 Train Accuracy: 0.1428019622233381\n",
            "Epoch: 14 Loss Validation: 1.9455230077107748 Validation Accuracy: 0.1099290780141844\n",
            "Epoch: 15 Loss Train: 1.9463421154371547 Train Accuracy: 0.1413727838077948\n",
            "Epoch: 15 Loss Validation: 1.942018242677053 Validation Accuracy: 0.1652482269503546\n",
            "Epoch: 16 Loss Train: 1.946472582362947 Train Accuracy: 0.14005948472324153\n",
            "Epoch: 16 Loss Validation: 1.9448911388715109 Validation Accuracy: 0.13900709219858157\n",
            "Epoch: 17 Loss Train: 1.9461409220328698 Train Accuracy: 0.14117965158947815\n",
            "Epoch: 17 Loss Validation: 1.9473056117693583 Validation Accuracy: 0.14432624113475176\n",
            "Epoch: 18 Loss Train: 1.9469634010678245 Train Accuracy: 0.14419251419521806\n",
            "Epoch: 18 Loss Validation: 1.9427006642023723 Validation Accuracy: 0.24574468085106382\n",
            "Epoch: 19 Loss Train: 1.9460685716007218 Train Accuracy: 0.15365599289273438\n",
            "Epoch: 19 Loss Validation: 1.9566288113594055 Validation Accuracy: 0.012411347517730497\n",
            "Epoch: 20 Loss Train: 1.9447133519273974 Train Accuracy: 0.1540422573293677\n",
            "Epoch: 20 Loss Validation: 1.95816912651062 Validation Accuracy: 0.02198581560283688\n",
            "Epoch: 21 Loss Train: 1.9425364785141996 Train Accuracy: 0.15995210320985748\n",
            "Epoch: 21 Loss Validation: 1.9501009583473206 Validation Accuracy: 0.0875886524822695\n",
            "Epoch: 22 Loss Train: 1.9395761398168712 Train Accuracy: 0.16064737919579744\n",
            "Epoch: 22 Loss Validation: 1.964985458056132 Validation Accuracy: 0.15425531914893617\n",
            "Epoch: 23 Loss Train: 1.921077623472109 Train Accuracy: 0.18502066514735988\n",
            "Epoch: 23 Loss Validation: 1.8212327678998312 Validation Accuracy: 0.3191489361702128\n",
            "Epoch: 24 Loss Train: 1.8832749198207925 Train Accuracy: 0.22411062613465177\n",
            "Epoch: 24 Loss Validation: 1.9012364228566487 Validation Accuracy: 0.1698581560283688\n",
            "Epoch: 25 Loss Train: 1.8603456963549603 Train Accuracy: 0.24071999690988452\n",
            "Epoch: 25 Loss Validation: 1.8191930413246156 Validation Accuracy: 0.275177304964539\n",
            "Epoch: 26 Loss Train: 1.8348867858285869 Train Accuracy: 0.2595697014175905\n",
            "Epoch: 26 Loss Validation: 1.744858690102895 Validation Accuracy: 0.29432624113475175\n",
            "Epoch: 27 Loss Train: 1.8142782829620026 Train Accuracy: 0.26509328286144695\n",
            "Epoch: 27 Loss Validation: 1.7376227299372355 Validation Accuracy: 0.3067375886524823\n",
            "Epoch: 28 Loss Train: 1.7950051311171535 Train Accuracy: 0.2818185329676697\n",
            "Epoch: 28 Loss Validation: 1.6929933547973632 Validation Accuracy: 0.34893617021276596\n",
            "Epoch: 29 Loss Train: 1.7649675887146277 Train Accuracy: 0.2961489435667658\n",
            "Epoch: 29 Loss Validation: 1.6465375622113545 Validation Accuracy: 0.37056737588652483\n",
            "Epoch: 30 Loss Train: 1.7587893886880561 Train Accuracy: 0.3007454903627023\n",
            "Epoch: 30 Loss Validation: 1.6298902074495951 Validation Accuracy: 0.3769503546099291\n",
            "Epoch: 31 Loss Train: 1.7339142517292456 Train Accuracy: 0.31387848120823514\n",
            "Epoch: 31 Loss Validation: 1.5637566526730855 Validation Accuracy: 0.3797872340425532\n",
            "Epoch: 32 Loss Train: 1.7235822760578476 Train Accuracy: 0.31743211402526167\n",
            "Epoch: 32 Loss Validation: 1.5929973602294922 Validation Accuracy: 0.3790780141843972\n",
            "Epoch: 33 Loss Train: 1.712222430732224 Train Accuracy: 0.3228011896944648\n",
            "Epoch: 33 Loss Validation: 1.5548107504844666 Validation Accuracy: 0.40177304964539007\n",
            "Epoch: 34 Loss Train: 1.7030561057639209 Train Accuracy: 0.33114450152574454\n",
            "Epoch: 34 Loss Validation: 1.5230339467525482 Validation Accuracy: 0.39148936170212767\n",
            "Epoch: 35 Loss Train: 1.697941249980158 Train Accuracy: 0.3338869790258411\n",
            "Epoch: 35 Loss Validation: 1.5134033342202504 Validation Accuracy: 0.40390070921985816\n",
            "Epoch: 36 Loss Train: 1.6751490805175278 Train Accuracy: 0.3422302908571208\n",
            "Epoch: 36 Loss Validation: 1.5308341185251872 Validation Accuracy: 0.3822695035460993\n",
            "Epoch: 37 Loss Train: 1.6655440950568343 Train Accuracy: 0.34589980300513734\n",
            "Epoch: 37 Loss Validation: 1.4776625752449035 Validation Accuracy: 0.4134751773049645\n",
            "Epoch: 38 Loss Train: 1.6653224592243796 Train Accuracy: 0.3491057978291939\n",
            "Epoch: 38 Loss Validation: 1.4575424015522003 Validation Accuracy: 0.4226950354609929\n",
            "Epoch: 39 Loss Train: 1.654988474461622 Train Accuracy: 0.353663718181467\n",
            "Epoch: 39 Loss Validation: 1.5332216660181681 Validation Accuracy: 0.3893617021276596\n",
            "Epoch: 40 Loss Train: 1.6427606156457475 Train Accuracy: 0.35953493761829347\n",
            "Epoch: 40 Loss Validation: 1.4645024637381236 Validation Accuracy: 0.43049645390070923\n",
            "Epoch: 41 Loss Train: 1.6346616644562382 Train Accuracy: 0.3692301749777898\n",
            "Epoch: 41 Loss Validation: 1.4260736187299092 Validation Accuracy: 0.4453900709219858\n",
            "Epoch: 42 Loss Train: 1.6282517027942252 Train Accuracy: 0.36845764610452314\n",
            "Epoch: 42 Loss Validation: 1.4787315845489502 Validation Accuracy: 0.4219858156028369\n",
            "Epoch: 43 Loss Train: 1.6201716578487075 Train Accuracy: 0.36938468075244313\n",
            "Epoch: 43 Loss Validation: 1.4364062070846557 Validation Accuracy: 0.4375886524822695\n",
            "Epoch: 44 Loss Train: 1.6238324140017724 Train Accuracy: 0.3668353354706632\n"
          ],
          "name": "stdout"
        },
        {
          "output_type": "stream",
          "text": [
            "\u001b[32m[I 2021-01-06 18:29:13,061]\u001b[0m Trial 1 finished with value: 1.4260736187299092 and parameters: {'learning_rate': 0.0028194805413793546, 'learning_rate_decay': 0.0008113745004555864, 'momentum': 1.5247819588054587e-05, 'batch_size': 95}. Best is trial 0 with value: 1.0309110783478792.\u001b[0m\n"
          ],
          "name": "stderr"
        },
        {
          "output_type": "stream",
          "text": [
            "Epoch: 44 Loss Validation: 1.4549839655558268 Validation Accuracy: 0.42624113475177305\n",
            "Epoch: 1 Loss Train: 1.999497917913041 Train Accuracy: 0.15187917648422108\n",
            "Epoch: 1 Loss Validation: 1.947764178802227 Validation Accuracy: 0.16453900709219857\n",
            "Epoch: 2 Loss Train: 1.9463165251713879 Train Accuracy: 0.14067750782185484\n",
            "Epoch: 2 Loss Validation: 1.9502369576487049 Validation Accuracy: 0.1425531914893617\n",
            "Epoch: 3 Loss Train: 1.9462408119777463 Train Accuracy: 0.145467186836108\n",
            "Epoch: 3 Loss Validation: 1.9437901644871152 Validation Accuracy: 0.18014184397163122\n",
            "Epoch: 4 Loss Train: 1.946168828910252 Train Accuracy: 0.14322685310363475\n",
            "Epoch: 4 Loss Validation: 1.948767094776548 Validation Accuracy: 0.18014184397163122\n",
            "Epoch: 5 Loss Train: 1.9462289040943361 Train Accuracy: 0.1436517439839314\n",
            "Epoch: 5 Loss Validation: 1.95029825999819 Validation Accuracy: 0.11028368794326242\n",
            "Epoch: 6 Loss Train: 1.946581479288497 Train Accuracy: 0.14044574915987484\n",
            "Epoch: 6 Loss Validation: 1.9447314204840824 Validation Accuracy: 0.1425531914893617\n",
            "Epoch: 7 Loss Train: 1.9462100933182915 Train Accuracy: 0.1400208582795782\n",
            "Epoch: 7 Loss Validation: 1.9422002003110688 Validation Accuracy: 0.1652482269503546\n",
            "Epoch: 8 Loss Train: 1.9462104504963138 Train Accuracy: 0.1413341573641315\n",
            "Epoch: 8 Loss Validation: 1.949276278758871 Validation Accuracy: 0.14432624113475176\n",
            "Epoch: 9 Loss Train: 1.9463728292933051 Train Accuracy: 0.14589207771640464\n",
            "Epoch: 9 Loss Validation: 1.9515987100272343 Validation Accuracy: 0.1099290780141844\n",
            "Epoch: 10 Loss Train: 1.946208579135391 Train Accuracy: 0.14114102514581484\n",
            "Epoch: 10 Loss Validation: 1.947903193276504 Validation Accuracy: 0.1652482269503546\n",
            "Epoch: 11 Loss Train: 1.9474100252367414 Train Accuracy: 0.1429178415543281\n",
            "Epoch: 11 Loss Validation: 1.9408584339865322 Validation Accuracy: 0.16276595744680852\n",
            "Epoch: 12 Loss Train: 1.9467818656057683 Train Accuracy: 0.14538993394878133\n",
            "Epoch: 12 Loss Validation: 1.921252180790079 Validation Accuracy: 0.17092198581560283\n",
            "Epoch: 13 Loss Train: 1.9446808747525486 Train Accuracy: 0.15257445247016108\n",
            "Epoch: 13 Loss Validation: 1.9619309984404465 Validation Accuracy: 0.14432624113475176\n",
            "Epoch: 14 Loss Train: 1.9435817853459771 Train Accuracy: 0.15141565916026112\n",
            "Epoch: 14 Loss Validation: 1.9545571845153282 Validation Accuracy: 0.14432624113475176\n",
            "Epoch: 15 Loss Train: 1.943665104092292 Train Accuracy: 0.15265170535748773\n",
            "Epoch: 15 Loss Validation: 1.959302228072594 Validation Accuracy: 0.1099290780141844\n",
            "Epoch: 16 Loss Train: 1.9411450260090377 Train Accuracy: 0.15867743056896752\n",
            "Epoch: 16 Loss Validation: 1.9560767905465488 Validation Accuracy: 0.14432624113475176\n",
            "Epoch: 17 Loss Train: 1.9418523113682584 Train Accuracy: 0.15693924060411757\n",
            "Epoch: 17 Loss Validation: 1.9450871780000885 Validation Accuracy: 0.10283687943262411\n",
            "Epoch: 18 Loss Train: 1.9345210601698677 Train Accuracy: 0.1662868399706439\n",
            "Epoch: 18 Loss Validation: 1.9568926835882252 Validation Accuracy: 0.14574468085106382\n",
            "Epoch: 19 Loss Train: 1.926438399980653 Train Accuracy: 0.18811078064042644\n",
            "Epoch: 19 Loss Validation: 1.9191420612664059 Validation Accuracy: 0.19929078014184398\n",
            "Epoch: 20 Loss Train: 1.9153423300329244 Train Accuracy: 0.2022480590212059\n",
            "Epoch: 20 Loss Validation: 1.9546999396948979 Validation Accuracy: 0.13865248226950355\n",
            "Epoch: 21 Loss Train: 1.9046952049687225 Train Accuracy: 0.20993472131020896\n",
            "Epoch: 21 Loss Validation: 1.9815855149565071 Validation Accuracy: 0.13085106382978723\n",
            "Epoch: 22 Loss Train: 1.8924426213750298 Train Accuracy: 0.2151879176484221\n",
            "Epoch: 22 Loss Validation: 1.9049912156729862 Validation Accuracy: 0.1726950354609929\n",
            "Epoch: 23 Loss Train: 1.890465457034561 Train Accuracy: 0.21955270578237862\n",
            "Epoch: 23 Loss Validation: 1.992277219377715 Validation Accuracy: 0.125531914893617\n",
            "Epoch: 24 Loss Train: 1.8850057462476335 Train Accuracy: 0.21789176870485535\n",
            "Epoch: 24 Loss Validation: 1.9538894398459072 Validation Accuracy: 0.1326241134751773\n",
            "Epoch: 25 Loss Train: 1.8758785441236676 Train Accuracy: 0.22820502916296498\n",
            "Epoch: 25 Loss Validation: 1.9708490782770618 Validation Accuracy: 0.13191489361702127\n",
            "Epoch: 26 Loss Train: 1.8764395691313833 Train Accuracy: 0.2285912935995983\n",
            "Epoch: 26 Loss Validation: 1.930875691874274 Validation Accuracy: 0.1524822695035461\n",
            "Epoch: 27 Loss Train: 1.8691808003299641 Train Accuracy: 0.2311406388813782\n",
            "Epoch: 27 Loss Validation: 1.904091423955457 Validation Accuracy: 0.174822695035461\n",
            "Epoch: 28 Loss Train: 1.8666591464348559 Train Accuracy: 0.23508053613503804\n",
            "Epoch: 28 Loss Validation: 1.9856502475409672 Validation Accuracy: 0.12978723404255318\n",
            "Epoch: 29 Loss Train: 1.8610466610710577 Train Accuracy: 0.23446251303642474\n",
            "Epoch: 29 Loss Validation: 1.8633984409529587 Validation Accuracy: 0.25177304964539005\n",
            "Epoch: 30 Loss Train: 1.8644708961810705 Train Accuracy: 0.23898180694503457\n",
            "Epoch: 30 Loss Validation: 1.884014503709201 Validation Accuracy: 0.2078014184397163\n",
            "Epoch: 31 Loss Train: 1.8623264996510631 Train Accuracy: 0.23851828962107458\n",
            "Epoch: 31 Loss Validation: 1.9455087575419197 Validation Accuracy: 0.17340425531914894\n",
            "Epoch: 32 Loss Train: 1.856078106502317 Train Accuracy: 0.24044961180424118\n",
            "Epoch: 32 Loss Validation: 2.0583222302897224 Validation Accuracy: 0.1198581560283688\n",
            "Epoch: 33 Loss Train: 1.8573251890686322 Train Accuracy: 0.2378230136351346\n",
            "Epoch: 33 Loss Validation: 2.0392930302126655 Validation Accuracy: 0.12056737588652482\n",
            "Epoch: 34 Loss Train: 1.8546144215565807 Train Accuracy: 0.24438950905790105\n",
            "Epoch: 34 Loss Validation: 1.9088115774351975 Validation Accuracy: 0.16950354609929077\n",
            "Epoch: 35 Loss Train: 1.8540102333392736 Train Accuracy: 0.24612769902275097\n"
          ],
          "name": "stdout"
        },
        {
          "output_type": "stream",
          "text": [
            "\u001b[32m[I 2021-01-06 18:50:51,318]\u001b[0m Trial 2 finished with value: 1.8633984409529587 and parameters: {'learning_rate': 0.004493001567004733, 'learning_rate_decay': 0.0001107075193704838, 'momentum': 8.495276063108937e-05, 'batch_size': 98}. Best is trial 0 with value: 1.0309110783478792.\u001b[0m\n"
          ],
          "name": "stderr"
        },
        {
          "output_type": "stream",
          "text": [
            "Epoch: 35 Loss Validation: 1.893608385118945 Validation Accuracy: 0.19184397163120567\n",
            "Epoch: 1 Loss Train: 1.9526147872973711 Train Accuracy: 0.16987909923133376\n",
            "Epoch: 1 Loss Validation: 1.9075939515057732 Validation Accuracy: 0.15673758865248227\n",
            "Epoch: 2 Loss Train: 1.8773493331212263 Train Accuracy: 0.2207501255359419\n",
            "Epoch: 2 Loss Validation: 1.7662602365016937 Validation Accuracy: 0.27588652482269505\n",
            "Epoch: 3 Loss Train: 1.8164621992753103 Train Accuracy: 0.26215767314303373\n",
            "Epoch: 3 Loss Validation: 1.7102903969147627 Validation Accuracy: 0.2978723404255319\n",
            "Epoch: 4 Loss Train: 1.7734239116693153 Train Accuracy: 0.2916682761018193\n",
            "Epoch: 4 Loss Validation: 1.7021917455336626 Validation Accuracy: 0.29326241134751774\n",
            "Epoch: 5 Loss Train: 1.7302663307159374 Train Accuracy: 0.31557804472942175\n",
            "Epoch: 5 Loss Validation: 1.6626009415177738 Validation Accuracy: 0.32907801418439714\n",
            "Epoch: 6 Loss Train: 1.673560917759553 Train Accuracy: 0.34586117656147397\n",
            "Epoch: 6 Loss Validation: 1.6288642743054558 Validation Accuracy: 0.3620567375886525\n",
            "Epoch: 7 Loss Train: 1.6401985711776292 Train Accuracy: 0.35988257561126347\n",
            "Epoch: 7 Loss Validation: 1.4309993807007284 Validation Accuracy: 0.38900709219858154\n",
            "Epoch: 8 Loss Train: 1.6088200436952786 Train Accuracy: 0.37042759473135306\n",
            "Epoch: 8 Loss Validation: 1.4269111787571627 Validation Accuracy: 0.4358156028368794\n",
            "Epoch: 9 Loss Train: 1.5807204983937435 Train Accuracy: 0.3812043725134227\n",
            "Epoch: 9 Loss Validation: 1.3711434462491203 Validation Accuracy: 0.450354609929078\n",
            "Epoch: 10 Loss Train: 1.5510743073163888 Train Accuracy: 0.39916566881687204\n",
            "Epoch: 10 Loss Validation: 1.3436386006719925 Validation Accuracy: 0.4698581560283688\n",
            "Epoch: 11 Loss Train: 1.520321364204089 Train Accuracy: 0.41237591254973155\n",
            "Epoch: 11 Loss Validation: 1.280271712471457 Validation Accuracy: 0.49042553191489363\n",
            "Epoch: 12 Loss Train: 1.5055941010896976 Train Accuracy: 0.42098960948665454\n",
            "Epoch: 12 Loss Validation: 1.285236112335149 Validation Accuracy: 0.5014184397163121\n",
            "Epoch: 13 Loss Train: 1.4861446515871928 Train Accuracy: 0.4299895708602109\n",
            "Epoch: 13 Loss Validation: 1.5092325832913904 Validation Accuracy: 0.4319148936170213\n",
            "Epoch: 14 Loss Train: 1.4642142970592549 Train Accuracy: 0.4382170033605006\n",
            "Epoch: 14 Loss Validation: 1.3288794352727777 Validation Accuracy: 0.48014184397163123\n",
            "Epoch: 15 Loss Train: 1.432876976254659 Train Accuracy: 0.45146587353702344\n",
            "Epoch: 15 Loss Validation: 1.2614043319926542 Validation Accuracy: 0.4957446808510638\n",
            "Epoch: 16 Loss Train: 1.4197087765504153 Train Accuracy: 0.4631310595233497\n",
            "Epoch: 16 Loss Validation: 1.2432267788578482 Validation Accuracy: 0.5191489361702127\n",
            "Epoch: 17 Loss Train: 1.392955170227931 Train Accuracy: 0.4742941017420526\n",
            "Epoch: 17 Loss Validation: 1.2018629996215595 Validation Accuracy: 0.5297872340425532\n",
            "Epoch: 18 Loss Train: 1.3916955307508125 Train Accuracy: 0.4720537680095794\n",
            "Epoch: 18 Loss Validation: 1.1590857418144451 Validation Accuracy: 0.5528368794326242\n",
            "Epoch: 19 Loss Train: 1.3683619877466788 Train Accuracy: 0.4838734597705589\n",
            "Epoch: 19 Loss Validation: 1.3246215687078589 Validation Accuracy: 0.502127659574468\n",
            "Epoch: 20 Loss Train: 1.3667261409453857 Train Accuracy: 0.48059021205917574\n",
            "Epoch: 20 Loss Validation: 1.190892508801292 Validation Accuracy: 0.5326241134751774\n",
            "Epoch: 21 Loss Train: 1.3368948518465726 Train Accuracy: 0.49623392174282516\n",
            "Epoch: 21 Loss Validation: 1.1910790432901943 Validation Accuracy: 0.5464539007092198\n",
            "Epoch: 22 Loss Train: 1.3193336889529839 Train Accuracy: 0.4997875545598517\n",
            "Epoch: 22 Loss Validation: 1.1550623906009339 Validation Accuracy: 0.5634751773049645\n",
            "Epoch: 23 Loss Train: 1.3164604157209396 Train Accuracy: 0.5026459113909383\n",
            "Epoch: 23 Loss Validation: 1.2364464261952568 Validation Accuracy: 0.5361702127659574\n",
            "Epoch: 24 Loss Train: 1.301131726648563 Train Accuracy: 0.5096372976940013\n",
            "Epoch: 24 Loss Validation: 1.1246500865501516 Validation Accuracy: 0.5709219858156028\n",
            "Epoch: 25 Loss Train: 1.2865772063915546 Train Accuracy: 0.5105643323419213\n",
            "Epoch: 25 Loss Validation: 1.1709124919246225 Validation Accuracy: 0.5535460992907801\n",
            "Epoch: 26 Loss Train: 1.2627403913782194 Train Accuracy: 0.5277530997721039\n",
            "Epoch: 26 Loss Validation: 1.1121006888501785 Validation Accuracy: 0.5673758865248227\n",
            "Epoch: 27 Loss Train: 1.2587643907620356 Train Accuracy: 0.5225771563212175\n",
            "Epoch: 27 Loss Validation: 1.1887024018694372 Validation Accuracy: 0.5687943262411348\n",
            "Epoch: 28 Loss Train: 1.2492266631661317 Train Accuracy: 0.5305342037158639\n",
            "Epoch: 28 Loss Validation: 1.1125058636945837 Validation Accuracy: 0.5716312056737589\n",
            "Epoch: 29 Loss Train: 1.2465786752410424 Train Accuracy: 0.5308045888215072\n",
            "Epoch: 29 Loss Validation: 1.118810706278857 Validation Accuracy: 0.5709219858156028\n",
            "Epoch: 30 Loss Train: 1.2423372043248935 Train Accuracy: 0.5338947043145738\n",
            "Epoch: 30 Loss Validation: 1.1042631820720785 Validation Accuracy: 0.5858156028368794\n",
            "Epoch: 31 Loss Train: 1.2334529587473624 Train Accuracy: 0.5347058596315037\n",
            "Epoch: 31 Loss Validation: 1.0896378098165287 Validation Accuracy: 0.5861702127659575\n",
            "Epoch: 32 Loss Train: 1.2248704181267664 Train Accuracy: 0.5399590559697168\n",
            "Epoch: 32 Loss Validation: 1.0927608854630415 Validation Accuracy: 0.5914893617021276\n",
            "Epoch: 33 Loss Train: 1.2224214692146351 Train Accuracy: 0.5403839468500136\n",
            "Epoch: 33 Loss Validation: 1.1191255721975775 Validation Accuracy: 0.5843971631205673\n",
            "Epoch: 34 Loss Train: 1.2025270823102732 Train Accuracy: 0.5474139595967399\n",
            "Epoch: 34 Loss Validation: 1.0778025125755983 Validation Accuracy: 0.5939716312056738\n",
            "Epoch: 35 Loss Train: 1.1933177484151645 Train Accuracy: 0.5464482985051566\n",
            "Epoch: 35 Loss Validation: 1.0797665522379034 Validation Accuracy: 0.5893617021276596\n",
            "Epoch: 36 Loss Train: 1.1986742313855734 Train Accuracy: 0.5520877592800031\n",
            "Epoch: 36 Loss Validation: 1.1291203831925112 Validation Accuracy: 0.5886524822695035\n",
            "Epoch: 37 Loss Train: 1.1910635748734841 Train Accuracy: 0.5494611611108965\n",
            "Epoch: 37 Loss Validation: 1.1734540155705284 Validation Accuracy: 0.5546099290780142\n",
            "Epoch: 38 Loss Train: 1.1895516652327318 Train Accuracy: 0.5513924832940631\n",
            "Epoch: 38 Loss Validation: 1.0484404756742365 Validation Accuracy: 0.6067375886524823\n",
            "Epoch: 39 Loss Train: 1.1787672745875823 Train Accuracy: 0.5574954613928695\n",
            "Epoch: 39 Loss Validation: 1.073940064977197 Validation Accuracy: 0.5932624113475178\n",
            "Epoch: 40 Loss Train: 1.1813526386633897 Train Accuracy: 0.5525899030476265\n",
            "Epoch: 40 Loss Validation: 1.110533076174119 Validation Accuracy: 0.5726950354609929\n",
            "Epoch: 41 Loss Train: 1.1755450253303235 Train Accuracy: 0.5569160647379195\n",
            "Epoch: 41 Loss Validation: 1.0583957705427618 Validation Accuracy: 0.6078014184397164\n",
            "Epoch: 42 Loss Train: 1.1747091739223554 Train Accuracy: 0.5588860133647495\n",
            "Epoch: 42 Loss Validation: 1.041175828260534 Validation Accuracy: 0.6056737588652482\n",
            "Epoch: 43 Loss Train: 1.17164497421338 Train Accuracy: 0.5557572714280197\n",
            "Epoch: 43 Loss Validation: 1.0459760006736307 Validation Accuracy: 0.6106382978723405\n",
            "Epoch: 44 Loss Train: 1.1615438600763297 Train Accuracy: 0.564061956815636\n",
            "Epoch: 44 Loss Validation: 1.07996246481643 Validation Accuracy: 0.5964539007092199\n",
            "Epoch: 45 Loss Train: 1.1558275388983579 Train Accuracy: 0.5625941519564294\n",
            "Epoch: 45 Loss Validation: 1.048544522594003 Validation Accuracy: 0.6113475177304964\n",
            "Epoch: 46 Loss Train: 1.1622186322242787 Train Accuracy: 0.563482560160686\n",
            "Epoch: 46 Loss Validation: 1.0578520350596483 Validation Accuracy: 0.601418439716312\n",
            "Epoch: 47 Loss Train: 1.1550457660968487 Train Accuracy: 0.5657228938931592\n",
            "Epoch: 47 Loss Validation: 1.0513051520375645 Validation Accuracy: 0.6039007092198582\n",
            "Epoch: 48 Loss Train: 1.1483325373667936 Train Accuracy: 0.5635211866043494\n",
            "Epoch: 48 Loss Validation: 1.0350041897857891 Validation Accuracy: 0.6081560283687943\n",
            "Epoch: 49 Loss Train: 1.1598932668566704 Train Accuracy: 0.5661091583297926\n",
            "Epoch: 49 Loss Validation: 1.0532253498540205 Validation Accuracy: 0.6024822695035461\n",
            "Epoch: 50 Loss Train: 1.135628424011744 Train Accuracy: 0.570358067132759\n"
          ],
          "name": "stdout"
        },
        {
          "output_type": "stream",
          "text": [
            "\u001b[32m[I 2021-01-06 19:23:17,990]\u001b[0m Trial 3 finished with value: 1.0350041897857891 and parameters: {'learning_rate': 0.0012155664137233724, 'learning_rate_decay': 0.00010888693241519486, 'momentum': 4.645548654359071e-05, 'batch_size': 83}. Best is trial 0 with value: 1.0309110783478792.\u001b[0m\n"
          ],
          "name": "stderr"
        },
        {
          "output_type": "stream",
          "text": [
            "Epoch: 50 Loss Validation: 1.048981331727084 Validation Accuracy: 0.6\n",
            "Epoch: 1 Loss Train: 1.9618020813230057 Train Accuracy: 0.15813666035768087\n",
            "Epoch: 1 Loss Validation: 1.8959542413552601 Validation Accuracy: 0.2124113475177305\n",
            "Epoch: 2 Loss Train: 1.9113878890382292 Train Accuracy: 0.19985321951407933\n",
            "Epoch: 2 Loss Validation: 1.8033022731542587 Validation Accuracy: 0.29822695035460994\n",
            "Epoch: 3 Loss Train: 1.816727510080651 Train Accuracy: 0.26327784000927035\n",
            "Epoch: 3 Loss Validation: 1.8781044036149979 Validation Accuracy: 0.23049645390070922\n",
            "Epoch: 4 Loss Train: 1.739983300088157 Train Accuracy: 0.3120244119123952\n",
            "Epoch: 4 Loss Validation: 2.013147840897242 Validation Accuracy: 0.19929078014184398\n",
            "Epoch: 5 Loss Train: 1.6839768147804368 Train Accuracy: 0.34203715863880413\n",
            "Epoch: 5 Loss Validation: 1.530753528078397 Validation Accuracy: 0.3982269503546099\n",
            "Epoch: 6 Loss Train: 1.63617626378234 Train Accuracy: 0.3623160415620534\n",
            "Epoch: 6 Loss Validation: 1.6493385930856068 Validation Accuracy: 0.37553191489361704\n",
            "Epoch: 7 Loss Train: 1.598319993332518 Train Accuracy: 0.3803932171964927\n",
            "Epoch: 7 Loss Validation: 1.4087878440817196 Validation Accuracy: 0.4542553191489362\n",
            "Epoch: 8 Loss Train: 1.5681270786294355 Train Accuracy: 0.3943759898026189\n",
            "Epoch: 8 Loss Validation: 1.3761477569739025 Validation Accuracy: 0.4645390070921986\n",
            "Epoch: 9 Loss Train: 1.5351832612579417 Train Accuracy: 0.4139982231835915\n",
            "Epoch: 9 Loss Validation: 1.3791007573405902 Validation Accuracy: 0.46879432624113476\n",
            "Epoch: 10 Loss Train: 1.503662389209013 Train Accuracy: 0.42535439762061106\n",
            "Epoch: 10 Loss Validation: 1.4655997181932132 Validation Accuracy: 0.4301418439716312\n",
            "Epoch: 11 Loss Train: 1.4916937144149638 Train Accuracy: 0.427324346247441\n",
            "Epoch: 11 Loss Validation: 1.3969178994496663 Validation Accuracy: 0.44645390070921986\n",
            "Epoch: 12 Loss Train: 1.4777014389844008 Train Accuracy: 0.436169801846344\n",
            "Epoch: 12 Loss Validation: 1.4575934161742528 Validation Accuracy: 0.4460992907801418\n",
            "Epoch: 13 Loss Train: 1.4521186547659932 Train Accuracy: 0.4477963613890069\n",
            "Epoch: 13 Loss Validation: 1.447059174378713 Validation Accuracy: 0.43865248226950354\n",
            "Epoch: 14 Loss Train: 1.4477306330148043 Train Accuracy: 0.4476804820580169\n",
            "Epoch: 14 Loss Validation: 1.2251951570312183 Validation Accuracy: 0.5102836879432624\n",
            "Epoch: 15 Loss Train: 1.4251062041716955 Train Accuracy: 0.4574529723048399\n",
            "Epoch: 15 Loss Validation: 1.2388311500350635 Validation Accuracy: 0.5039007092198582\n",
            "Epoch: 16 Loss Train: 1.4158870894024629 Train Accuracy: 0.4608134729035498\n",
            "Epoch: 16 Loss Validation: 1.1943518842260044 Validation Accuracy: 0.5375886524822695\n",
            "Epoch: 17 Loss Train: 1.4059033461020027 Train Accuracy: 0.46498512881918963\n",
            "Epoch: 17 Loss Validation: 1.2511429165800412 Validation Accuracy: 0.5315602836879433\n",
            "Epoch: 18 Loss Train: 1.3932135731961246 Train Accuracy: 0.46934991695314615\n",
            "Epoch: 18 Loss Validation: 1.1715116674701374 Validation Accuracy: 0.5425531914893617\n",
            "Epoch: 19 Loss Train: 1.3719589967682888 Train Accuracy: 0.47800224033373245\n",
            "Epoch: 19 Loss Validation: 1.2751963660120964 Validation Accuracy: 0.5177304964539007\n",
            "Epoch: 20 Loss Train: 1.3654043982286408 Train Accuracy: 0.48086059716481905\n",
            "Epoch: 20 Loss Validation: 1.2278656388322513 Validation Accuracy: 0.5294326241134751\n",
            "Epoch: 21 Loss Train: 1.351351154242323 Train Accuracy: 0.48935841477075204\n",
            "Epoch: 21 Loss Validation: 1.1822816468775272 Validation Accuracy: 0.5372340425531915\n",
            "Epoch: 22 Loss Train: 1.3358260477092905 Train Accuracy: 0.4978948588203484\n",
            "Epoch: 22 Loss Validation: 1.2229523013035457 Validation Accuracy: 0.524822695035461\n",
            "Epoch: 23 Loss Train: 1.332163327736474 Train Accuracy: 0.49611804241183516\n",
            "Epoch: 23 Loss Validation: 1.3980196192860603 Validation Accuracy: 0.49113475177304966\n",
            "Epoch: 24 Loss Train: 1.320657939978049 Train Accuracy: 0.5001351925528217\n",
            "Epoch: 24 Loss Validation: 1.2264558250705402 Validation Accuracy: 0.5358156028368795\n",
            "Epoch: 25 Loss Train: 1.3208688749393946 Train Accuracy: 0.5020278882923249\n",
            "Epoch: 25 Loss Validation: 1.1954067572951317 Validation Accuracy: 0.5379432624113475\n",
            "Epoch: 26 Loss Train: 1.3066527753928459 Train Accuracy: 0.5062381706516281\n",
            "Epoch: 26 Loss Validation: 1.2397708011170228 Validation Accuracy: 0.5255319148936171\n",
            "Epoch: 27 Loss Train: 1.3090222794125337 Train Accuracy: 0.5045772335741048\n",
            "Epoch: 27 Loss Validation: 1.1646156857411067 Validation Accuracy: 0.549645390070922\n",
            "Epoch: 28 Loss Train: 1.295823679843419 Train Accuracy: 0.5075128432925181\n",
            "Epoch: 28 Loss Validation: 1.2783043682575226 Validation Accuracy: 0.5180851063829788\n",
            "Epoch: 29 Loss Train: 1.2830757300059001 Train Accuracy: 0.5127274131870678\n",
            "Epoch: 29 Loss Validation: 1.2173839931686719 Validation Accuracy: 0.5347517730496454\n",
            "Epoch: 30 Loss Train: 1.2783374635266587 Train Accuracy: 0.5201050639267643\n",
            "Epoch: 30 Loss Validation: 1.2863729521632195 Validation Accuracy: 0.5287234042553192\n",
            "Epoch: 31 Loss Train: 1.2636405951540235 Train Accuracy: 0.5196415466028043\n",
            "Epoch: 31 Loss Validation: 1.1482458723088105 Validation Accuracy: 0.5560283687943263\n",
            "Epoch: 32 Loss Train: 1.262616450797784 Train Accuracy: 0.5241608405114141\n",
            "Epoch: 32 Loss Validation: 1.1155889282623928 Validation Accuracy: 0.5698581560283688\n",
            "Epoch: 33 Loss Train: 1.2570194839871545 Train Accuracy: 0.5237359496311175\n",
            "Epoch: 33 Loss Validation: 1.1513422466814518 Validation Accuracy: 0.5556737588652483\n",
            "Epoch: 34 Loss Train: 1.2526481951906088 Train Accuracy: 0.5248947429410175\n",
            "Epoch: 34 Loss Validation: 1.1226089224219322 Validation Accuracy: 0.5776595744680851\n",
            "Epoch: 35 Loss Train: 1.2469383534131475 Train Accuracy: 0.5272123295608173\n",
            "Epoch: 35 Loss Validation: 1.0996271496017773 Validation Accuracy: 0.5695035460992908\n",
            "Epoch: 36 Loss Train: 1.2341867696511353 Train Accuracy: 0.5342809687512071\n",
            "Epoch: 36 Loss Validation: 1.1440129031737645 Validation Accuracy: 0.5648936170212766\n",
            "Epoch: 37 Loss Train: 1.2386064462258781 Train Accuracy: 0.5337015720962571\n",
            "Epoch: 37 Loss Validation: 1.122867975383997 Validation Accuracy: 0.5723404255319149\n",
            "Epoch: 38 Loss Train: 1.2242234970482302 Train Accuracy: 0.5332380547722971\n"
          ],
          "name": "stdout"
        },
        {
          "output_type": "stream",
          "text": [
            "\u001b[32m[I 2021-01-06 19:46:36,363]\u001b[0m Trial 4 finished with value: 1.0996271496017773 and parameters: {'learning_rate': 0.0004261549431639553, 'learning_rate_decay': 0.0001092955468280729, 'momentum': 4.403881774320487e-06, 'batch_size': 122}. Best is trial 0 with value: 1.0309110783478792.\u001b[0m\n"
          ],
          "name": "stderr"
        },
        {
          "output_type": "stream",
          "text": [
            "Epoch: 38 Loss Validation: 1.1431802436709404 Validation Accuracy: 0.5709219858156028\n",
            "Epoch: 1 Loss Train: 2.0175293301808015 Train Accuracy: 0.14681911236432463\n",
            "Epoch: 1 Loss Validation: 1.9464641110650425 Validation Accuracy: 0.15319148936170213\n",
            "Epoch: 2 Loss Train: 1.9815401325699027 Train Accuracy: 0.15280621113214107\n",
            "Epoch: 2 Loss Validation: 1.9372607222918807 Validation Accuracy: 0.1702127659574468\n",
            "Epoch: 3 Loss Train: 1.9651001819217477 Train Accuracy: 0.15767314303372088\n",
            "Epoch: 3 Loss Validation: 1.9272667950597302 Validation Accuracy: 0.18404255319148935\n",
            "Epoch: 4 Loss Train: 1.9555268815455547 Train Accuracy: 0.16223106338599405\n",
            "Epoch: 4 Loss Validation: 1.9325146962856423 Validation Accuracy: 0.16666666666666666\n",
            "Epoch: 5 Loss Train: 1.9492166647474274 Train Accuracy: 0.16524392599173393\n",
            "Epoch: 5 Loss Validation: 1.9200574694008663 Validation Accuracy: 0.19290780141843972\n",
            "Epoch: 6 Loss Train: 1.9443330755670563 Train Accuracy: 0.1677160183861872\n",
            "Epoch: 6 Loss Validation: 1.9125183738511184 Validation Accuracy: 0.21418439716312057\n",
            "Epoch: 7 Loss Train: 1.9406688054099337 Train Accuracy: 0.17069025454826375\n",
            "Epoch: 7 Loss Validation: 1.9122573383923234 Validation Accuracy: 0.24326241134751772\n",
            "Epoch: 8 Loss Train: 1.9353447779444337 Train Accuracy: 0.17965158947815674\n",
            "Epoch: 8 Loss Validation: 1.9032460944405918 Validation Accuracy: 0.24858156028368794\n",
            "Epoch: 9 Loss Train: 1.930367922964897 Train Accuracy: 0.18482753292904322\n",
            "Epoch: 9 Loss Validation: 1.8933385857220353 Validation Accuracy: 0.2602836879432624\n",
            "Epoch: 10 Loss Train: 1.9248656061769442 Train Accuracy: 0.18884468307002975\n",
            "Epoch: 10 Loss Validation: 1.877884445519283 Validation Accuracy: 0.2783687943262411\n",
            "Epoch: 11 Loss Train: 1.9151475911832039 Train Accuracy: 0.19877167909150603\n",
            "Epoch: 11 Loss Validation: 1.8676105162193035 Validation Accuracy: 0.28085106382978725\n",
            "Epoch: 12 Loss Train: 1.9098147681651225 Train Accuracy: 0.2037931167677392\n",
            "Epoch: 12 Loss Validation: 1.8600563221964344 Validation Accuracy: 0.2691489361702128\n",
            "Epoch: 13 Loss Train: 1.9060146444626438 Train Accuracy: 0.2024411912395226\n",
            "Epoch: 13 Loss Validation: 1.8568320562099587 Validation Accuracy: 0.26170212765957446\n",
            "Epoch: 14 Loss Train: 1.8978383850505334 Train Accuracy: 0.2161535787400054\n",
            "Epoch: 14 Loss Validation: 1.840948359719638 Validation Accuracy: 0.27163120567375887\n",
            "Epoch: 15 Loss Train: 1.890792758865211 Train Accuracy: 0.21862567113445866\n",
            "Epoch: 15 Loss Validation: 1.8171713023350156 Validation Accuracy: 0.3021276595744681\n",
            "Epoch: 16 Loss Train: 1.8836094596003758 Train Accuracy: 0.2238788674726718\n",
            "Epoch: 16 Loss Validation: 1.8138486229140183 Validation Accuracy: 0.29609929078014185\n",
            "Epoch: 17 Loss Train: 1.8784541487693787 Train Accuracy: 0.2295569546911816\n",
            "Epoch: 17 Loss Validation: 1.7997910154276882 Validation Accuracy: 0.29716312056737587\n",
            "Epoch: 18 Loss Train: 1.866577074272942 Train Accuracy: 0.23620070300127466\n",
            "Epoch: 18 Loss Validation: 1.7899689181097622 Validation Accuracy: 0.2822695035460993\n",
            "Epoch: 19 Loss Train: 1.861709541946877 Train Accuracy: 0.24145389933948783\n",
            "Epoch: 19 Loss Validation: 1.757795292755653 Validation Accuracy: 0.3046099290780142\n",
            "Epoch: 20 Loss Train: 1.8489352100678074 Train Accuracy: 0.24643671057205763\n",
            "Epoch: 20 Loss Validation: 1.7653208025570573 Validation Accuracy: 0.28900709219858156\n",
            "Epoch: 21 Loss Train: 1.8455515717732087 Train Accuracy: 0.2518444126849241\n",
            "Epoch: 21 Loss Validation: 1.7918202301551556 Validation Accuracy: 0.2570921985815603\n",
            "Epoch: 22 Loss Train: 1.8310525135229563 Train Accuracy: 0.2571748619104639\n",
            "Epoch: 22 Loss Validation: 1.749383690028355 Validation Accuracy: 0.2872340425531915\n",
            "Epoch: 23 Loss Train: 1.8194471274623434 Train Accuracy: 0.2685310363474835\n",
            "Epoch: 23 Loss Validation: 1.7319261596120636 Validation Accuracy: 0.30141843971631205\n",
            "Epoch: 24 Loss Train: 1.8131227597935509 Train Accuracy: 0.2682992776855035\n",
            "Epoch: 24 Loss Validation: 1.7229267913719704 Validation Accuracy: 0.30319148936170215\n",
            "Epoch: 25 Loss Train: 1.8074623214379522 Train Accuracy: 0.2722778013828267\n",
            "Epoch: 25 Loss Validation: 1.7655006832089917 Validation Accuracy: 0.27411347517730494\n",
            "Epoch: 26 Loss Train: 1.8009158791476534 Train Accuracy: 0.2806211132141064\n",
            "Epoch: 26 Loss Validation: 1.699659565399433 Validation Accuracy: 0.32269503546099293\n",
            "Epoch: 27 Loss Train: 1.804951048534335 Train Accuracy: 0.27490439955193324\n",
            "Epoch: 27 Loss Validation: 1.702045031662645 Validation Accuracy: 0.324468085106383\n",
            "Epoch: 28 Loss Train: 1.7931042577474172 Train Accuracy: 0.2846768897987562\n",
            "Epoch: 28 Loss Validation: 1.655607634577258 Validation Accuracy: 0.3443262411347518\n",
            "Epoch: 29 Loss Train: 1.788283054155248 Train Accuracy: 0.282552435397273\n",
            "Epoch: 29 Loss Validation: 1.638338483613113 Validation Accuracy: 0.35709219858156027\n",
            "Epoch: 30 Loss Train: 1.7798954726175498 Train Accuracy: 0.29062536212290935\n",
            "Epoch: 30 Loss Validation: 1.657964137093774 Validation Accuracy: 0.3354609929078014\n",
            "Epoch: 31 Loss Train: 1.7671938502151547 Train Accuracy: 0.29247943141874927\n",
            "Epoch: 31 Loss Validation: 1.6279840839320217 Validation Accuracy: 0.35709219858156027\n",
            "Epoch: 32 Loss Train: 1.7626810019252865 Train Accuracy: 0.2976167484259724\n",
            "Epoch: 32 Loss Validation: 1.6175852541265816 Validation Accuracy: 0.3648936170212766\n",
            "Epoch: 33 Loss Train: 1.7589602647846891 Train Accuracy: 0.30167252501062225\n",
            "Epoch: 33 Loss Validation: 1.5831689259101605 Validation Accuracy: 0.38900709219858154\n",
            "Epoch: 34 Loss Train: 1.746123757981162 Train Accuracy: 0.30816176754606206\n",
            "Epoch: 34 Loss Validation: 1.5782976910985749 Validation Accuracy: 0.38971631205673757\n",
            "Epoch: 35 Loss Train: 1.7438656000690607 Train Accuracy: 0.3130673258913052\n",
            "Epoch: 35 Loss Validation: 1.591343495352515 Validation Accuracy: 0.3840425531914894\n",
            "Epoch: 36 Loss Train: 1.7399928105696467 Train Accuracy: 0.3076209973347754\n",
            "Epoch: 36 Loss Validation: 1.5860916129473983 Validation Accuracy: 0.39680851063829786\n",
            "Epoch: 37 Loss Train: 1.7382091170048897 Train Accuracy: 0.31862953377882497\n",
            "Epoch: 37 Loss Validation: 1.6084481868250617 Validation Accuracy: 0.375177304964539\n",
            "Epoch: 38 Loss Train: 1.7276713816264204 Train Accuracy: 0.31665958515199505\n",
            "Epoch: 38 Loss Validation: 1.5695741710991695 Validation Accuracy: 0.3921985815602837\n",
            "Epoch: 39 Loss Train: 1.7246863555362206 Train Accuracy: 0.32137201127892157\n",
            "Epoch: 39 Loss Validation: 1.5841156860877728 Validation Accuracy: 0.38085106382978723\n",
            "Epoch: 40 Loss Train: 1.7231095951932076 Train Accuracy: 0.3206767352929816\n",
            "Epoch: 40 Loss Validation: 1.575114515321008 Validation Accuracy: 0.3964539007092199\n",
            "Epoch: 41 Loss Train: 1.7128541938221182 Train Accuracy: 0.326084437405848\n",
            "Epoch: 41 Loss Validation: 1.5426853216927627 Validation Accuracy: 0.40106382978723404\n",
            "Epoch: 42 Loss Train: 1.7156041651281693 Train Accuracy: 0.3226853103634748\n",
            "Epoch: 42 Loss Validation: 1.5100663365988896 Validation Accuracy: 0.4329787234042553\n",
            "Epoch: 43 Loss Train: 1.7116389629495052 Train Accuracy: 0.3272818571594113\n",
            "Epoch: 43 Loss Validation: 1.5440473762051812 Validation Accuracy: 0.40283687943262414\n",
            "Epoch: 44 Loss Train: 1.7005038247763655 Train Accuracy: 0.3362431920893043\n",
            "Epoch: 44 Loss Validation: 1.554173821005328 Validation Accuracy: 0.41418439716312055\n",
            "Epoch: 45 Loss Train: 1.6935395293563378 Train Accuracy: 0.33492989300475107\n",
            "Epoch: 45 Loss Validation: 1.5753616670082355 Validation Accuracy: 0.39787234042553193\n",
            "Epoch: 46 Loss Train: 1.690080165863037 Train Accuracy: 0.33249642705396115\n",
            "Epoch: 46 Loss Validation: 1.5159825066040302 Validation Accuracy: 0.41914893617021276\n",
            "Epoch: 47 Loss Train: 1.6934053761358479 Train Accuracy: 0.3394878133570242\n",
            "Epoch: 47 Loss Validation: 1.527993946239866 Validation Accuracy: 0.42304964539007095\n",
            "Epoch: 48 Loss Train: 1.6819576275257664 Train Accuracy: 0.34180539997682413\n",
            "Epoch: 48 Loss Validation: 1.55254242954583 Validation Accuracy: 0.4085106382978723\n",
            "Epoch: 49 Loss Train: 1.6803867034329714 Train Accuracy: 0.34462513036424736\n",
            "Epoch: 49 Loss Validation: 1.520514297074285 Validation Accuracy: 0.42340425531914894\n",
            "Epoch: 50 Loss Train: 1.6754777968384837 Train Accuracy: 0.34342771061068406\n"
          ],
          "name": "stdout"
        },
        {
          "output_type": "stream",
          "text": [
            "\u001b[32m[I 2021-01-06 20:17:26,952]\u001b[0m Trial 5 finished with value: 1.5077810739648754 and parameters: {'learning_rate': 1.4558540083920213e-05, 'learning_rate_decay': 0.00016176057089954852, 'momentum': 6.794787586131195e-05, 'batch_size': 99}. Best is trial 0 with value: 1.0309110783478792.\u001b[0m\n"
          ],
          "name": "stderr"
        },
        {
          "output_type": "stream",
          "text": [
            "Epoch: 50 Loss Validation: 1.5077810739648754 Validation Accuracy: 0.4219858156028369\n",
            "Epoch: 1 Loss Train: 2.0329363954115105 Train Accuracy: 0.14562169261076133\n",
            "Epoch: 1 Loss Validation: 1.943242222070694 Validation Accuracy: 0.1099290780141844\n",
            "Epoch: 2 Loss Train: 1.9463543590292873 Train Accuracy: 0.14067750782185484\n",
            "Epoch: 2 Loss Validation: 1.942728911127363 Validation Accuracy: 0.14432624113475176\n",
            "Epoch: 3 Loss Train: 1.9464189532291458 Train Accuracy: 0.14504229595581136\n",
            "Epoch: 3 Loss Validation: 1.9542735729898726 Validation Accuracy: 0.012056737588652482\n",
            "Epoch: 4 Loss Train: 1.9463765712148215 Train Accuracy: 0.1420680597937348\n",
            "Epoch: 4 Loss Validation: 1.9546615140778678 Validation Accuracy: 0.1425531914893617\n",
            "Epoch: 5 Loss Train: 1.9465716220288871 Train Accuracy: 0.14044574915987484\n",
            "Epoch: 5 Loss Validation: 1.9519988000392914 Validation Accuracy: 0.14645390070921985\n",
            "Epoch: 6 Loss Train: 1.9464939435323079 Train Accuracy: 0.1471667503572946\n",
            "Epoch: 6 Loss Validation: 1.9397262845720564 Validation Accuracy: 0.1099290780141844\n",
            "Epoch: 7 Loss Train: 1.9464334120233375 Train Accuracy: 0.1423384448993781\n",
            "Epoch: 7 Loss Validation: 1.9399091814245497 Validation Accuracy: 0.24574468085106382\n",
            "Epoch: 8 Loss Train: 1.946251182671053 Train Accuracy: 0.14732125613194794\n",
            "Epoch: 8 Loss Validation: 1.940942210810525 Validation Accuracy: 0.1425531914893617\n",
            "Epoch: 9 Loss Train: 1.946341424581995 Train Accuracy: 0.14426976708254471\n",
            "Epoch: 9 Loss Validation: 1.9373073961053575 Validation Accuracy: 0.24574468085106382\n",
            "Epoch: 10 Loss Train: 1.9467580543464447 Train Accuracy: 0.13893931785700492\n",
            "Epoch: 10 Loss Validation: 1.9409700419221605 Validation Accuracy: 0.24574468085106382\n",
            "Epoch: 11 Loss Train: 1.9469157677577682 Train Accuracy: 0.14117965158947815\n",
            "Epoch: 11 Loss Validation: 1.948116613285882 Validation Accuracy: 0.1425531914893617\n",
            "Epoch: 12 Loss Train: 1.946243223895031 Train Accuracy: 0.14125690447680483\n",
            "Epoch: 12 Loss Validation: 1.9487209022045135 Validation Accuracy: 0.18014184397163122\n",
            "Epoch: 13 Loss Train: 1.9464656138515855 Train Accuracy: 0.1403684962725482\n",
            "Epoch: 13 Loss Validation: 1.9507077293736594 Validation Accuracy: 0.012056737588652482\n",
            "Epoch: 14 Loss Train: 1.9466948600179221 Train Accuracy: 0.14380624975858472\n",
            "Epoch: 14 Loss Validation: 1.9533779791423254 Validation Accuracy: 0.10780141843971631\n",
            "Epoch: 15 Loss Train: 1.9466359347224715 Train Accuracy: 0.14357449109660472\n",
            "Epoch: 15 Loss Validation: 1.9527451225689478 Validation Accuracy: 0.012056737588652482\n",
            "Epoch: 16 Loss Train: 1.9466013056207374 Train Accuracy: 0.13913245007532157\n",
            "Epoch: 16 Loss Validation: 1.9454770343644279 Validation Accuracy: 0.1099290780141844\n",
            "Epoch: 17 Loss Train: 1.946768997663475 Train Accuracy: 0.14372899687125806\n",
            "Epoch: 17 Loss Validation: 1.9368363661425454 Validation Accuracy: 0.24574468085106382\n",
            "Epoch: 18 Loss Train: 1.9462271373434719 Train Accuracy: 0.14550581327977133\n",
            "Epoch: 18 Loss Validation: 1.9548577581133162 Validation Accuracy: 0.012056737588652482\n",
            "Epoch: 19 Loss Train: 1.9466316484543214 Train Accuracy: 0.14345861176561475\n",
            "Epoch: 19 Loss Validation: 1.9380573545183455 Validation Accuracy: 0.1099290780141844\n",
            "Epoch: 20 Loss Train: 1.9472052792468704 Train Accuracy: 0.14129553092046815\n",
            "Epoch: 20 Loss Validation: 1.9463093365941728 Validation Accuracy: 0.24574468085106382\n",
            "Epoch: 21 Loss Train: 1.9521829622337616 Train Accuracy: 0.14334273243462475\n",
            "Epoch: 21 Loss Validation: 1.9368261098861694 Validation Accuracy: 0.24574468085106382\n",
            "Epoch: 22 Loss Train: 1.9464366761556111 Train Accuracy: 0.14384487620224806\n",
            "Epoch: 22 Loss Validation: 1.941126252923693 Validation Accuracy: 0.24574468085106382\n",
            "Epoch: 23 Loss Train: 1.9464135380633865 Train Accuracy: 0.14276333577967476\n",
            "Epoch: 23 Loss Validation: 1.9570054113864899 Validation Accuracy: 0.012056737588652482\n",
            "Epoch: 24 Loss Train: 1.9463434377348567 Train Accuracy: 0.14585345127274132\n",
            "Epoch: 24 Loss Validation: 1.949394771030971 Validation Accuracy: 0.012056737588652482\n",
            "Epoch: 25 Loss Train: 1.946380079031948 Train Accuracy: 0.14071613426551818\n",
            "Epoch: 25 Loss Validation: 1.9471280234200614 Validation Accuracy: 0.1652482269503546\n",
            "Epoch: 26 Loss Train: 1.9485012747676498 Train Accuracy: 0.14017536405423153\n",
            "Epoch: 26 Loss Validation: 1.947873626436506 Validation Accuracy: 0.14432624113475176\n",
            "Epoch: 27 Loss Train: 1.946403980255127 Train Accuracy: 0.13859167986403492\n",
            "Epoch: 27 Loss Validation: 1.9444512810025896 Validation Accuracy: 0.24574468085106382\n",
            "Epoch: 28 Loss Train: 1.9463552179106747 Train Accuracy: 0.14755301479392793\n",
            "Epoch: 28 Loss Validation: 1.9495685270854406 Validation Accuracy: 0.14432624113475176\n",
            "Epoch: 29 Loss Train: 1.9462324179798725 Train Accuracy: 0.1405230020472015\n",
            "Epoch: 29 Loss Validation: 1.9444219086851393 Validation Accuracy: 0.24574468085106382\n",
            "Epoch: 30 Loss Train: 1.9466692980034763 Train Accuracy: 0.14284058866700142\n",
            "Epoch: 30 Loss Validation: 1.941502068723951 Validation Accuracy: 0.14432624113475176\n",
            "Epoch: 31 Loss Train: 1.9464719606690617 Train Accuracy: 0.1412182780331415\n",
            "Epoch: 31 Loss Validation: 1.9482900628021784 Validation Accuracy: 0.1425531914893617\n",
            "Epoch: 32 Loss Train: 1.9463985631743588 Train Accuracy: 0.14554443972343467\n"
          ],
          "name": "stdout"
        },
        {
          "output_type": "stream",
          "text": [
            "\u001b[32m[I 2021-01-06 20:37:02,836]\u001b[0m Trial 6 finished with value: 1.9368261098861694 and parameters: {'learning_rate': 0.007861818649700784, 'learning_rate_decay': 0.00020525656770265438, 'momentum': 5.901287903772466e-06, 'batch_size': 104}. Best is trial 0 with value: 1.0309110783478792.\u001b[0m\n"
          ],
          "name": "stderr"
        },
        {
          "output_type": "stream",
          "text": [
            "Epoch: 32 Loss Validation: 1.9439374463898795 Validation Accuracy: 0.24574468085106382\n",
            "Epoch: 1 Loss Train: 1.9719296343186323 Train Accuracy: 0.15678473482946426\n",
            "Epoch: 1 Loss Validation: 1.9146274214699155 Validation Accuracy: 0.2049645390070922\n",
            "Epoch: 2 Loss Train: 1.9333283282856253 Train Accuracy: 0.18023098613310673\n",
            "Epoch: 2 Loss Validation: 1.8604148910159157 Validation Accuracy: 0.24858156028368794\n",
            "Epoch: 3 Loss Train: 1.8974884334095021 Train Accuracy: 0.21731237204990536\n",
            "Epoch: 3 Loss Validation: 1.7780554067520868 Validation Accuracy: 0.31843971631205675\n",
            "Epoch: 4 Loss Train: 1.8483433895570072 Train Accuracy: 0.24740237166364093\n",
            "Epoch: 4 Loss Validation: 1.669646558307466 Validation Accuracy: 0.3698581560283688\n",
            "Epoch: 5 Loss Train: 1.7979062425898995 Train Accuracy: 0.2830545791648963\n",
            "Epoch: 5 Loss Validation: 1.6992277871994745 Validation Accuracy: 0.34609929078014184\n",
            "Epoch: 6 Loss Train: 1.7581477751706374 Train Accuracy: 0.30229054810923556\n",
            "Epoch: 6 Loss Validation: 1.6354511238279796 Validation Accuracy: 0.3595744680851064\n",
            "Epoch: 7 Loss Train: 1.7090463676554635 Train Accuracy: 0.3256981729692147\n",
            "Epoch: 7 Loss Validation: 1.6605573154631115 Validation Accuracy: 0.3365248226950355\n",
            "Epoch: 8 Loss Train: 1.6737158789354212 Train Accuracy: 0.34717447564602727\n",
            "Epoch: 8 Loss Validation: 1.5212793861116682 Validation Accuracy: 0.41418439716312055\n",
            "Epoch: 9 Loss Train: 1.652906822010795 Train Accuracy: 0.35887828807601685\n",
            "Epoch: 9 Loss Validation: 1.494878502119155 Validation Accuracy: 0.42304964539007095\n",
            "Epoch: 10 Loss Train: 1.6189004514306624 Train Accuracy: 0.37239754335818304\n",
            "Epoch: 10 Loss Validation: 1.5395557255971999 Validation Accuracy: 0.4099290780141844\n",
            "Epoch: 11 Loss Train: 1.590828363270683 Train Accuracy: 0.38471937888678587\n",
            "Epoch: 11 Loss Validation: 1.4532342127391271 Validation Accuracy: 0.4372340425531915\n",
            "Epoch: 12 Loss Train: 1.5783349205465877 Train Accuracy: 0.3924446676194523\n",
            "Epoch: 12 Loss Validation: 1.6007057541892642 Validation Accuracy: 0.38156028368794326\n",
            "Epoch: 13 Loss Train: 1.5647580706499478 Train Accuracy: 0.39568928888717214\n",
            "Epoch: 13 Loss Validation: 1.6434653827122279 Validation Accuracy: 0.37163120567375885\n",
            "Epoch: 14 Loss Train: 1.5285633547420807 Train Accuracy: 0.4137664645216115\n",
            "Epoch: 14 Loss Validation: 1.4160019017401195 Validation Accuracy: 0.45070921985815604\n",
            "Epoch: 15 Loss Train: 1.5206543685280702 Train Accuracy: 0.41708833867665807\n",
            "Epoch: 15 Loss Validation: 1.342140140987578 Validation Accuracy: 0.4666666666666667\n",
            "Epoch: 16 Loss Train: 1.4965262444899043 Train Accuracy: 0.42624280582486773\n",
            "Epoch: 16 Loss Validation: 1.3333579912072135 Validation Accuracy: 0.4808510638297872\n",
            "Epoch: 17 Loss Train: 1.4878693417431836 Train Accuracy: 0.4302213295221909\n",
            "Epoch: 17 Loss Validation: 1.2987006845928373 Validation Accuracy: 0.4971631205673759\n",
            "Epoch: 18 Loss Train: 1.4706013776401785 Train Accuracy: 0.43860326779713393\n",
            "Epoch: 18 Loss Validation: 1.3601051512218656 Validation Accuracy: 0.4879432624113475\n",
            "Epoch: 19 Loss Train: 1.4687121290574099 Train Accuracy: 0.4335045772335741\n",
            "Epoch: 19 Loss Validation: 1.2776818161919004 Validation Accuracy: 0.5053191489361702\n",
            "Epoch: 20 Loss Train: 1.4472214939760015 Train Accuracy: 0.4486461431496002\n",
            "Epoch: 20 Loss Validation: 1.2780907721746535 Validation Accuracy: 0.5067375886524823\n",
            "Epoch: 21 Loss Train: 1.4374515372801593 Train Accuracy: 0.45536714434701997\n",
            "Epoch: 21 Loss Validation: 1.2345268726348877 Validation Accuracy: 0.5141843971631206\n",
            "Epoch: 22 Loss Train: 1.42166078600654 Train Accuracy: 0.4604272084669164\n",
            "Epoch: 22 Loss Validation: 1.2880028940382457 Validation Accuracy: 0.4939716312056738\n",
            "Epoch: 23 Loss Train: 1.4210053108592722 Train Accuracy: 0.4606975935725598\n",
            "Epoch: 23 Loss Validation: 1.2710747605278379 Validation Accuracy: 0.5138297872340426\n",
            "Epoch: 24 Loss Train: 1.4038039598872956 Train Accuracy: 0.46680057167136624\n",
            "Epoch: 24 Loss Validation: 1.294838615826198 Validation Accuracy: 0.49929078014184397\n",
            "Epoch: 25 Loss Train: 1.394438261016805 Train Accuracy: 0.4683456294178995\n",
            "Epoch: 25 Loss Validation: 1.315891166528066 Validation Accuracy: 0.4957446808510638\n",
            "Epoch: 26 Loss Train: 1.3844538863329965 Train Accuracy: 0.47518250994630923\n",
            "Epoch: 26 Loss Validation: 1.3649088513283503 Validation Accuracy: 0.4925531914893617\n",
            "Epoch: 27 Loss Train: 1.379349628234292 Train Accuracy: 0.471783382903936\n",
            "Epoch: 27 Loss Validation: 1.2858110822382427 Validation Accuracy: 0.5088652482269503\n",
            "Epoch: 28 Loss Train: 1.3594934742718456 Train Accuracy: 0.48437560353818226\n",
            "Epoch: 28 Loss Validation: 1.1923651354653495 Validation Accuracy: 0.5347517730496454\n",
            "Epoch: 29 Loss Train: 1.367215037983369 Train Accuracy: 0.4812854880451157\n",
            "Epoch: 29 Loss Validation: 1.2382973517690385 Validation Accuracy: 0.5216312056737589\n",
            "Epoch: 30 Loss Train: 1.3539134703855464 Train Accuracy: 0.4845301093128356\n",
            "Epoch: 30 Loss Validation: 1.1828163209415616 Validation Accuracy: 0.5368794326241135\n",
            "Epoch: 31 Loss Train: 1.3459176940713975 Train Accuracy: 0.49190776005253195\n",
            "Epoch: 31 Loss Validation: 1.1523651849655878 Validation Accuracy: 0.5460992907801419\n",
            "Epoch: 32 Loss Train: 1.349235405258954 Train Accuracy: 0.4895129205454054\n",
            "Epoch: 32 Loss Validation: 1.1473938624064128 Validation Accuracy: 0.5652482269503546\n",
            "Epoch: 33 Loss Train: 1.3359290348654762 Train Accuracy: 0.48885627100312873\n",
            "Epoch: 33 Loss Validation: 1.2165753131821042 Validation Accuracy: 0.5301418439716312\n",
            "Epoch: 34 Loss Train: 1.3270897960917836 Train Accuracy: 0.4982811232569817\n",
            "Epoch: 34 Loss Validation: 1.1882696208499728 Validation Accuracy: 0.550354609929078\n",
            "Epoch: 35 Loss Train: 1.3368495753742158 Train Accuracy: 0.4882382479045154\n",
            "Epoch: 35 Loss Validation: 1.2129654912721544 Validation Accuracy: 0.5336879432624113\n",
            "Epoch: 36 Loss Train: 1.3148035423003417 Train Accuracy: 0.5012939858627217\n",
            "Epoch: 36 Loss Validation: 1.2862813827537356 Validation Accuracy: 0.5095744680851064\n",
            "Epoch: 37 Loss Train: 1.311794820953818 Train Accuracy: 0.5012939858627217\n",
            "Epoch: 37 Loss Validation: 1.2420082716714769 Validation Accuracy: 0.5230496453900709\n",
            "Epoch: 38 Loss Train: 1.3026317326142827 Train Accuracy: 0.5073583375178647\n",
            "Epoch: 38 Loss Validation: 1.1186386531307584 Validation Accuracy: 0.573049645390071\n",
            "Epoch: 39 Loss Train: 1.2948972783624169 Train Accuracy: 0.5058132797713315\n",
            "Epoch: 39 Loss Validation: 1.1815938694136483 Validation Accuracy: 0.5358156028368795\n",
            "Epoch: 40 Loss Train: 1.292020404402585 Train Accuracy: 0.5103712001236046\n",
            "Epoch: 40 Loss Validation: 1.164778899578821 Validation Accuracy: 0.5570921985815603\n",
            "Epoch: 41 Loss Train: 1.275139483538541 Train Accuracy: 0.5173625864266677\n",
            "Epoch: 41 Loss Validation: 1.2218974828720093 Validation Accuracy: 0.5354609929078015\n",
            "Epoch: 42 Loss Train: 1.2831368408101127 Train Accuracy: 0.5122252694194446\n",
            "Epoch: 42 Loss Validation: 1.2903056400162833 Validation Accuracy: 0.5145390070921986\n",
            "Epoch: 43 Loss Train: 1.2723870169032703 Train Accuracy: 0.517517092201321\n",
            "Epoch: 43 Loss Validation: 1.1221495767434437 Validation Accuracy: 0.5698581560283688\n",
            "Epoch: 44 Loss Train: 1.2719914320318457 Train Accuracy: 0.518560006180231\n",
            "Epoch: 44 Loss Validation: 1.2356042890321641 Validation Accuracy: 0.5368794326241135\n",
            "Epoch: 45 Loss Train: 1.2624148407721902 Train Accuracy: 0.5188690177295376\n"
          ],
          "name": "stdout"
        },
        {
          "output_type": "stream",
          "text": [
            "\u001b[32m[I 2021-01-06 21:04:30,742]\u001b[0m Trial 7 finished with value: 1.1186386531307584 and parameters: {'learning_rate': 0.0001661473003796346, 'learning_rate_decay': 0.00021058724942611307, 'momentum': 0.00012881376588278683, 'batch_size': 139}. Best is trial 0 with value: 1.0309110783478792.\u001b[0m\n"
          ],
          "name": "stderr"
        },
        {
          "output_type": "stream",
          "text": [
            "Epoch: 45 Loss Validation: 1.1529474627403986 Validation Accuracy: 0.5549645390070922\n",
            "Epoch: 1 Loss Train: 1.9782673375648365 Train Accuracy: 0.15852292479431418\n",
            "Epoch: 1 Loss Validation: 1.9157728648954822 Validation Accuracy: 0.19929078014184398\n",
            "Epoch: 2 Loss Train: 1.9416491993686609 Train Accuracy: 0.17420526092162694\n",
            "Epoch: 2 Loss Validation: 1.8833920917203348 Validation Accuracy: 0.2851063829787234\n",
            "Epoch: 3 Loss Train: 1.912188188234965 Train Accuracy: 0.20043261616902933\n",
            "Epoch: 3 Loss Validation: 1.8330344192443355 Validation Accuracy: 0.28936170212765955\n",
            "Epoch: 4 Loss Train: 1.8741961391348587 Train Accuracy: 0.22662134497276837\n",
            "Epoch: 4 Loss Validation: 1.7420918672315535 Validation Accuracy: 0.34290780141843974\n",
            "Epoch: 5 Loss Train: 1.836849290027953 Train Accuracy: 0.25373710842442737\n",
            "Epoch: 5 Loss Validation: 1.6709869330929172 Validation Accuracy: 0.3624113475177305\n",
            "Epoch: 6 Loss Train: 1.7877253678807041 Train Accuracy: 0.2846768897987562\n",
            "Epoch: 6 Loss Validation: 1.6693007061558385 Validation Accuracy: 0.3404255319148936\n",
            "Epoch: 7 Loss Train: 1.7613530037695901 Train Accuracy: 0.2991618061725057\n",
            "Epoch: 7 Loss Validation: 1.5512207169686594 Validation Accuracy: 0.399290780141844\n",
            "Epoch: 8 Loss Train: 1.73432430593591 Train Accuracy: 0.31302869944764183\n",
            "Epoch: 8 Loss Validation: 1.4805607449623845 Validation Accuracy: 0.4319148936170213\n",
            "Epoch: 9 Loss Train: 1.6974352836608886 Train Accuracy: 0.33276681215960446\n",
            "Epoch: 9 Loss Validation: 1.553010517551053 Validation Accuracy: 0.399645390070922\n",
            "Epoch: 10 Loss Train: 1.6676473659381532 Train Accuracy: 0.3488740391672139\n",
            "Epoch: 10 Loss Validation: 1.4876574066377455 Validation Accuracy: 0.4173758865248227\n",
            "Epoch: 11 Loss Train: 1.6422465215649522 Train Accuracy: 0.3608868631465101\n",
            "Epoch: 11 Loss Validation: 1.384862494084143 Validation Accuracy: 0.46063829787234045\n",
            "Epoch: 12 Loss Train: 1.6261124744749906 Train Accuracy: 0.3643246166325466\n",
            "Epoch: 12 Loss Validation: 1.3879568288403172 Validation Accuracy: 0.4695035460992908\n",
            "Epoch: 13 Loss Train: 1.599534709411755 Train Accuracy: 0.3772644752597628\n",
            "Epoch: 13 Loss Validation: 1.3578064114816728 Validation Accuracy: 0.4656028368794326\n",
            "Epoch: 14 Loss Train: 1.5813274270609805 Train Accuracy: 0.38746185638688246\n",
            "Epoch: 14 Loss Validation: 1.3915231074056318 Validation Accuracy: 0.46170212765957447\n",
            "Epoch: 15 Loss Train: 1.5713836280923141 Train Accuracy: 0.391479006527869\n",
            "Epoch: 15 Loss Validation: 1.356178758605834 Validation Accuracy: 0.4726950354609929\n",
            "Epoch: 16 Loss Train: 1.5525001969253809 Train Accuracy: 0.4027193016338986\n",
            "Epoch: 16 Loss Validation: 1.3737226109350882 Validation Accuracy: 0.47411347517730495\n",
            "Epoch: 17 Loss Train: 1.5459976074988382 Train Accuracy: 0.40295106029587857\n",
            "Epoch: 17 Loss Validation: 1.3327211237722827 Validation Accuracy: 0.48120567375886525\n",
            "Epoch: 18 Loss Train: 1.5353169800942403 Train Accuracy: 0.41276217698636486\n",
            "Epoch: 18 Loss Validation: 1.351662935749177 Validation Accuracy: 0.4797872340425532\n",
            "Epoch: 19 Loss Train: 1.5173643450987966 Train Accuracy: 0.4208351037120012\n",
            "Epoch: 19 Loss Validation: 1.303219033825782 Validation Accuracy: 0.49148936170212765\n",
            "Epoch: 20 Loss Train: 1.5030982389784695 Train Accuracy: 0.42353895476843445\n",
            "Epoch: 20 Loss Validation: 1.298464104052513 Validation Accuracy: 0.48404255319148937\n",
            "Epoch: 21 Loss Train: 1.4975871604785584 Train Accuracy: 0.42628143226853105\n",
            "Epoch: 21 Loss Validation: 1.251115833559344 Validation Accuracy: 0.5109929078014185\n",
            "Epoch: 22 Loss Train: 1.4863690844753332 Train Accuracy: 0.427440225578431\n",
            "Epoch: 22 Loss Validation: 1.2556896594262892 Validation Accuracy: 0.5039007092198582\n",
            "Epoch: 23 Loss Train: 1.4821942166278237 Train Accuracy: 0.4304917146278342\n",
            "Epoch: 23 Loss Validation: 1.3136996588399332 Validation Accuracy: 0.48156028368794324\n",
            "Epoch: 24 Loss Train: 1.4546981389062446 Train Accuracy: 0.44126849240990385\n",
            "Epoch: 24 Loss Validation: 1.2368714770963114 Validation Accuracy: 0.5088652482269503\n",
            "Epoch: 25 Loss Train: 1.4536330055772213 Train Accuracy: 0.445710533431187\n",
            "Epoch: 25 Loss Validation: 1.2443220942251143 Validation Accuracy: 0.5195035460992907\n",
            "Epoch: 26 Loss Train: 1.4406239614152072 Train Accuracy: 0.45227702885395343\n",
            "Epoch: 26 Loss Validation: 1.2398851936863315 Validation Accuracy: 0.524468085106383\n",
            "Epoch: 27 Loss Train: 1.4335768398485687 Train Accuracy: 0.4509251033257368\n",
            "Epoch: 27 Loss Validation: 1.1940280256732818 Validation Accuracy: 0.5308510638297872\n",
            "Epoch: 28 Loss Train: 1.4365159917296024 Train Accuracy: 0.4568349492062266\n",
            "Epoch: 28 Loss Validation: 1.1942805196008375 Validation Accuracy: 0.5404255319148936\n",
            "Epoch: 29 Loss Train: 1.4237215983240228 Train Accuracy: 0.4604272084669164\n",
            "Epoch: 29 Loss Validation: 1.2322574623169438 Validation Accuracy: 0.5216312056737589\n",
            "Epoch: 30 Loss Train: 1.4105331140652038 Train Accuracy: 0.46498512881918963\n",
            "Epoch: 30 Loss Validation: 1.2342525970551275 Validation Accuracy: 0.526241134751773\n",
            "Epoch: 31 Loss Train: 1.4068310553567451 Train Accuracy: 0.46336281818532965\n",
            "Epoch: 31 Loss Validation: 1.206909082589611 Validation Accuracy: 0.5308510638297872\n",
            "Epoch: 32 Loss Train: 1.4064826860762478 Train Accuracy: 0.46641430723473287\n",
            "Epoch: 32 Loss Validation: 1.2127726481806846 Validation Accuracy: 0.5301418439716312\n",
            "Epoch: 33 Loss Train: 1.3968951639376188 Train Accuracy: 0.46792073853760285\n",
            "Epoch: 33 Loss Validation: 1.1903267464330118 Validation Accuracy: 0.5368794326241135\n",
            "Epoch: 34 Loss Train: 1.39078824771078 Train Accuracy: 0.4705473367067094\n",
            "Epoch: 34 Loss Validation: 1.1822923671814702 Validation Accuracy: 0.5336879432624113\n",
            "Epoch: 35 Loss Train: 1.3797616866596958 Train Accuracy: 0.4745258604040326\n",
            "Epoch: 35 Loss Validation: 1.164228388378697 Validation Accuracy: 0.5563829787234043\n",
            "Epoch: 36 Loss Train: 1.3806637897826077 Train Accuracy: 0.4771910850168025\n",
            "Epoch: 36 Loss Validation: 1.1862884115788244 Validation Accuracy: 0.5411347517730496\n",
            "Epoch: 37 Loss Train: 1.3608620346638194 Train Accuracy: 0.47919966008729575\n",
            "Epoch: 37 Loss Validation: 1.182812310034229 Validation Accuracy: 0.5478723404255319\n",
            "Epoch: 38 Loss Train: 1.3680466513884695 Train Accuracy: 0.4837575804395689\n",
            "Epoch: 38 Loss Validation: 1.1906287381725926 Validation Accuracy: 0.5411347517730496\n",
            "Epoch: 39 Loss Train: 1.3573206483272084 Train Accuracy: 0.48020394762254237\n",
            "Epoch: 39 Loss Validation: 1.1663500301299556 Validation Accuracy: 0.5570921985815603\n",
            "Epoch: 40 Loss Train: 1.3540612442451612 Train Accuracy: 0.4871953339256055\n",
            "Epoch: 40 Loss Validation: 1.206924767263474 Validation Accuracy: 0.5414893617021277\n",
            "Epoch: 41 Loss Train: 1.351975105101602 Train Accuracy: 0.48221252269303566\n",
            "Epoch: 41 Loss Validation: 1.1583977668516097 Validation Accuracy: 0.5581560283687943\n",
            "Epoch: 42 Loss Train: 1.3304803354698316 Train Accuracy: 0.49503650198926186\n",
            "Epoch: 42 Loss Validation: 1.2297662438884858 Validation Accuracy: 0.5315602836879433\n",
            "Epoch: 43 Loss Train: 1.338125671420181 Train Accuracy: 0.48997643786936534\n",
            "Epoch: 43 Loss Validation: 1.184285459979888 Validation Accuracy: 0.5443262411347518\n",
            "Epoch: 44 Loss Train: 1.330408028970685 Train Accuracy: 0.49577040441886516\n",
            "Epoch: 44 Loss Validation: 1.1135768659653202 Validation Accuracy: 0.5787234042553191\n",
            "Epoch: 45 Loss Train: 1.3292539278666178 Train Accuracy: 0.49399358801035187\n",
            "Epoch: 45 Loss Validation: 1.182114843399294 Validation Accuracy: 0.5354609929078015\n",
            "Epoch: 46 Loss Train: 1.3222878092213681 Train Accuracy: 0.49634980107381516\n",
            "Epoch: 46 Loss Validation: 1.153569196501086 Validation Accuracy: 0.5609929078014184\n",
            "Epoch: 47 Loss Train: 1.3127411654120997 Train Accuracy: 0.5004055776584649\n",
            "Epoch: 47 Loss Validation: 1.1611877699052133 Validation Accuracy: 0.5609929078014184\n",
            "Epoch: 48 Loss Train: 1.3103230965764898 Train Accuracy: 0.5052338831163815\n"
          ],
          "name": "stdout"
        },
        {
          "output_type": "stream",
          "text": [
            "\u001b[32m[I 2021-01-06 21:35:14,989]\u001b[0m Trial 8 finished with value: 1.1135768659653202 and parameters: {'learning_rate': 8.231696821655461e-05, 'learning_rate_decay': 1.1251874479653904e-05, 'momentum': 1.332829471400567e-06, 'batch_size': 91}. Best is trial 0 with value: 1.0309110783478792.\u001b[0m\n"
          ],
          "name": "stderr"
        },
        {
          "output_type": "stream",
          "text": [
            "Epoch: 48 Loss Validation: 1.1602792701413553 Validation Accuracy: 0.5631205673758866\n",
            "Epoch: 1 Loss Train: 1.9565257373554954 Train Accuracy: 0.15713237282243425\n",
            "Epoch: 1 Loss Validation: 1.9569399448541493 Validation Accuracy: 0.15921985815602838\n",
            "Epoch: 2 Loss Train: 1.8797790623944381 Train Accuracy: 0.2302908571207849\n",
            "Epoch: 2 Loss Validation: 1.8189943249409015 Validation Accuracy: 0.23652482269503547\n",
            "Epoch: 3 Loss Train: 1.8178882002830505 Train Accuracy: 0.26493877708679364\n",
            "Epoch: 3 Loss Validation: 1.6759294959215016 Validation Accuracy: 0.3397163120567376\n",
            "Epoch: 4 Loss Train: 1.771846424916695 Train Accuracy: 0.2939858627216192\n",
            "Epoch: 4 Loss Validation: 1.6936899836246784 Validation Accuracy: 0.2801418439716312\n",
            "Epoch: 5 Loss Train: 1.7245166795007114 Train Accuracy: 0.32063810884931826\n",
            "Epoch: 5 Loss Validation: 1.5252642677380488 Validation Accuracy: 0.3854609929078014\n",
            "Epoch: 6 Loss Train: 1.6737503029149154 Train Accuracy: 0.34956931515315387\n",
            "Epoch: 6 Loss Validation: 1.4377573201289544 Validation Accuracy: 0.4049645390070922\n",
            "Epoch: 7 Loss Train: 1.6457520163264767 Train Accuracy: 0.3605392251535401\n",
            "Epoch: 7 Loss Validation: 1.8268698178804839 Validation Accuracy: 0.30141843971631205\n",
            "Epoch: 8 Loss Train: 1.6127217720294822 Train Accuracy: 0.37177952025956973\n",
            "Epoch: 8 Loss Validation: 1.5281184086432824 Validation Accuracy: 0.4078014184397163\n",
            "Epoch: 9 Loss Train: 1.5749128949025581 Train Accuracy: 0.3922901618447989\n",
            "Epoch: 9 Loss Validation: 1.5245263370183797 Validation Accuracy: 0.40283687943262414\n",
            "Epoch: 10 Loss Train: 1.5423069390757331 Train Accuracy: 0.4063888137819151\n",
            "Epoch: 10 Loss Validation: 1.4498089036116233 Validation Accuracy: 0.42836879432624114\n",
            "Epoch: 11 Loss Train: 1.5154100579434429 Train Accuracy: 0.41392097029626485\n",
            "Epoch: 11 Loss Validation: 1.3214321090624883 Validation Accuracy: 0.4705673758865248\n",
            "Epoch: 12 Loss Train: 1.5088060986379097 Train Accuracy: 0.4229981845571478\n",
            "Epoch: 12 Loss Validation: 1.3561451584100723 Validation Accuracy: 0.45\n",
            "Epoch: 13 Loss Train: 1.4751112060300235 Train Accuracy: 0.4335045772335741\n",
            "Epoch: 13 Loss Validation: 1.3662269619794993 Validation Accuracy: 0.4829787234042553\n",
            "Epoch: 14 Loss Train: 1.4595476573911206 Train Accuracy: 0.4440495963536637\n",
            "Epoch: 14 Loss Validation: 1.2922455003628364 Validation Accuracy: 0.49361702127659574\n",
            "Epoch: 15 Loss Train: 1.4418447043361335 Train Accuracy: 0.45482637413573335\n",
            "Epoch: 15 Loss Validation: 1.3224682051401873 Validation Accuracy: 0.4847517730496454\n",
            "Epoch: 16 Loss Train: 1.4310893457511376 Train Accuracy: 0.45556027656533665\n",
            "Epoch: 16 Loss Validation: 1.235637671672381 Validation Accuracy: 0.5095744680851064\n",
            "Epoch: 17 Loss Train: 1.4036831244312484 Train Accuracy: 0.46807524431225617\n",
            "Epoch: 17 Loss Validation: 1.1748836567768683 Validation Accuracy: 0.5404255319148936\n",
            "Epoch: 18 Loss Train: 1.3962189041335007 Train Accuracy: 0.47047008381938277\n",
            "Epoch: 18 Loss Validation: 1.2316180352981274 Validation Accuracy: 0.5230496453900709\n",
            "Epoch: 19 Loss Train: 1.3843315947672417 Train Accuracy: 0.47823399899571245\n",
            "Epoch: 19 Loss Validation: 1.1719088004185603 Validation Accuracy: 0.550354609929078\n",
            "Epoch: 20 Loss Train: 1.37267583557244 Train Accuracy: 0.48062883850283905\n",
            "Epoch: 20 Loss Validation: 1.1955869427094092 Validation Accuracy: 0.5379432624113475\n",
            "Epoch: 21 Loss Train: 1.359437885983237 Train Accuracy: 0.4877747305805554\n",
            "Epoch: 21 Loss Validation: 1.237713717497312 Validation Accuracy: 0.5283687943262412\n",
            "Epoch: 22 Loss Train: 1.3344377037780037 Train Accuracy: 0.499246784348565\n",
            "Epoch: 22 Loss Validation: 1.181772449841866 Validation Accuracy: 0.5308510638297872\n",
            "Epoch: 23 Loss Train: 1.3291489764534195 Train Accuracy: 0.5028776700529183\n",
            "Epoch: 23 Loss Validation: 1.1676529416671166 Validation Accuracy: 0.5386524822695036\n",
            "Epoch: 24 Loss Train: 1.3151334775932904 Train Accuracy: 0.5030321758275715\n",
            "Epoch: 24 Loss Validation: 1.118771323790917 Validation Accuracy: 0.5613475177304964\n",
            "Epoch: 25 Loss Train: 1.3150954852844108 Train Accuracy: 0.5038819575881649\n",
            "Epoch: 25 Loss Validation: 1.1195215101425464 Validation Accuracy: 0.5705673758865248\n",
            "Epoch: 26 Loss Train: 1.3135242652276466 Train Accuracy: 0.5047703657924215\n",
            "Epoch: 26 Loss Validation: 1.2204539386125712 Validation Accuracy: 0.5421985815602837\n",
            "Epoch: 27 Loss Train: 1.2970156592541728 Train Accuracy: 0.5094441654756846\n",
            "Epoch: 27 Loss Validation: 1.205180294238604 Validation Accuracy: 0.5351063829787234\n",
            "Epoch: 28 Loss Train: 1.2990290681863654 Train Accuracy: 0.5127274131870678\n",
            "Epoch: 28 Loss Validation: 1.143970251083374 Validation Accuracy: 0.5546099290780142\n",
            "Epoch: 29 Loss Train: 1.2830180633684685 Train Accuracy: 0.5154698906871644\n",
            "Epoch: 29 Loss Validation: 1.1125407012609334 Validation Accuracy: 0.5680851063829787\n",
            "Epoch: 30 Loss Train: 1.2726359649978836 Train Accuracy: 0.5211479779056742\n",
            "Epoch: 30 Loss Validation: 1.0820562335161061 Validation Accuracy: 0.574468085106383\n",
            "Epoch: 31 Loss Train: 1.2741326628060177 Train Accuracy: 0.5213024836803275\n",
            "Epoch: 31 Loss Validation: 1.0882604637971292 Validation Accuracy: 0.574468085106383\n",
            "Epoch: 32 Loss Train: 1.271984740577895 Train Accuracy: 0.5155085171308278\n",
            "Epoch: 32 Loss Validation: 1.1168800443410873 Validation Accuracy: 0.5638297872340425\n",
            "Epoch: 33 Loss Train: 1.260545479069496 Train Accuracy: 0.5255513924832941\n",
            "Epoch: 33 Loss Validation: 1.1222252960388477 Validation Accuracy: 0.5588652482269504\n",
            "Epoch: 34 Loss Train: 1.2580462668476433 Train Accuracy: 0.5285642550890339\n",
            "Epoch: 34 Loss Validation: 1.0777958941001158 Validation Accuracy: 0.5914893617021276\n",
            "Epoch: 35 Loss Train: 1.2571204386908432 Train Accuracy: 0.5262852949128973\n",
            "Epoch: 35 Loss Validation: 1.1074534230507338 Validation Accuracy: 0.574468085106383\n",
            "Epoch: 36 Loss Train: 1.245039769287767 Train Accuracy: 0.5329290432229905\n",
            "Epoch: 36 Loss Validation: 1.131020949437068 Validation Accuracy: 0.5808510638297872\n",
            "Epoch: 37 Loss Train: 1.2471776794770668 Train Accuracy: 0.5334698134342771\n",
            "Epoch: 37 Loss Validation: 1.0771789367382343 Validation Accuracy: 0.5858156028368794\n",
            "Epoch: 38 Loss Train: 1.243442984490559 Train Accuracy: 0.5335470663216038\n",
            "Epoch: 38 Loss Validation: 1.0915389760182455 Validation Accuracy: 0.5875886524822695\n",
            "Epoch: 39 Loss Train: 1.2345804063410595 Train Accuracy: 0.5328904167793271\n",
            "Epoch: 39 Loss Validation: 1.092669101861807 Validation Accuracy: 0.5794326241134752\n",
            "Epoch: 40 Loss Train: 1.2363887732398922 Train Accuracy: 0.5332380547722971\n",
            "Epoch: 40 Loss Validation: 1.1181003795220301 Validation Accuracy: 0.5705673758865248\n",
            "Epoch: 41 Loss Train: 1.228824714391396 Train Accuracy: 0.5409247170613002\n",
            "Epoch: 41 Loss Validation: 1.062237567626513 Validation Accuracy: 0.5826241134751773\n",
            "Epoch: 42 Loss Train: 1.2410419015534992 Train Accuracy: 0.5319633821314071\n",
            "Epoch: 42 Loss Validation: 1.1088472192104046 Validation Accuracy: 0.5801418439716312\n",
            "Epoch: 43 Loss Train: 1.2210975738948788 Train Accuracy: 0.5374869635752636\n"
          ],
          "name": "stdout"
        },
        {
          "output_type": "stream",
          "text": [
            "\u001b[32m[I 2021-01-06 22:01:45,339]\u001b[0m Trial 9 finished with value: 1.062237567626513 and parameters: {'learning_rate': 0.0014362885702711838, 'learning_rate_decay': 6.981495903442657e-05, 'momentum': 0.00019869317958510458, 'batch_size': 112}. Best is trial 0 with value: 1.0309110783478792.\u001b[0m\n"
          ],
          "name": "stderr"
        },
        {
          "output_type": "stream",
          "text": [
            "Epoch: 43 Loss Validation: 1.1858233282199273 Validation Accuracy: 0.5624113475177305\n",
            "Epoch: 1 Loss Train: 2.0049882412572857 Train Accuracy: 0.1487504345474912\n",
            "Epoch: 1 Loss Validation: 1.9385873495146286 Validation Accuracy: 0.19822695035460994\n"
          ],
          "name": "stdout"
        },
        {
          "output_type": "error",
          "ename": "KeyboardInterrupt",
          "evalue": "ignored",
          "traceback": [
            "\u001b[0;31m---------------------------------------------------------------------------\u001b[0m",
            "\u001b[0;31mKeyboardInterrupt\u001b[0m                         Traceback (most recent call last)",
            "\u001b[0;32m<ipython-input-109-241fc903f0ae>\u001b[0m in \u001b[0;36m<module>\u001b[0;34m()\u001b[0m\n\u001b[1;32m      2\u001b[0m \u001b[0;31m# Optimization Process:\u001b[0m\u001b[0;34m\u001b[0m\u001b[0;34m\u001b[0m\u001b[0;34m\u001b[0m\u001b[0m\n\u001b[1;32m      3\u001b[0m \u001b[0mstudy\u001b[0m \u001b[0;34m=\u001b[0m \u001b[0moptuna\u001b[0m\u001b[0;34m.\u001b[0m\u001b[0mcreate_study\u001b[0m\u001b[0;34m(\u001b[0m\u001b[0mdirection\u001b[0m\u001b[0;34m=\u001b[0m\u001b[0;34m'minimize'\u001b[0m\u001b[0;34m)\u001b[0m\u001b[0;34m\u001b[0m\u001b[0;34m\u001b[0m\u001b[0m\n\u001b[0;32m----> 4\u001b[0;31m \u001b[0mstudy\u001b[0m\u001b[0;34m.\u001b[0m\u001b[0moptimize\u001b[0m\u001b[0;34m(\u001b[0m\u001b[0mobjective\u001b[0m\u001b[0;34m,\u001b[0m \u001b[0mn_trials\u001b[0m\u001b[0;34m=\u001b[0m\u001b[0;36m50\u001b[0m\u001b[0;34m)\u001b[0m\u001b[0;34m\u001b[0m\u001b[0;34m\u001b[0m\u001b[0m\n\u001b[0m\u001b[1;32m      5\u001b[0m \u001b[0;34m\u001b[0m\u001b[0m\n\u001b[1;32m      6\u001b[0m \u001b[0mprint\u001b[0m\u001b[0;34m(\u001b[0m\u001b[0;34m'best trial'\u001b[0m\u001b[0;34m)\u001b[0m\u001b[0;34m\u001b[0m\u001b[0;34m\u001b[0m\u001b[0m\n",
            "\u001b[0;32m/usr/local/lib/python3.6/dist-packages/optuna/study.py\u001b[0m in \u001b[0;36moptimize\u001b[0;34m(self, func, n_trials, timeout, n_jobs, catch, callbacks, gc_after_trial, show_progress_bar)\u001b[0m\n\u001b[1;32m    313\u001b[0m             \u001b[0mcallbacks\u001b[0m\u001b[0;34m=\u001b[0m\u001b[0mcallbacks\u001b[0m\u001b[0;34m,\u001b[0m\u001b[0;34m\u001b[0m\u001b[0;34m\u001b[0m\u001b[0m\n\u001b[1;32m    314\u001b[0m             \u001b[0mgc_after_trial\u001b[0m\u001b[0;34m=\u001b[0m\u001b[0mgc_after_trial\u001b[0m\u001b[0;34m,\u001b[0m\u001b[0;34m\u001b[0m\u001b[0;34m\u001b[0m\u001b[0m\n\u001b[0;32m--> 315\u001b[0;31m             \u001b[0mshow_progress_bar\u001b[0m\u001b[0;34m=\u001b[0m\u001b[0mshow_progress_bar\u001b[0m\u001b[0;34m,\u001b[0m\u001b[0;34m\u001b[0m\u001b[0;34m\u001b[0m\u001b[0m\n\u001b[0m\u001b[1;32m    316\u001b[0m         )\n\u001b[1;32m    317\u001b[0m \u001b[0;34m\u001b[0m\u001b[0m\n",
            "\u001b[0;32m/usr/local/lib/python3.6/dist-packages/optuna/_optimize.py\u001b[0m in \u001b[0;36m_optimize\u001b[0;34m(study, func, n_trials, timeout, n_jobs, catch, callbacks, gc_after_trial, show_progress_bar)\u001b[0m\n\u001b[1;32m     63\u001b[0m                 \u001b[0mreseed_sampler_rng\u001b[0m\u001b[0;34m=\u001b[0m\u001b[0;32mFalse\u001b[0m\u001b[0;34m,\u001b[0m\u001b[0;34m\u001b[0m\u001b[0;34m\u001b[0m\u001b[0m\n\u001b[1;32m     64\u001b[0m                 \u001b[0mtime_start\u001b[0m\u001b[0;34m=\u001b[0m\u001b[0;32mNone\u001b[0m\u001b[0;34m,\u001b[0m\u001b[0;34m\u001b[0m\u001b[0;34m\u001b[0m\u001b[0m\n\u001b[0;32m---> 65\u001b[0;31m                 \u001b[0mprogress_bar\u001b[0m\u001b[0;34m=\u001b[0m\u001b[0mprogress_bar\u001b[0m\u001b[0;34m,\u001b[0m\u001b[0;34m\u001b[0m\u001b[0;34m\u001b[0m\u001b[0m\n\u001b[0m\u001b[1;32m     66\u001b[0m             )\n\u001b[1;32m     67\u001b[0m         \u001b[0;32melse\u001b[0m\u001b[0;34m:\u001b[0m\u001b[0;34m\u001b[0m\u001b[0;34m\u001b[0m\u001b[0m\n",
            "\u001b[0;32m/usr/local/lib/python3.6/dist-packages/optuna/_optimize.py\u001b[0m in \u001b[0;36m_optimize_sequential\u001b[0;34m(study, func, n_trials, timeout, catch, callbacks, gc_after_trial, reseed_sampler_rng, time_start, progress_bar)\u001b[0m\n\u001b[1;32m    154\u001b[0m \u001b[0;34m\u001b[0m\u001b[0m\n\u001b[1;32m    155\u001b[0m         \u001b[0;32mtry\u001b[0m\u001b[0;34m:\u001b[0m\u001b[0;34m\u001b[0m\u001b[0;34m\u001b[0m\u001b[0m\n\u001b[0;32m--> 156\u001b[0;31m             \u001b[0mtrial\u001b[0m \u001b[0;34m=\u001b[0m \u001b[0m_run_trial\u001b[0m\u001b[0;34m(\u001b[0m\u001b[0mstudy\u001b[0m\u001b[0;34m,\u001b[0m \u001b[0mfunc\u001b[0m\u001b[0;34m,\u001b[0m \u001b[0mcatch\u001b[0m\u001b[0;34m)\u001b[0m\u001b[0;34m\u001b[0m\u001b[0;34m\u001b[0m\u001b[0m\n\u001b[0m\u001b[1;32m    157\u001b[0m         \u001b[0;32mexcept\u001b[0m \u001b[0mException\u001b[0m\u001b[0;34m:\u001b[0m\u001b[0;34m\u001b[0m\u001b[0;34m\u001b[0m\u001b[0m\n\u001b[1;32m    158\u001b[0m             \u001b[0;32mraise\u001b[0m\u001b[0;34m\u001b[0m\u001b[0;34m\u001b[0m\u001b[0m\n",
            "\u001b[0;32m/usr/local/lib/python3.6/dist-packages/optuna/_optimize.py\u001b[0m in \u001b[0;36m_run_trial\u001b[0;34m(study, func, catch)\u001b[0m\n\u001b[1;32m    187\u001b[0m \u001b[0;34m\u001b[0m\u001b[0m\n\u001b[1;32m    188\u001b[0m     \u001b[0;32mtry\u001b[0m\u001b[0;34m:\u001b[0m\u001b[0;34m\u001b[0m\u001b[0;34m\u001b[0m\u001b[0m\n\u001b[0;32m--> 189\u001b[0;31m         \u001b[0mvalue\u001b[0m \u001b[0;34m=\u001b[0m \u001b[0mfunc\u001b[0m\u001b[0;34m(\u001b[0m\u001b[0mtrial\u001b[0m\u001b[0;34m)\u001b[0m\u001b[0;34m\u001b[0m\u001b[0;34m\u001b[0m\u001b[0m\n\u001b[0m\u001b[1;32m    190\u001b[0m     \u001b[0;32mexcept\u001b[0m \u001b[0mexceptions\u001b[0m\u001b[0;34m.\u001b[0m\u001b[0mTrialPruned\u001b[0m \u001b[0;32mas\u001b[0m \u001b[0me\u001b[0m\u001b[0;34m:\u001b[0m\u001b[0;34m\u001b[0m\u001b[0;34m\u001b[0m\u001b[0m\n\u001b[1;32m    191\u001b[0m         \u001b[0;31m# Register the last intermediate value if present as the value of the trial.\u001b[0m\u001b[0;34m\u001b[0m\u001b[0;34m\u001b[0m\u001b[0;34m\u001b[0m\u001b[0m\n",
            "\u001b[0;32m<ipython-input-108-e724bd556e71>\u001b[0m in \u001b[0;36mobjective\u001b[0;34m(trial)\u001b[0m\n\u001b[1;32m     34\u001b[0m   loss = run_train(num_epochs, early_stopping, train_transform, valid_transform, batch_size,\n\u001b[1;32m     35\u001b[0m                    \u001b[0mmodel_name\u001b[0m\u001b[0;34m,\u001b[0m \u001b[0mpath_stats\u001b[0m\u001b[0;34m,\u001b[0m \u001b[0mpath_models\u001b[0m\u001b[0;34m,\u001b[0m \u001b[0mpath_data\u001b[0m\u001b[0;34m,\u001b[0m \u001b[0mdevice\u001b[0m\u001b[0;34m,\u001b[0m \u001b[0mmodel\u001b[0m\u001b[0;34m,\u001b[0m\u001b[0;34m\u001b[0m\u001b[0;34m\u001b[0m\u001b[0m\n\u001b[0;32m---> 36\u001b[0;31m                   weight_decay=0, learning_rate=None, learning_rate_decay=None, params=params)\n\u001b[0m\u001b[1;32m     37\u001b[0m \u001b[0;34m\u001b[0m\u001b[0m\n\u001b[1;32m     38\u001b[0m   \u001b[0;32mreturn\u001b[0m \u001b[0mnp\u001b[0m\u001b[0;34m.\u001b[0m\u001b[0mmean\u001b[0m\u001b[0;34m(\u001b[0m\u001b[0mloss\u001b[0m\u001b[0;34m)\u001b[0m\u001b[0;34m\u001b[0m\u001b[0;34m\u001b[0m\u001b[0m\n",
            "\u001b[0;32m<ipython-input-102-28a071d8b5ec>\u001b[0m in \u001b[0;36mrun_train\u001b[0;34m(num_epochs, early_stopping, train_transform, valid_transform, batch_size, model_name, path_stats, path_models, path_data, device, model, weight_decay, learning_rate, learning_rate_decay, params)\u001b[0m\n\u001b[1;32m     53\u001b[0m   \u001b[0;32mfor\u001b[0m \u001b[0mepoch\u001b[0m \u001b[0;32min\u001b[0m \u001b[0mrange\u001b[0m\u001b[0;34m(\u001b[0m\u001b[0mnum_epochs\u001b[0m\u001b[0;34m)\u001b[0m\u001b[0;34m:\u001b[0m\u001b[0;34m\u001b[0m\u001b[0;34m\u001b[0m\u001b[0m\n\u001b[1;32m     54\u001b[0m     \u001b[0;31m# Train:\u001b[0m\u001b[0;34m\u001b[0m\u001b[0;34m\u001b[0m\u001b[0;34m\u001b[0m\u001b[0m\n\u001b[0;32m---> 55\u001b[0;31m     \u001b[0mloss_t\u001b[0m\u001b[0;34m,\u001b[0m \u001b[0macc_t\u001b[0m \u001b[0;34m=\u001b[0m \u001b[0meng\u001b[0m\u001b[0;34m.\u001b[0m\u001b[0mtrain\u001b[0m\u001b[0;34m(\u001b[0m\u001b[0mtrain_loader\u001b[0m\u001b[0;34m)\u001b[0m\u001b[0;34m\u001b[0m\u001b[0;34m\u001b[0m\u001b[0m\n\u001b[0m\u001b[1;32m     56\u001b[0m     \u001b[0mprint\u001b[0m\u001b[0;34m(\u001b[0m\u001b[0;34mf'Epoch: {epoch + 1} Loss Train: {loss_t} Train Accuracy: {acc_t}'\u001b[0m\u001b[0;34m)\u001b[0m\u001b[0;34m\u001b[0m\u001b[0;34m\u001b[0m\u001b[0m\n\u001b[1;32m     57\u001b[0m \u001b[0;34m\u001b[0m\u001b[0m\n",
            "\u001b[0;32m<ipython-input-101-66e16aa153b5>\u001b[0m in \u001b[0;36mtrain\u001b[0;34m(self, data_loader)\u001b[0m\n\u001b[1;32m     39\u001b[0m \u001b[0;34m\u001b[0m\u001b[0m\n\u001b[1;32m     40\u001b[0m       \u001b[0;31m# Backward:\u001b[0m\u001b[0;34m\u001b[0m\u001b[0;34m\u001b[0m\u001b[0;34m\u001b[0m\u001b[0m\n\u001b[0;32m---> 41\u001b[0;31m       \u001b[0mloss\u001b[0m\u001b[0;34m.\u001b[0m\u001b[0mbackward\u001b[0m\u001b[0;34m(\u001b[0m\u001b[0;34m)\u001b[0m\u001b[0;34m\u001b[0m\u001b[0;34m\u001b[0m\u001b[0m\n\u001b[0m\u001b[1;32m     42\u001b[0m       \u001b[0;31m#nn.utils.clip_grad_norm_(model.parameters(), max_norm=1)\u001b[0m\u001b[0;34m\u001b[0m\u001b[0;34m\u001b[0m\u001b[0;34m\u001b[0m\u001b[0m\n\u001b[1;32m     43\u001b[0m       \u001b[0mself\u001b[0m\u001b[0;34m.\u001b[0m\u001b[0moptimizer\u001b[0m\u001b[0;34m.\u001b[0m\u001b[0mstep\u001b[0m\u001b[0;34m(\u001b[0m\u001b[0;34m)\u001b[0m\u001b[0;34m\u001b[0m\u001b[0;34m\u001b[0m\u001b[0m\n",
            "\u001b[0;32m/usr/local/lib/python3.6/dist-packages/torch/tensor.py\u001b[0m in \u001b[0;36mbackward\u001b[0;34m(self, gradient, retain_graph, create_graph)\u001b[0m\n\u001b[1;32m    219\u001b[0m                 \u001b[0mretain_graph\u001b[0m\u001b[0;34m=\u001b[0m\u001b[0mretain_graph\u001b[0m\u001b[0;34m,\u001b[0m\u001b[0;34m\u001b[0m\u001b[0;34m\u001b[0m\u001b[0m\n\u001b[1;32m    220\u001b[0m                 create_graph=create_graph)\n\u001b[0;32m--> 221\u001b[0;31m         \u001b[0mtorch\u001b[0m\u001b[0;34m.\u001b[0m\u001b[0mautograd\u001b[0m\u001b[0;34m.\u001b[0m\u001b[0mbackward\u001b[0m\u001b[0;34m(\u001b[0m\u001b[0mself\u001b[0m\u001b[0;34m,\u001b[0m \u001b[0mgradient\u001b[0m\u001b[0;34m,\u001b[0m \u001b[0mretain_graph\u001b[0m\u001b[0;34m,\u001b[0m \u001b[0mcreate_graph\u001b[0m\u001b[0;34m)\u001b[0m\u001b[0;34m\u001b[0m\u001b[0;34m\u001b[0m\u001b[0m\n\u001b[0m\u001b[1;32m    222\u001b[0m \u001b[0;34m\u001b[0m\u001b[0m\n\u001b[1;32m    223\u001b[0m     \u001b[0;32mdef\u001b[0m \u001b[0mregister_hook\u001b[0m\u001b[0;34m(\u001b[0m\u001b[0mself\u001b[0m\u001b[0;34m,\u001b[0m \u001b[0mhook\u001b[0m\u001b[0;34m)\u001b[0m\u001b[0;34m:\u001b[0m\u001b[0;34m\u001b[0m\u001b[0;34m\u001b[0m\u001b[0m\n",
            "\u001b[0;32m/usr/local/lib/python3.6/dist-packages/torch/autograd/__init__.py\u001b[0m in \u001b[0;36mbackward\u001b[0;34m(tensors, grad_tensors, retain_graph, create_graph, grad_variables)\u001b[0m\n\u001b[1;32m    130\u001b[0m     Variable._execution_engine.run_backward(\n\u001b[1;32m    131\u001b[0m         \u001b[0mtensors\u001b[0m\u001b[0;34m,\u001b[0m \u001b[0mgrad_tensors_\u001b[0m\u001b[0;34m,\u001b[0m \u001b[0mretain_graph\u001b[0m\u001b[0;34m,\u001b[0m \u001b[0mcreate_graph\u001b[0m\u001b[0;34m,\u001b[0m\u001b[0;34m\u001b[0m\u001b[0;34m\u001b[0m\u001b[0m\n\u001b[0;32m--> 132\u001b[0;31m         allow_unreachable=True)  # allow_unreachable flag\n\u001b[0m\u001b[1;32m    133\u001b[0m \u001b[0;34m\u001b[0m\u001b[0m\n\u001b[1;32m    134\u001b[0m \u001b[0;34m\u001b[0m\u001b[0m\n",
            "\u001b[0;31mKeyboardInterrupt\u001b[0m: "
          ]
        }
      ]
    },
    {
      "cell_type": "markdown",
      "metadata": {
        "id": "xhcqS-AjtyFL"
      },
      "source": [
        "# Libraries for all the nets:"
      ]
    },
    {
      "cell_type": "code",
      "metadata": {
        "id": "pgNRxdBcgJfd"
      },
      "source": [
        "# Library needed for the netwrok:\n",
        "import torch\n",
        "import torch.nn as nn\n",
        "import torch.nn.functional as F\n",
        "import torchvision\n",
        "import torchvision.transforms as transforms\n",
        "from torch import optim\n",
        "\n",
        "# Library to visualize net.\n",
        "from torchsummary import summary\n"
      ],
      "execution_count": null,
      "outputs": []
    },
    {
      "cell_type": "code",
      "metadata": {
        "colab": {
          "base_uri": "https://localhost:8080/"
        },
        "id": "1KxAMuAagJfg",
        "outputId": "a83a01fc-d0cc-477b-c384-139348989f07"
      },
      "source": [
        "# Set CUDA as device:\n",
        "device = torch.device('cuda' if torch.cuda.is_available() else 'cpu')\n",
        "print('Using device: %s'%device)"
      ],
      "execution_count": null,
      "outputs": [
        {
          "output_type": "stream",
          "text": [
            "Using device: cuda\n"
          ],
          "name": "stdout"
        }
      ]
    },
    {
      "cell_type": "markdown",
      "metadata": {
        "id": "QyFmHO3igJea"
      },
      "source": [
        "# Baseline:\n",
        "\n",
        "Implement our small deep network, no other tools used. "
      ]
    },
    {
      "cell_type": "code",
      "metadata": {
        "id": "gTag90yvgJfm"
      },
      "source": [
        "class Model(nn.Module):\n",
        "  \n",
        "  def __init__(self):\n",
        "    \n",
        "    super().__init__()\n",
        "\n",
        "    self.features = nn.Sequential(\n",
        "        nn.Conv2d(in_channels=3, out_channels=16, kernel_size=3, bias=False),\n",
        "        nn.BatchNorm2d(16),\n",
        "        nn.ReLU(inplace=True),\n",
        "\n",
        "        nn.Conv2d(in_channels=16, out_channels=32, kernel_size=3, bias=False),\n",
        "        nn.Dropout(0.2),\n",
        "        nn.BatchNorm2d(32),\n",
        "        nn.ReLU(inplace=True),\n",
        "        nn.MaxPool2d(2, 2),\n",
        "\n",
        "        nn.Conv2d(in_channels=32, out_channels=64, kernel_size=3, bias=False),\n",
        "        nn.BatchNorm2d(64),\n",
        "        nn.ReLU(inplace=True),\n",
        "\n",
        "        nn.Conv2d(in_channels=64, out_channels=128, kernel_size=3, bias=False),\n",
        "        nn.Dropout(0.2),\n",
        "        nn.BatchNorm2d(128),\n",
        "        nn.ReLU(inplace=True),\n",
        "        nn.MaxPool2d(2, 2),\n",
        "\n",
        "        nn.Conv2d(in_channels=128, out_channels=256, kernel_size=3,  bias=False),\n",
        "        nn.BatchNorm2d(256),\n",
        "        nn.ReLU(inplace=True),\n",
        "  \n",
        "\n",
        "        nn.Conv2d(in_channels=256, out_channels=256, kernel_size=3, bias=False),\n",
        "        nn.Dropout(0.2),\n",
        "\n",
        "        nn.BatchNorm2d(256),\n",
        "        nn.ReLU(inplace=True),\n",
        "        nn.MaxPool2d(2, 2),\n",
        "        nn.Flatten()\n",
        "    )\n",
        "\n",
        "    self.classifier = nn.Sequential(\n",
        "        nn.Dropout(0.3),\n",
        "        nn.Linear(1024, 512),\n",
        "        nn.ReLU(inplace=True),\n",
        "        nn.Linear(512, 7)\n",
        "    )\n",
        "\n",
        "  def forward(self,x):\n",
        "    x=self.features(x)\n",
        "    x=self.classifier(x)\n",
        "    return x "
      ],
      "execution_count": null,
      "outputs": []
    },
    {
      "cell_type": "code",
      "metadata": {
        "colab": {
          "base_uri": "https://localhost:8080/"
        },
        "id": "j_FWyvrvgJfp",
        "outputId": "b25d8161-e4fb-445a-82a0-ea493c40e076"
      },
      "source": [
        "# Initialize the mode\n",
        "model = Model().to(device)\n",
        "model.apply(weights_init)\n",
        "summary(model, (3, 48, 48))"
      ],
      "execution_count": null,
      "outputs": [
        {
          "output_type": "stream",
          "text": [
            "----------------------------------------------------------------\n",
            "        Layer (type)               Output Shape         Param #\n",
            "================================================================\n",
            "            Conv2d-1           [-1, 16, 46, 46]             432\n",
            "       BatchNorm2d-2           [-1, 16, 46, 46]              32\n",
            "              ReLU-3           [-1, 16, 46, 46]               0\n",
            "            Conv2d-4           [-1, 32, 44, 44]           4,608\n",
            "           Dropout-5           [-1, 32, 44, 44]               0\n",
            "       BatchNorm2d-6           [-1, 32, 44, 44]              64\n",
            "              ReLU-7           [-1, 32, 44, 44]               0\n",
            "         MaxPool2d-8           [-1, 32, 22, 22]               0\n",
            "            Conv2d-9           [-1, 64, 20, 20]          18,432\n",
            "      BatchNorm2d-10           [-1, 64, 20, 20]             128\n",
            "             ReLU-11           [-1, 64, 20, 20]               0\n",
            "           Conv2d-12          [-1, 128, 18, 18]          73,728\n",
            "          Dropout-13          [-1, 128, 18, 18]               0\n",
            "      BatchNorm2d-14          [-1, 128, 18, 18]             256\n",
            "             ReLU-15          [-1, 128, 18, 18]               0\n",
            "        MaxPool2d-16            [-1, 128, 9, 9]               0\n",
            "           Conv2d-17            [-1, 256, 7, 7]         294,912\n",
            "      BatchNorm2d-18            [-1, 256, 7, 7]             512\n",
            "             ReLU-19            [-1, 256, 7, 7]               0\n",
            "           Conv2d-20            [-1, 256, 5, 5]         589,824\n",
            "          Dropout-21            [-1, 256, 5, 5]               0\n",
            "      BatchNorm2d-22            [-1, 256, 5, 5]             512\n",
            "             ReLU-23            [-1, 256, 5, 5]               0\n",
            "        MaxPool2d-24            [-1, 256, 2, 2]               0\n",
            "          Flatten-25                 [-1, 1024]               0\n",
            "          Dropout-26                 [-1, 1024]               0\n",
            "           Linear-27                  [-1, 512]         524,800\n",
            "             ReLU-28                  [-1, 512]               0\n",
            "           Linear-29                    [-1, 7]           3,591\n",
            "================================================================\n",
            "Total params: 1,511,831\n",
            "Trainable params: 1,511,831\n",
            "Non-trainable params: 0\n",
            "----------------------------------------------------------------\n",
            "Input size (MB): 0.03\n",
            "Forward/backward pass size (MB): 5.23\n",
            "Params size (MB): 5.77\n",
            "Estimated Total Size (MB): 11.02\n",
            "----------------------------------------------------------------\n"
          ],
          "name": "stdout"
        }
      ]
    },
    {
      "cell_type": "code",
      "metadata": {
        "id": "O1IMKs1kgJfr"
      },
      "source": [
        "# Hyper Parameters:\n",
        "model_name = 'baseline'\n",
        "num_epochs = 30\n",
        "batch_size = 80\n",
        "learning_rate = 0.001\n",
        "learning_rate_decay = 0.9\n",
        "momentum = 0.0001\n",
        "weight_decay = 0.0005\n",
        "early_stopping = 10"
      ],
      "execution_count": null,
      "outputs": []
    },
    {
      "cell_type": "code",
      "metadata": {
        "id": "2DeQ48jMgJfs"
      },
      "source": [
        "train_transform = transforms.Compose([HistEqualization(),\n",
        "                                      transforms.ToTensor(),\n",
        "                                      transforms.Normalize(mean=[0.485, 0.456, 0.406], std=[0.229, 0.224, 0.225])\n",
        "                                    ])\n",
        "valid_transform = transforms.Compose([HistEqualization(),\n",
        "                                    transforms.ToTensor(),\n",
        "                                    transforms.Normalize(mean=[0.485, 0.456, 0.406], std=[0.229, 0.224, 0.225])\n",
        "                                    ])"
      ],
      "execution_count": null,
      "outputs": []
    },
    {
      "cell_type": "code",
      "metadata": {
        "colab": {
          "base_uri": "https://localhost:8080/"
        },
        "id": "_vNSMMlAgJfu",
        "outputId": "4a6e4a9d-296b-4aa1-aba2-9669a84a8a37"
      },
      "source": [
        "run_train(num_epochs, early_stopping, train_transform, valid_transform, batch_size,\n",
        "          model_name, PATH_STATS, PATH_MODELS, PATH_DATA, device, model,\n",
        "          weight_decay=weight_decay, learning_rate=learning_rate, learning_rate_decay=learning_rate_decay\n",
        "          balanced=False)"
      ],
      "execution_count": null,
      "outputs": [
        {
          "output_type": "stream",
          "text": [
            "Epoch: 1 Loss Train: 1.7049134561309107 Train Accuracy: 0.3425006759627641\n",
            "Epoch: 1 Loss Validation: 1.4368196135317837 Validation Accuracy: 0.4451697632199003\n"
          ],
          "name": "stdout"
        },
        {
          "output_type": "stream",
          "text": [
            "/usr/local/lib/python3.6/dist-packages/torch/optim/lr_scheduler.py:156: UserWarning: The epoch parameter in `scheduler.step()` was not necessary and is being deprecated where possible. Please use `scheduler.step()` to step the scheduler. During the deprecation, if epoch is different from None, the closed form is used instead of the new chainable form, where available. Please open an issue if you are unable to replicate your use case: https://github.com/pytorch/pytorch/issues/new/choose.\n",
            "  warnings.warn(EPOCH_DEPRECATION_WARNING, UserWarning)\n"
          ],
          "name": "stderr"
        },
        {
          "output_type": "stream",
          "text": [
            "Epoch: 2 Loss Train: 1.3568765940489593 Train Accuracy: 0.4742941017420526\n",
            "Epoch: 2 Loss Validation: 1.3002877761552363 Validation Accuracy: 0.5034184402642049\n",
            "Epoch: 3 Loss Train: 1.249802075786355 Train Accuracy: 0.5228861678705241\n",
            "Epoch: 3 Loss Validation: 1.2313178764817156 Validation Accuracy: 0.5257831511452741\n",
            "Epoch: 4 Loss Train: 1.1762800700502631 Train Accuracy: 0.5534783112518831\n",
            "Epoch: 4 Loss Validation: 1.1850808385161706 Validation Accuracy: 0.5479547298080266\n",
            "Epoch: 5 Loss Train: 1.1194958271067819 Train Accuracy: 0.5733323032948356\n",
            "Epoch: 5 Loss Validation: 1.1776134723130567 Validation Accuracy: 0.5480706091390166\n",
            "Epoch: 6 Loss Train: 1.0716347692557324 Train Accuracy: 0.5931090424504616\n",
            "Epoch: 6 Loss Validation: 1.0173990229765575 Validation Accuracy: 0.6243578353740971\n",
            "Epoch: 7 Loss Train: 1.02888714917648 Train Accuracy: 0.6103364363243077\n",
            "Epoch: 7 Loss Validation: 0.9814134081940592 Validation Accuracy: 0.6315037274518135\n",
            "Epoch: 8 Loss Train: 0.9885754561350669 Train Accuracy: 0.6242805824867704\n",
            "Epoch: 8 Loss Validation: 1.1318463250810717 Validation Accuracy: 0.5739889528371123\n",
            "Epoch: 9 Loss Train: 0.9456216716839944 Train Accuracy: 0.6427826490015064\n",
            "Epoch: 9 Loss Validation: 0.9915296539296339 Validation Accuracy: 0.6289930086136969\n",
            "Epoch: 10 Loss Train: 0.9088353487076583 Train Accuracy: 0.6572675653752559\n",
            "Epoch: 10 Loss Validation: 0.8276754039581176 Validation Accuracy: 0.6931515315384913\n",
            "Epoch: 11 Loss Train: 0.8686850766340891 Train Accuracy: 0.6757696318899918\n",
            "Epoch: 11 Loss Validation: 0.8042951644294791 Validation Accuracy: 0.7052416084051142\n",
            "Epoch: 12 Loss Train: 0.8220325203405486 Train Accuracy: 0.6931901579821546\n",
            "Epoch: 12 Loss Validation: 0.7663718725290195 Validation Accuracy: 0.7308123141102398\n",
            "Epoch: 13 Loss Train: 0.7685026044462934 Train Accuracy: 0.7128896442504539\n",
            "Epoch: 13 Loss Validation: 0.7121081481929179 Validation Accuracy: 0.7442929429487427\n",
            "Epoch: 14 Loss Train: 0.7250149234393497 Train Accuracy: 0.7316620958708332\n",
            "Epoch: 14 Loss Validation: 0.6598480976658103 Validation Accuracy: 0.7721426088300051\n",
            "Epoch: 15 Loss Train: 0.6773994659752022 Train Accuracy: 0.7497392715052725\n",
            "Epoch: 15 Loss Validation: 0.6196285361355102 Validation Accuracy: 0.7651512225269419\n",
            "Epoch: 16 Loss Train: 0.6253808308162807 Train Accuracy: 0.7690138668932751\n",
            "Epoch: 16 Loss Validation: 0.5728660076856613 Validation Accuracy: 0.8021553555564139\n",
            "Epoch: 17 Loss Train: 0.5781382258843493 Train Accuracy: 0.7869751631967244\n",
            "Epoch: 17 Loss Validation: 0.48644335344893697 Validation Accuracy: 0.846150874888949\n",
            "Epoch: 18 Loss Train: 0.5392962593907191 Train Accuracy: 0.8026574993240372\n",
            "Epoch: 18 Loss Validation: 0.4855509883735651 Validation Accuracy: 0.8336745335856928\n",
            "Epoch: 19 Loss Train: 0.4962505261287277 Train Accuracy: 0.8159449959442234\n",
            "Epoch: 19 Loss Validation: 0.43978317889074486 Validation Accuracy: 0.8477731855228089\n",
            "Epoch: 20 Loss Train: 0.4598090760869744 Train Accuracy: 0.8313569469658928\n",
            "Epoch: 20 Loss Validation: 0.4198150181521972 Validation Accuracy: 0.8619490903472518\n",
            "Epoch: 21 Loss Train: 0.435508729039151 Train Accuracy: 0.8419405925296458\n",
            "Epoch: 21 Loss Validation: 0.3496142376766161 Validation Accuracy: 0.8991849820387037\n",
            "Epoch: 22 Loss Train: 0.3977948155852012 Train Accuracy: 0.8557302329174553\n",
            "Epoch: 22 Loss Validation: 0.35083903273406586 Validation Accuracy: 0.882227973270501\n",
            "Epoch: 23 Loss Train: 0.37638641397158307 Train Accuracy: 0.8636486538684384\n",
            "Epoch: 23 Loss Validation: 0.2917013378974832 Validation Accuracy: 0.9098845069334467\n",
            "Epoch: 24 Loss Train: 0.356509950471881 Train Accuracy: 0.871296689713778\n",
            "Epoch: 24 Loss Validation: 0.25093612051856373 Validation Accuracy: 0.9280003090115493\n",
            "Epoch: 25 Loss Train: 0.3364701862734409 Train Accuracy: 0.8792151106647611\n",
            "Epoch: 25 Loss Validation: 0.2417831487585733 Validation Accuracy: 0.9385839545753023\n",
            "Epoch: 26 Loss Train: 0.33268083563005485 Train Accuracy: 0.8802580246436711\n",
            "Epoch: 26 Loss Validation: 0.3111034962406129 Validation Accuracy: 0.8945498087991038\n",
            "Epoch: 27 Loss Train: 0.3197995258702172 Train Accuracy: 0.8862064969678242\n",
            "Epoch: 27 Loss Validation: 0.22771573556518113 Validation Accuracy: 0.9319015798215459\n",
            "Epoch: 28 Loss Train: 0.30976808356282154 Train Accuracy: 0.8897601297848508\n",
            "Epoch: 28 Loss Validation: 0.23975207492203257 Validation Accuracy: 0.9308972922862992\n",
            "Epoch: 29 Loss Train: 0.2982115743244872 Train Accuracy: 0.8938545328131638\n",
            "Epoch: 29 Loss Validation: 0.22177355704300197 Validation Accuracy: 0.9422920931669821\n",
            "Epoch: 30 Loss Train: 0.28612931240579964 Train Accuracy: 0.8968287689752404\n",
            "Epoch: 30 Loss Validation: 0.24907563709550434 Validation Accuracy: 0.9257986017227394\n"
          ],
          "name": "stdout"
        },
        {
          "output_type": "execute_result",
          "data": {
            "text/plain": [
              "0.22177355704300197"
            ]
          },
          "metadata": {
            "tags": []
          },
          "execution_count": 52
        }
      ]
    },
    {
      "cell_type": "code",
      "metadata": {
        "colab": {
          "base_uri": "https://localhost:8080/",
          "height": 455
        },
        "id": "cRQDE3fBgJfw",
        "outputId": "1ad5b65d-4854-46fd-882a-8a5ce97310bc"
      },
      "source": [
        "test_transform = transforms.Compose([HistEqualization(),\n",
        "                                    transforms.ToTensor(),\n",
        "                                    transforms.Normalize(mean=[0.485, 0.456, 0.406], std=[0.229, 0.224, 0.225])\n",
        "                                    ])\n",
        "test_loader = CustomDataLoader(PATH_DATA, transformations=test_transform, batch_size=batch_size, as_df='test')\n",
        "\n",
        "y_true, y_pred = test(model, device, PATH_MODELS, PATH_STATS, model_name)\n",
        "confusion_plot(y_true, y_pred, PATH_FIG, model_name)\n"
      ],
      "execution_count": null,
      "outputs": [
        {
          "output_type": "stream",
          "text": [
            "          precision    recall  f1-score  accuracy\n",
            "baseline   0.614961  0.537347  0.561205  0.572304\n"
          ],
          "name": "stdout"
        },
        {
          "output_type": "display_data",
          "data": {
            "image/png": "[encoded data removed]",
            "text/plain": [
              "<Figure size 504x432 with 2 Axes>"
            ]
          },
          "metadata": {
            "tags": [],
            "needs_background": "light"
          }
        }
      ]
    },
    {
      "cell_type": "code",
      "metadata": {
        "colab": {
          "base_uri": "https://localhost:8080/",
          "height": 428
        },
        "id": "NQJ-PnILXre9",
        "outputId": "28d24623-7474-4b20-ec7f-c8e9d08baf49"
      },
      "source": [
        "show_trai_acc(PATH_STATS, PATH_FIG, model_name)"
      ],
      "execution_count": null,
      "outputs": [
        {
          "output_type": "display_data",
          "data": {
            "image/png": "[encoded data removed]",
            "text/plain": [
              "<Figure size 1080x432 with 2 Axes>"
            ]
          },
          "metadata": {
            "tags": [],
            "needs_background": "light"
          }
        }
      ]
    },
    {
      "cell_type": "markdown",
      "metadata": {
        "id": "tyazVnKdi-1W"
      },
      "source": [
        "# Balancing:\n",
        "In this section we try to deal with unbalanced database. **Use the NLLLoss in the Engine in the optimization section** and use balanced=True"
      ]
    },
    {
      "cell_type": "code",
      "metadata": {
        "id": "Jh4sJXa8iZni"
      },
      "source": [
        "class Model(nn.Module):\n",
        "  \n",
        "  def __init__(self):\n",
        "    \n",
        "    super().__init__()\n",
        "\n",
        "    self.features = nn.Sequential(\n",
        "        nn.Conv2d(in_channels=3, out_channels=16, kernel_size=3, bias=False),\n",
        "        nn.BatchNorm2d(16),\n",
        "        nn.ReLU(inplace=True),\n",
        "\n",
        "        nn.Conv2d(in_channels=16, out_channels=32, kernel_size=3, bias=False),\n",
        "        nn.Dropout(0.2),\n",
        "        nn.BatchNorm2d(32),\n",
        "        nn.ReLU(inplace=True),\n",
        "        nn.MaxPool2d(2, 2),\n",
        "\n",
        "        nn.Conv2d(in_channels=32, out_channels=64, kernel_size=3, bias=False),\n",
        "        nn.BatchNorm2d(64),\n",
        "        nn.ReLU(inplace=True),\n",
        "\n",
        "        nn.Conv2d(in_channels=64, out_channels=128, kernel_size=3, bias=False),\n",
        "        nn.Dropout(0.2),\n",
        "        nn.BatchNorm2d(128),\n",
        "        nn.ReLU(inplace=True),\n",
        "        nn.MaxPool2d(2, 2),\n",
        "\n",
        "        nn.Conv2d(in_channels=128, out_channels=256, kernel_size=3,  bias=False),\n",
        "        nn.BatchNorm2d(256),\n",
        "        nn.ReLU(inplace=True),\n",
        "  \n",
        "\n",
        "        nn.Conv2d(in_channels=256, out_channels=256, kernel_size=3, bias=False),\n",
        "        nn.Dropout(0.2),\n",
        "\n",
        "        nn.BatchNorm2d(256),\n",
        "        nn.ReLU(inplace=True),\n",
        "        nn.MaxPool2d(2, 2),\n",
        "        nn.Flatten()\n",
        "    )\n",
        "\n",
        "    self.classifier = nn.Sequential(\n",
        "        nn.Dropout(0.3),\n",
        "        nn.Linear(1024, 512),\n",
        "        nn.ReLU(inplace=True),\n",
        "        nn.Linear(512, 7),\n",
        "        nn.LogSoftmax(dim=-1)  \n",
        "    )\n",
        "\n",
        "  def forward(self,x):\n",
        "    x=self.features(x)\n",
        "    x=self.classifier(x)\n",
        "    return x "
      ],
      "execution_count": null,
      "outputs": []
    },
    {
      "cell_type": "code",
      "metadata": {
        "colab": {
          "base_uri": "https://localhost:8080/"
        },
        "id": "GT15SROHhZLD",
        "outputId": "bdd112ce-472c-4747-e1ec-7c4debfd45fc"
      },
      "source": [
        "# Initialize the mode\n",
        "model = Model().to(device)\n",
        "model.apply(weights_init)\n",
        "summary(model, (3, 48, 48))"
      ],
      "execution_count": null,
      "outputs": [
        {
          "output_type": "stream",
          "text": [
            "----------------------------------------------------------------\n",
            "        Layer (type)               Output Shape         Param #\n",
            "================================================================\n",
            "            Conv2d-1           [-1, 16, 46, 46]             432\n",
            "       BatchNorm2d-2           [-1, 16, 46, 46]              32\n",
            "              ReLU-3           [-1, 16, 46, 46]               0\n",
            "            Conv2d-4           [-1, 32, 44, 44]           4,608\n",
            "           Dropout-5           [-1, 32, 44, 44]               0\n",
            "       BatchNorm2d-6           [-1, 32, 44, 44]              64\n",
            "              ReLU-7           [-1, 32, 44, 44]               0\n",
            "         MaxPool2d-8           [-1, 32, 22, 22]               0\n",
            "            Conv2d-9           [-1, 64, 20, 20]          18,432\n",
            "      BatchNorm2d-10           [-1, 64, 20, 20]             128\n",
            "             ReLU-11           [-1, 64, 20, 20]               0\n",
            "           Conv2d-12          [-1, 128, 18, 18]          73,728\n",
            "          Dropout-13          [-1, 128, 18, 18]               0\n",
            "      BatchNorm2d-14          [-1, 128, 18, 18]             256\n",
            "             ReLU-15          [-1, 128, 18, 18]               0\n",
            "        MaxPool2d-16            [-1, 128, 9, 9]               0\n",
            "           Conv2d-17            [-1, 256, 7, 7]         294,912\n",
            "      BatchNorm2d-18            [-1, 256, 7, 7]             512\n",
            "             ReLU-19            [-1, 256, 7, 7]               0\n",
            "           Conv2d-20            [-1, 256, 5, 5]         589,824\n",
            "          Dropout-21            [-1, 256, 5, 5]               0\n",
            "      BatchNorm2d-22            [-1, 256, 5, 5]             512\n",
            "             ReLU-23            [-1, 256, 5, 5]               0\n",
            "        MaxPool2d-24            [-1, 256, 2, 2]               0\n",
            "          Flatten-25                 [-1, 1024]               0\n",
            "          Dropout-26                 [-1, 1024]               0\n",
            "           Linear-27                  [-1, 512]         524,800\n",
            "             ReLU-28                  [-1, 512]               0\n",
            "           Linear-29                    [-1, 7]           3,591\n",
            "       LogSoftmax-30                    [-1, 7]               0\n",
            "================================================================\n",
            "Total params: 1,511,831\n",
            "Trainable params: 1,511,831\n",
            "Non-trainable params: 0\n",
            "----------------------------------------------------------------\n",
            "Input size (MB): 0.03\n",
            "Forward/backward pass size (MB): 5.23\n",
            "Params size (MB): 5.77\n",
            "Estimated Total Size (MB): 11.02\n",
            "----------------------------------------------------------------\n"
          ],
          "name": "stdout"
        }
      ]
    },
    {
      "cell_type": "code",
      "metadata": {
        "id": "M05Gwv_fhZMZ"
      },
      "source": [
        "# Hyper Parameters:\n",
        "model_name = 'balancing'\n",
        "num_epochs = 80\n",
        "batch_size = 80\n",
        "learning_rate = 0.001\n",
        "learning_rate_decay = 0.9\n",
        "momentum = 0.0001\n",
        "weight_decay = 0.0005\n",
        "early_stopping = 30"
      ],
      "execution_count": null,
      "outputs": []
    },
    {
      "cell_type": "code",
      "metadata": {
        "id": "25RmQ6_ihZMc"
      },
      "source": [
        "train_transform = transforms.Compose([HistEqualization(),                                      \n",
        "                                      transforms.ToTensor(),\n",
        "                                      transforms.Normalize(mean=[0.485, 0.456, 0.406], std=[0.229, 0.224, 0.225])\n",
        "                                    ])\n",
        "valid_transform = transforms.Compose([HistEqualization(),\n",
        "                                    transforms.ToTensor(),\n",
        "                                    transforms.Normalize(mean=[0.485, 0.456, 0.406], std=[0.229, 0.224, 0.225])\n",
        "                                    ])"
      ],
      "execution_count": null,
      "outputs": []
    },
    {
      "cell_type": "code",
      "metadata": {
        "colab": {
          "base_uri": "https://localhost:8080/"
        },
        "id": "VBs539NphZMf",
        "outputId": "dbee1344-7f3c-416a-ccb0-094402412bdb"
      },
      "source": [
        "run_train(num_epochs, early_stopping, train_transform, valid_transform, batch_size,\n",
        "          model_name, PATH_STATS, PATH_MODELS, PATH_DATA, device, model,\n",
        "          weight_decay=weight_decay, learning_rate=learning_rate, learning_rate_decay=learning_rate_decay,\n",
        "          balanced=True)"
      ],
      "execution_count": null,
      "outputs": [
        {
          "output_type": "stream",
          "text": [
            "Epoch: 1 Loss Train: 1.7246167714949008 Train Accuracy: 0.3407624859979142\n",
            "Epoch: 1 Loss Validation: 1.6206651859813266 Validation Accuracy: 0.3723404255319149\n"
          ],
          "name": "stdout"
        },
        {
          "output_type": "stream",
          "text": [
            "/usr/local/lib/python3.6/dist-packages/torch/optim/lr_scheduler.py:156: UserWarning:\n",
            "\n",
            "The epoch parameter in `scheduler.step()` was not necessary and is being deprecated where possible. Please use `scheduler.step()` to step the scheduler. During the deprecation, if epoch is different from None, the closed form is used instead of the new chainable form, where available. Please open an issue if you are unable to replicate your use case: https://github.com/pytorch/pytorch/issues/new/choose.\n",
            "\n"
          ],
          "name": "stderr"
        },
        {
          "output_type": "stream",
          "text": [
            "Epoch: 2 Loss Train: 1.237332379008517 Train Accuracy: 0.5241994669550775\n",
            "Epoch: 2 Loss Validation: 1.4358330137199826 Validation Accuracy: 0.4549645390070922\n",
            "Epoch: 3 Loss Train: 1.086874336556152 Train Accuracy: 0.5894781567461084\n",
            "Epoch: 3 Loss Validation: 1.3645738479163911 Validation Accuracy: 0.4975177304964539\n",
            "Epoch: 4 Loss Train: 0.9943611653130732 Train Accuracy: 0.6218084900923172\n",
            "Epoch: 4 Loss Validation: 1.2288379983769522 Validation Accuracy: 0.5237588652482269\n",
            "Epoch: 5 Loss Train: 0.9450779516755798 Train Accuracy: 0.6407354474873498\n",
            "Epoch: 5 Loss Validation: 1.1887348360485501 Validation Accuracy: 0.5570921985815603\n",
            "Epoch: 6 Loss Train: 0.8886070514534726 Train Accuracy: 0.6647224690022789\n",
            "Epoch: 6 Loss Validation: 1.195700776245859 Validation Accuracy: 0.5570921985815603\n",
            "Epoch: 7 Loss Train: 0.8472506917185254 Train Accuracy: 0.6836494263973116\n",
            "Epoch: 7 Loss Validation: 1.1856227094928424 Validation Accuracy: 0.5627659574468085\n",
            "Epoch: 8 Loss Train: 0.7957440279884103 Train Accuracy: 0.7043145737571942\n",
            "Epoch: 8 Loss Validation: 1.1537165178192987 Validation Accuracy: 0.5627659574468085\n",
            "Epoch: 9 Loss Train: 0.7480638437433007 Train Accuracy: 0.7241299393564834\n",
            "Epoch: 9 Loss Validation: 1.262539760933982 Validation Accuracy: 0.5375886524822695\n",
            "Epoch: 10 Loss Train: 0.6979680530450962 Train Accuracy: 0.7436362934064661\n",
            "Epoch: 10 Loss Validation: 1.1860311925411224 Validation Accuracy: 0.5521276595744681\n",
            "Epoch: 11 Loss Train: 0.6535826182843726 Train Accuracy: 0.7617520954845687\n",
            "Epoch: 11 Loss Validation: 1.2611906346347597 Validation Accuracy: 0.550709219858156\n",
            "Epoch: 12 Loss Train: 0.6176533121385692 Train Accuracy: 0.7768164085132682\n",
            "Epoch: 12 Loss Validation: 1.1776695119010077 Validation Accuracy: 0.573404255319149\n",
            "Epoch: 13 Loss Train: 0.5794929944806628 Train Accuracy: 0.7909150604503843\n",
            "Epoch: 13 Loss Validation: 1.170872117082278 Validation Accuracy: 0.5783687943262411\n",
            "Epoch: 14 Loss Train: 0.5442565879152145 Train Accuracy: 0.8052454710494805\n",
            "Epoch: 14 Loss Validation: 1.138083525829845 Validation Accuracy: 0.5765957446808511\n",
            "Epoch: 15 Loss Train: 0.5035196115021352 Train Accuracy: 0.8196917609795666\n",
            "Epoch: 15 Loss Validation: 1.1976388403111033 Validation Accuracy: 0.5826241134751773\n",
            "Epoch: 16 Loss Train: 0.48409544207431654 Train Accuracy: 0.8278033141488663\n",
            "Epoch: 16 Loss Validation: 1.1966253005796008 Validation Accuracy: 0.5893617021276596\n",
            "Epoch: 17 Loss Train: 0.4372841460101398 Train Accuracy: 0.8454942253466723\n",
            "Epoch: 17 Loss Validation: 1.1772796213626862 Validation Accuracy: 0.5890070921985816\n",
            "Epoch: 18 Loss Train: 0.42640994148857797 Train Accuracy: 0.8512109390088455\n",
            "Epoch: 18 Loss Validation: 1.3578809102376301 Validation Accuracy: 0.524822695035461\n",
            "Epoch: 19 Loss Train: 0.3828451220911962 Train Accuracy: 0.8661593727065549\n",
            "Epoch: 19 Loss Validation: 1.2464164429240756 Validation Accuracy: 0.5741134751773049\n",
            "Epoch: 20 Loss Train: 0.37586730737009166 Train Accuracy: 0.8666228900305148\n",
            "Epoch: 20 Loss Validation: 1.2197712775733736 Validation Accuracy: 0.5964539007092199\n",
            "Epoch: 21 Loss Train: 0.28163944952833797 Train Accuracy: 0.9052107072501835\n",
            "Epoch: 21 Loss Validation: 1.1877534323268466 Validation Accuracy: 0.601418439716312\n",
            "Epoch: 22 Loss Train: 0.3430988076200456 Train Accuracy: 0.8770906562632779\n",
            "Epoch: 22 Loss Validation: 1.2235988179842632 Validation Accuracy: 0.5907801418439717\n",
            "Epoch: 23 Loss Train: 0.34066321204106015 Train Accuracy: 0.8789060991154545\n",
            "Epoch: 23 Loss Validation: 1.302561612592803 Validation Accuracy: 0.575531914893617\n",
            "Epoch: 24 Loss Train: 0.33886866170315094 Train Accuracy: 0.8809533006296111\n",
            "Epoch: 24 Loss Validation: 1.2741978549295 Validation Accuracy: 0.5872340425531914\n",
            "Epoch: 25 Loss Train: 0.3118931039891861 Train Accuracy: 0.891536946193364\n",
            "Epoch: 25 Loss Validation: 1.2593485141793888 Validation Accuracy: 0.5907801418439717\n",
            "Epoch: 26 Loss Train: 0.29535536330055306 Train Accuracy: 0.8968287689752404\n",
            "Epoch: 26 Loss Validation: 1.29063181579113 Validation Accuracy: 0.5822695035460993\n",
            "Epoch: 27 Loss Train: 0.21852488247792662 Train Accuracy: 0.9280003090115493\n",
            "Epoch: 27 Loss Validation: 1.244790376888381 Validation Accuracy: 0.597872340425532\n",
            "Epoch: 28 Loss Train: 0.2689779900290348 Train Accuracy: 0.9073737880953301\n",
            "Epoch: 28 Loss Validation: 1.2735600156916513 Validation Accuracy: 0.5780141843971631\n",
            "Epoch: 29 Loss Train: 0.28627558726311464 Train Accuracy: 0.9025454826374135\n",
            "Epoch: 29 Loss Validation: 1.3111264639430575 Validation Accuracy: 0.5808510638297872\n",
            "Epoch: 30 Loss Train: 0.2760817350152834 Train Accuracy: 0.9049789485882035\n",
            "Epoch: 30 Loss Validation: 1.3294123510519664 Validation Accuracy: 0.5843971631205673\n",
            "Epoch: 31 Loss Train: 0.26318359432489047 Train Accuracy: 0.9099617598207733\n",
            "Epoch: 31 Loss Validation: 1.3640739851527743 Validation Accuracy: 0.574822695035461\n",
            "Epoch: 32 Loss Train: 0.2631773559813514 Train Accuracy: 0.9093823631658233\n",
            "Epoch: 32 Loss Validation: 1.3897682991292741 Validation Accuracy: 0.5652482269503546\n",
            "Epoch: 33 Loss Train: 0.1857437847159159 Train Accuracy: 0.9377341728147089\n",
            "Epoch: 33 Loss Validation: 1.2777462585104837 Validation Accuracy: 0.6074468085106383\n",
            "Epoch: 34 Loss Train: 0.24936544706608044 Train Accuracy: 0.9120862142222566\n",
            "Epoch: 34 Loss Validation: 1.349969607260492 Validation Accuracy: 0.5716312056737589\n",
            "Epoch: 35 Loss Train: 0.24593103651739198 Train Accuracy: 0.9135540190814632\n",
            "Epoch: 35 Loss Validation: 1.3490973164637883 Validation Accuracy: 0.5861702127659575\n",
            "Epoch: 36 Loss Train: 0.25346445398014267 Train Accuracy: 0.9129746224265132\n",
            "Epoch: 36 Loss Validation: 1.3637380169497595 Validation Accuracy: 0.5804964539007093\n",
            "Epoch: 37 Loss Train: 0.24514089862781543 Train Accuracy: 0.9131677546448298\n",
            "Epoch: 37 Loss Validation: 1.3736211210489273 Validation Accuracy: 0.5574468085106383\n",
            "Epoch: 38 Loss Train: 0.22658016500465664 Train Accuracy: 0.9206612847155162\n",
            "Epoch: 38 Loss Validation: 1.393708426091406 Validation Accuracy: 0.5804964539007093\n",
            "Epoch: 39 Loss Train: 0.1725071285172929 Train Accuracy: 0.9417899493993588\n",
            "Epoch: 39 Loss Validation: 1.3082776028249 Validation Accuracy: 0.6060283687943262\n",
            "Epoch: 40 Loss Train: 0.21671240737684716 Train Accuracy: 0.925991733941056\n",
            "Epoch: 40 Loss Validation: 1.4242795142862532 Validation Accuracy: 0.574468085106383\n",
            "Epoch: 41 Loss Train: 0.23407809461616438 Train Accuracy: 0.9194252385182896\n",
            "Epoch: 41 Loss Validation: 1.3641576535171933 Validation Accuracy: 0.573049645390071\n",
            "Epoch: 42 Loss Train: 0.22837680242495773 Train Accuracy: 0.9239831588705628\n",
            "Epoch: 42 Loss Validation: 1.3904701405101352 Validation Accuracy: 0.5719858156028369\n",
            "Epoch: 43 Loss Train: 0.2298733466707262 Train Accuracy: 0.9222449689057128\n",
            "Epoch: 43 Loss Validation: 1.3698163736197684 Validation Accuracy: 0.5812056737588652\n",
            "Epoch: 44 Loss Train: 0.22668953614746346 Train Accuracy: 0.9195024914056162\n",
            "Epoch: 44 Loss Validation: 1.3296465732985072 Validation Accuracy: 0.5936170212765958\n",
            "Epoch: 45 Loss Train: 0.162812774506524 Train Accuracy: 0.946579628413612\n",
            "Epoch: 45 Loss Validation: 1.2969407306777105 Validation Accuracy: 0.6049645390070922\n",
            "Epoch: 46 Loss Train: 0.2112703622882197 Train Accuracy: 0.9273050330256093\n",
            "Epoch: 46 Loss Validation: 1.3671558938092656 Validation Accuracy: 0.574822695035461\n",
            "Epoch: 47 Loss Train: 0.22791674195064437 Train Accuracy: 0.9213565607014562\n",
            "Epoch: 47 Loss Validation: 1.4492088423834906 Validation Accuracy: 0.5656028368794326\n",
            "Epoch: 48 Loss Train: 0.21358075892023834 Train Accuracy: 0.927150527250956\n",
            "Epoch: 48 Loss Validation: 1.5534752872255113 Validation Accuracy: 0.5574468085106383\n",
            "Epoch: 49 Loss Train: 0.2082250920917701 Train Accuracy: 0.9296612460890725\n",
            "Epoch: 49 Loss Validation: 1.4030050337314606 Validation Accuracy: 0.573404255319149\n"
          ],
          "name": "stdout"
        },
        {
          "output_type": "execute_result",
          "data": {
            "text/plain": [
              "1.138083525829845"
            ]
          },
          "metadata": {
            "tags": []
          },
          "execution_count": 353
        }
      ]
    },
    {
      "cell_type": "code",
      "metadata": {
        "id": "ZcPeFBBIhZMh"
      },
      "source": [
        "test_transform = transforms.Compose([HistEqualization(),\n",
        "                                    transforms.ToTensor(),\n",
        "                                    transforms.Normalize(mean=[0.485, 0.456, 0.406], std=[0.229, 0.224, 0.225])\n",
        "                                    ])\n",
        "test_loader = CustomDataLoader(PATH_DATA, transformations=test_transform, batch_size=batch_size, as_df='test')\n",
        "\n",
        "y_true, y_pred = test(model, device, PATH_MODELS, PATH_STATS, model_name)\n",
        "confusion_plot(y_true, y_pred, PATH_FIG, model_name)\n"
      ],
      "execution_count": null,
      "outputs": []
    },
    {
      "cell_type": "code",
      "metadata": {
        "colab": {
          "base_uri": "https://localhost:8080/",
          "height": 406
        },
        "id": "qLLaT77xnB2B",
        "outputId": "fef3dfad-c803-4bf7-a1c5-42c18bfc36ef"
      },
      "source": [
        "show_trai_acc(PATH_STATS, PATH_FIG, model_name)"
      ],
      "execution_count": null,
      "outputs": [
        {
          "output_type": "display_data",
          "data": {
            "image/png": "[encoded data removed]",
            "text/plain": [
              "<Figure size 1080x432 with 2 Axes>"
            ]
          },
          "metadata": {
            "tags": [],
            "needs_background": "light"
          }
        }
      ]
    },
    {
      "cell_type": "markdown",
      "metadata": {
        "id": "w2zXPnppm3yd"
      },
      "source": [
        "# Augmentation:\n",
        "In this section we are going to apply some standard transformations to te image."
      ]
    },
    {
      "cell_type": "code",
      "metadata": {
        "id": "hcieBvg7nfbO"
      },
      "source": [
        "class Model(nn.Module):\n",
        "  \n",
        "  def __init__(self):\n",
        "    \n",
        "    super().__init__()\n",
        "\n",
        "    self.features = nn.Sequential(\n",
        "        nn.Conv2d(in_channels=3, out_channels=16, kernel_size=3, bias=False),\n",
        "        nn.BatchNorm2d(16),\n",
        "        nn.ReLU(inplace=True),\n",
        "\n",
        "        nn.Conv2d(in_channels=16, out_channels=32, kernel_size=3, bias=False),\n",
        "        nn.Dropout(0.2),\n",
        "        nn.BatchNorm2d(32),\n",
        "        nn.ReLU(inplace=True),\n",
        "        nn.MaxPool2d(2, 2),\n",
        "\n",
        "        nn.Conv2d(in_channels=32, out_channels=64, kernel_size=3, bias=False),\n",
        "        nn.BatchNorm2d(64),\n",
        "        nn.ReLU(inplace=True),\n",
        "\n",
        "        nn.Conv2d(in_channels=64, out_channels=128, kernel_size=3, bias=False),\n",
        "        nn.Dropout(0.2),\n",
        "        nn.BatchNorm2d(128),\n",
        "        nn.ReLU(inplace=True),\n",
        "        nn.MaxPool2d(2, 2),\n",
        "\n",
        "        nn.Conv2d(in_channels=128, out_channels=256, kernel_size=3,  bias=False),\n",
        "        nn.BatchNorm2d(256),\n",
        "        nn.ReLU(inplace=True),\n",
        "  \n",
        "\n",
        "        nn.Conv2d(in_channels=256, out_channels=256, kernel_size=3, bias=False),\n",
        "        nn.Dropout(0.2),\n",
        "\n",
        "        nn.BatchNorm2d(256),\n",
        "        nn.ReLU(inplace=True),\n",
        "        nn.MaxPool2d(2, 2),\n",
        "        nn.Flatten()\n",
        "    )\n",
        "\n",
        "    self.classifier = nn.Sequential(\n",
        "        nn.Dropout(0.3),\n",
        "        nn.Linear(1024, 512),\n",
        "        nn.ReLU(inplace=True),\n",
        "        nn.Linear(512, 7),\n",
        "    \n",
        "    )\n",
        "\n",
        "  def forward(self,x):\n",
        "    x=self.features(x)\n",
        "    x=self.classifier(x)\n",
        "    return x "
      ],
      "execution_count": null,
      "outputs": []
    },
    {
      "cell_type": "code",
      "metadata": {
        "colab": {
          "base_uri": "https://localhost:8080/"
        },
        "id": "GbuQD-7bnfbT",
        "outputId": "5967e326-a6bf-4661-d366-0e9aec8b1cca"
      },
      "source": [
        "# Initialize the mode\n",
        "model = Model().to(device)\n",
        "model.apply(weights_init)\n",
        "summary(model, (3, 48, 48))"
      ],
      "execution_count": null,
      "outputs": [
        {
          "output_type": "stream",
          "text": [
            "----------------------------------------------------------------\n",
            "        Layer (type)               Output Shape         Param #\n",
            "================================================================\n",
            "            Conv2d-1           [-1, 16, 46, 46]             432\n",
            "       BatchNorm2d-2           [-1, 16, 46, 46]              32\n",
            "              ReLU-3           [-1, 16, 46, 46]               0\n",
            "            Conv2d-4           [-1, 32, 44, 44]           4,608\n",
            "           Dropout-5           [-1, 32, 44, 44]               0\n",
            "       BatchNorm2d-6           [-1, 32, 44, 44]              64\n",
            "              ReLU-7           [-1, 32, 44, 44]               0\n",
            "         MaxPool2d-8           [-1, 32, 22, 22]               0\n",
            "            Conv2d-9           [-1, 64, 20, 20]          18,432\n",
            "      BatchNorm2d-10           [-1, 64, 20, 20]             128\n",
            "             ReLU-11           [-1, 64, 20, 20]               0\n",
            "           Conv2d-12          [-1, 128, 18, 18]          73,728\n",
            "          Dropout-13          [-1, 128, 18, 18]               0\n",
            "      BatchNorm2d-14          [-1, 128, 18, 18]             256\n",
            "             ReLU-15          [-1, 128, 18, 18]               0\n",
            "        MaxPool2d-16            [-1, 128, 9, 9]               0\n",
            "           Conv2d-17            [-1, 256, 7, 7]         294,912\n",
            "      BatchNorm2d-18            [-1, 256, 7, 7]             512\n",
            "             ReLU-19            [-1, 256, 7, 7]               0\n",
            "           Conv2d-20            [-1, 256, 5, 5]         589,824\n",
            "          Dropout-21            [-1, 256, 5, 5]               0\n",
            "      BatchNorm2d-22            [-1, 256, 5, 5]             512\n",
            "             ReLU-23            [-1, 256, 5, 5]               0\n",
            "        MaxPool2d-24            [-1, 256, 2, 2]               0\n",
            "          Flatten-25                 [-1, 1024]               0\n",
            "          Dropout-26                 [-1, 1024]               0\n",
            "           Linear-27                  [-1, 512]         524,800\n",
            "             ReLU-28                  [-1, 512]               0\n",
            "           Linear-29                    [-1, 7]           3,591\n",
            "================================================================\n",
            "Total params: 1,511,831\n",
            "Trainable params: 1,511,831\n",
            "Non-trainable params: 0\n",
            "----------------------------------------------------------------\n",
            "Input size (MB): 0.03\n",
            "Forward/backward pass size (MB): 5.23\n",
            "Params size (MB): 5.77\n",
            "Estimated Total Size (MB): 11.02\n",
            "----------------------------------------------------------------\n"
          ],
          "name": "stdout"
        }
      ]
    },
    {
      "cell_type": "code",
      "metadata": {
        "id": "70N7fja9nfbW"
      },
      "source": [
        "# Hyper Parameters:\n",
        "model_name = 'augmented'\n",
        "num_epochs = 50\n",
        "batch_size = 80\n",
        "learning_rate = 0.001\n",
        "learning_rate_decay = 0.9\n",
        "momentum = 0.0001\n",
        "weight_decay = 0.0005\n",
        "early_stopping = 30"
      ],
      "execution_count": null,
      "outputs": []
    },
    {
      "cell_type": "code",
      "metadata": {
        "id": "kKE4Qmy_nfbZ"
      },
      "source": [
        "train_transform = transforms.Compose([HistEqualization(),                                      \n",
        "                                      transforms.RandomHorizontalFlip(p=0.5),\n",
        "                                      transforms.RandomApply(torch.nn.ModuleList([transforms.RandomAffine(degrees=(-20, +20))]), p=0.5),\n",
        "                                      transforms.RandomApply(torch.nn.ModuleList([transforms.RandomAffine(degrees=0, translate=(0.20,0.20))]), p=0.5),\n",
        "                                      transforms.ToTensor(),\n",
        "                                      transforms.Normalize(mean=[0.485, 0.456, 0.406], std=[0.229, 0.224, 0.225])\n",
        "                                    ])\n",
        "valid_transform = transforms.Compose([HistEqualization(),\n",
        "                                    transforms.ToTensor(),\n",
        "                                    transforms.Normalize(mean=[0.485, 0.456, 0.406], std=[0.229, 0.224, 0.225])\n",
        "                                    ])"
      ],
      "execution_count": null,
      "outputs": []
    },
    {
      "cell_type": "code",
      "metadata": {
        "colab": {
          "base_uri": "https://localhost:8080/"
        },
        "id": "ctXE8Mdbnfbb",
        "outputId": "133be8ff-10d5-49c2-8170-790b18190668"
      },
      "source": [
        "run_train(num_epochs, early_stopping, train_transform, valid_transform, batch_size,\n",
        "          model_name, PATH_STATS, PATH_MODELS, PATH_DATA, device, model,\n",
        "          weight_decay=weight_decay, learning_rate=learning_rate, learning_rate_decay=learning_rate_decay,\n",
        "          balanced=False)"
      ],
      "execution_count": null,
      "outputs": [
        {
          "output_type": "stream",
          "text": [
            "Epoch: 1 Loss Train: 1.8164352417728047 Train Accuracy: 0.2808528718760864\n",
            "Epoch: 1 Loss Validation: 1.7129622186407631 Validation Accuracy: 0.29105025300320597\n"
          ],
          "name": "stdout"
        },
        {
          "output_type": "stream",
          "text": [
            "/usr/local/lib/python3.6/dist-packages/torch/optim/lr_scheduler.py:156: UserWarning: The epoch parameter in `scheduler.step()` was not necessary and is being deprecated where possible. Please use `scheduler.step()` to step the scheduler. During the deprecation, if epoch is different from None, the closed form is used instead of the new chainable form, where available. Please open an issue if you are unable to replicate your use case: https://github.com/pytorch/pytorch/issues/new/choose.\n",
            "  warnings.warn(EPOCH_DEPRECATION_WARNING, UserWarning)\n"
          ],
          "name": "stderr"
        },
        {
          "output_type": "stream",
          "text": [
            "Epoch: 2 Loss Train: 1.572734785300714 Train Accuracy: 0.3774189810344162\n",
            "Epoch: 2 Loss Validation: 1.6004249446186019 Validation Accuracy: 0.36227741511839007\n",
            "Epoch: 3 Loss Train: 1.4476171787138339 Train Accuracy: 0.43744447448723395\n",
            "Epoch: 3 Loss Validation: 1.6518633590068346 Validation Accuracy: 0.33601143342732437\n",
            "Epoch: 4 Loss Train: 1.3730416938110634 Train Accuracy: 0.4726331646645293\n",
            "Epoch: 4 Loss Validation: 1.4954387023125166 Validation Accuracy: 0.42547027695160106\n",
            "Epoch: 5 Loss Train: 1.3213631576961942 Train Accuracy: 0.49488199621460854\n",
            "Epoch: 5 Loss Validation: 1.3498552921745512 Validation Accuracy: 0.4845687357564989\n",
            "Epoch: 6 Loss Train: 1.2837024456189003 Train Accuracy: 0.5102553207926146\n",
            "Epoch: 6 Loss Validation: 1.4059803009401133 Validation Accuracy: 0.4740237166364093\n",
            "Epoch: 7 Loss Train: 1.2580185249263858 Train Accuracy: 0.5214183630113175\n",
            "Epoch: 7 Loss Validation: 1.4449326658138522 Validation Accuracy: 0.4618177604387964\n",
            "Epoch: 8 Loss Train: 1.2333897278632646 Train Accuracy: 0.5365599289273436\n",
            "Epoch: 8 Loss Validation: 1.2478083326124851 Validation Accuracy: 0.5127660396307312\n",
            "Epoch: 9 Loss Train: 1.217315580005999 Train Accuracy: 0.5358260264977404\n",
            "Epoch: 9 Loss Validation: 1.3547084805222205 Validation Accuracy: 0.48306230445362897\n",
            "Epoch: 10 Loss Train: 1.1999743670961003 Train Accuracy: 0.5416586194909034\n",
            "Epoch: 10 Loss Validation: 1.2027525625847004 Validation Accuracy: 0.5444397234346634\n",
            "Epoch: 11 Loss Train: 1.1879312493550924 Train Accuracy: 0.5500405577658465\n",
            "Epoch: 11 Loss Validation: 1.1952803324402115 Validation Accuracy: 0.54613928695585\n",
            "Epoch: 12 Loss Train: 1.1752946395197033 Train Accuracy: 0.5578817258295029\n",
            "Epoch: 12 Loss Validation: 1.2439443629097056 Validation Accuracy: 0.518907644173201\n",
            "Epoch: 13 Loss Train: 1.1712573407976716 Train Accuracy: 0.5584997489281162\n",
            "Epoch: 13 Loss Validation: 1.190271922605641 Validation Accuracy: 0.5474912124840666\n",
            "Epoch: 14 Loss Train: 1.1524941834770603 Train Accuracy: 0.566031905442466\n",
            "Epoch: 14 Loss Validation: 1.1710193355878193 Validation Accuracy: 0.5513538568503998\n",
            "Epoch: 15 Loss Train: 1.1407474910403474 Train Accuracy: 0.564525474139596\n",
            "Epoch: 15 Loss Validation: 1.2056919308264313 Validation Accuracy: 0.5365213024836804\n",
            "Epoch: 16 Loss Train: 1.134857717855477 Train Accuracy: 0.5690061416045424\n",
            "Epoch: 16 Loss Validation: 1.1722440015018722 Validation Accuracy: 0.5485341264629765\n",
            "Epoch: 17 Loss Train: 1.1263959187048453 Train Accuracy: 0.573139171076519\n",
            "Epoch: 17 Loss Validation: 1.1425429617549165 Validation Accuracy: 0.573023291745529\n",
            "Epoch: 18 Loss Train: 1.11997446509791 Train Accuracy: 0.5767314303372089\n",
            "Epoch: 18 Loss Validation: 1.135868581448808 Validation Accuracy: 0.5717872455483024\n",
            "Epoch: 19 Loss Train: 1.1103407361625153 Train Accuracy: 0.5809030862528487\n",
            "Epoch: 19 Loss Validation: 1.0967485221263804 Validation Accuracy: 0.5920275020278883\n",
            "Epoch: 20 Loss Train: 1.1050223077152983 Train Accuracy: 0.5843022132952219\n",
            "Epoch: 20 Loss Validation: 1.0958535366772133 Validation Accuracy: 0.5879330989995751\n",
            "Epoch: 21 Loss Train: 1.0926699428646653 Train Accuracy: 0.5875082081192785\n",
            "Epoch: 21 Loss Validation: 1.1060395051759702 Validation Accuracy: 0.5772335741048321\n",
            "Epoch: 22 Loss Train: 1.0856074628270702 Train Accuracy: 0.5907914558306616\n",
            "Epoch: 22 Loss Validation: 1.0792784256699643 Validation Accuracy: 0.5994824056549114\n",
            "Epoch: 23 Loss Train: 1.0785044058237547 Train Accuracy: 0.5934566804434316\n",
            "Epoch: 23 Loss Validation: 1.0871234561926053 Validation Accuracy: 0.5891691451968017\n",
            "Epoch: 24 Loss Train: 1.0770037196300648 Train Accuracy: 0.590598323612345\n",
            "Epoch: 24 Loss Validation: 1.0900846369288586 Validation Accuracy: 0.591293599598285\n",
            "Epoch: 25 Loss Train: 1.071778991892014 Train Accuracy: 0.5953107497392714\n",
            "Epoch: 25 Loss Validation: 1.0735492253745045 Validation Accuracy: 0.6038471937888679\n",
            "Epoch: 26 Loss Train: 1.0626261088951134 Train Accuracy: 0.5989030089999614\n",
            "Epoch: 26 Loss Validation: 1.1100907745184723 Validation Accuracy: 0.5764610452315655\n",
            "Epoch: 27 Loss Train: 1.0558684078263647 Train Accuracy: 0.598748503225308\n",
            "Epoch: 27 Loss Validation: 1.098071707987491 Validation Accuracy: 0.5874309552319518\n",
            "Epoch: 28 Loss Train: 1.055430817015377 Train Accuracy: 0.6026884004789679\n",
            "Epoch: 28 Loss Validation: 1.0647744652297761 Validation Accuracy: 0.6039244466761945\n",
            "Epoch: 29 Loss Train: 1.0518686261809902 Train Accuracy: 0.6039244466761945\n",
            "Epoch: 29 Loss Validation: 1.0547546718591525 Validation Accuracy: 0.598980261887288\n",
            "Epoch: 30 Loss Train: 1.0450463324417303 Train Accuracy: 0.6046583491057979\n",
            "Epoch: 30 Loss Validation: 1.0250519203183093 Validation Accuracy: 0.6174437019583607\n",
            "Epoch: 31 Loss Train: 1.0419580840770108 Train Accuracy: 0.6068214299509445\n",
            "Epoch: 31 Loss Validation: 1.0611511072442856 Validation Accuracy: 0.5995210320985747\n",
            "Epoch: 32 Loss Train: 1.039920926829915 Train Accuracy: 0.6040016995635212\n",
            "Epoch: 32 Loss Validation: 1.0423956935604413 Validation Accuracy: 0.6080961025918343\n",
            "Epoch: 33 Loss Train: 1.028324466244674 Train Accuracy: 0.6143149600216308\n",
            "Epoch: 33 Loss Validation: 1.0988051583185607 Validation Accuracy: 0.5769245625555255\n",
            "Epoch: 34 Loss Train: 1.0276501211855147 Train Accuracy: 0.6123836378384642\n",
            "Epoch: 34 Loss Validation: 1.060272800517671 Validation Accuracy: 0.5999459229788713\n",
            "Epoch: 35 Loss Train: 1.0251691652300916 Train Accuracy: 0.6131947931553942\n",
            "Epoch: 35 Loss Validation: 1.0138907237553303 Validation Accuracy: 0.6283749855150836\n",
            "Epoch: 36 Loss Train: 1.0174137651920319 Train Accuracy: 0.6171733168527174\n",
            "Epoch: 36 Loss Validation: 1.019422848559456 Validation Accuracy: 0.6235080536135038\n",
            "Epoch: 37 Loss Train: 1.0207263974495877 Train Accuracy: 0.6125381436131175\n",
            "Epoch: 37 Loss Validation: 1.0109855473317482 Validation Accuracy: 0.6199930472401406\n",
            "Epoch: 38 Loss Train: 1.0149848207279488 Train Accuracy: 0.6182548572752906\n",
            "Epoch: 38 Loss Validation: 1.0251049490438566 Validation Accuracy: 0.6157441384371741\n",
            "Epoch: 39 Loss Train: 1.0121250605141674 Train Accuracy: 0.6207655761134072\n",
            "Epoch: 39 Loss Validation: 1.0405580096038771 Validation Accuracy: 0.6045424697748079\n",
            "Epoch: 40 Loss Train: 1.0078972557812562 Train Accuracy: 0.6213449727683572\n",
            "Epoch: 40 Loss Validation: 1.002529872374402 Validation Accuracy: 0.6276410830854803\n",
            "Epoch: 41 Loss Train: 1.0038910234048042 Train Accuracy: 0.6215767314303372\n",
            "Epoch: 41 Loss Validation: 1.0352873208898086 Validation Accuracy: 0.6122291320638109\n",
            "Epoch: 42 Loss Train: 0.9965048914338336 Train Accuracy: 0.6257097609023137\n",
            "Epoch: 42 Loss Validation: 1.0156483294235334 Validation Accuracy: 0.6246668469234038\n",
            "Epoch: 43 Loss Train: 0.9985547085971008 Train Accuracy: 0.625400749353007\n",
            "Epoch: 43 Loss Validation: 1.0100316509236524 Validation Accuracy: 0.6252462435783538\n",
            "Epoch: 44 Loss Train: 0.9938426459277118 Train Accuracy: 0.6279887210784503\n",
            "Epoch: 44 Loss Validation: 1.0021850381184507 Validation Accuracy: 0.6236625593881572\n",
            "Epoch: 45 Loss Train: 0.9932898700605204 Train Accuracy: 0.6249758584727104\n",
            "Epoch: 45 Loss Validation: 1.0188814925006877 Validation Accuracy: 0.627950094634787\n",
            "Epoch: 46 Loss Train: 0.9907237723653699 Train Accuracy: 0.6306539456912202\n",
            "Epoch: 46 Loss Validation: 0.9919343058617762 Validation Accuracy: 0.6310015836841902\n",
            "Epoch: 47 Loss Train: 0.9949168406518889 Train Accuracy: 0.626907180655877\n",
            "Epoch: 47 Loss Validation: 0.9907195469663467 Validation Accuracy: 0.6272934450925103\n",
            "Epoch: 48 Loss Train: 0.9884181436565187 Train Accuracy: 0.6278728417474603\n",
            "Epoch: 48 Loss Validation: 1.0510935770508685 Validation Accuracy: 0.6099887983313377\n",
            "Epoch: 49 Loss Train: 0.9792603051956789 Train Accuracy: 0.6323148827687435\n",
            "Epoch: 49 Loss Validation: 0.9583391475456732 Validation Accuracy: 0.6451388620649697\n",
            "Epoch: 50 Loss Train: 0.9824429577515449 Train Accuracy: 0.6307311985785469\n",
            "Epoch: 50 Loss Validation: 0.9756517182161779 Validation Accuracy: 0.6359071420294333\n"
          ],
          "name": "stdout"
        },
        {
          "output_type": "execute_result",
          "data": {
            "text/plain": [
              "0.9583391475456732"
            ]
          },
          "metadata": {
            "tags": []
          },
          "execution_count": 68
        }
      ]
    },
    {
      "cell_type": "code",
      "metadata": {
        "colab": {
          "base_uri": "https://localhost:8080/",
          "height": 455
        },
        "id": "SVROj9g_nfbd",
        "outputId": "b2314142-8455-48b1-dd63-82c22af82ca8"
      },
      "source": [
        "test_transform = transforms.Compose([HistEqualization(),\n",
        "                                    transforms.ToTensor(),\n",
        "                                    transforms.Normalize(mean=[0.485, 0.456, 0.406], std=[0.229, 0.224, 0.225])\n",
        "                                    ])\n",
        "test_loader = CustomDataLoader(PATH_DATA, transformations=test_transform, batch_size=batch_size, as_df='test')\n",
        "\n",
        "y_true, y_pred = test(model, device, PATH_MODELS, PATH_STATS, model_name)\n",
        "confusion_plot(y_true, y_pred, PATH_FIG, model_name)\n"
      ],
      "execution_count": null,
      "outputs": [
        {
          "output_type": "stream",
          "text": [
            "           precision    recall  f1-score  accuracy\n",
            "augmented   0.623145  0.570836  0.578139  0.623572\n"
          ],
          "name": "stdout"
        },
        {
          "output_type": "display_data",
          "data": {
            "image/png": "[encoded data removed]",
            "text/plain": [
              "<Figure size 504x432 with 2 Axes>"
            ]
          },
          "metadata": {
            "tags": [],
            "needs_background": "light"
          }
        }
      ]
    },
    {
      "cell_type": "code",
      "metadata": {
        "colab": {
          "base_uri": "https://localhost:8080/",
          "height": 410
        },
        "id": "JzAxM-NDnfbg",
        "outputId": "e7c5d0f2-e5ef-449b-ed50-17fa62c4dfc7"
      },
      "source": [
        "show_trai_acc(PATH_STATS, PATH_FIG, model_name)"
      ],
      "execution_count": null,
      "outputs": [
        {
          "output_type": "display_data",
          "data": {
            "image/png": "[encoded data removed]",
            "text/plain": [
              "<Figure size 1080x432 with 2 Axes>"
            ]
          },
          "metadata": {
            "tags": [],
            "needs_background": "light"
          }
        }
      ]
    },
    {
      "cell_type": "markdown",
      "metadata": {
        "id": "Cj5Q3AoaPBoC"
      },
      "source": [
        "# Balancing and Augmentation\n",
        "Combine both techinuqyes and use CrossEntropy (remember to enable it)"
      ]
    },
    {
      "cell_type": "code",
      "metadata": {
        "id": "KW2kl9jKPJh4"
      },
      "source": [
        "class Model(nn.Module):\n",
        "  \n",
        "  def __init__(self):\n",
        "    \n",
        "    super().__init__()\n",
        "\n",
        "    self.features = nn.Sequential(\n",
        "        nn.Conv2d(in_channels=3, out_channels=16, kernel_size=3, bias=False),\n",
        "        nn.BatchNorm2d(16),\n",
        "        nn.ReLU(inplace=True),\n",
        "\n",
        "        nn.Conv2d(in_channels=16, out_channels=32, kernel_size=3, bias=False),\n",
        "        nn.Dropout(0.2),\n",
        "        nn.BatchNorm2d(32),\n",
        "        nn.ReLU(inplace=True),\n",
        "        nn.MaxPool2d(2, 2),\n",
        "\n",
        "        nn.Conv2d(in_channels=32, out_channels=64, kernel_size=3, bias=False),\n",
        "        nn.BatchNorm2d(64),\n",
        "        nn.ReLU(inplace=True),\n",
        "\n",
        "        nn.Conv2d(in_channels=64, out_channels=128, kernel_size=3, bias=False),\n",
        "        nn.Dropout(0.2),\n",
        "        nn.BatchNorm2d(128),\n",
        "        nn.ReLU(inplace=True),\n",
        "        nn.MaxPool2d(2, 2),\n",
        "\n",
        "        nn.Conv2d(in_channels=128, out_channels=256, kernel_size=3,  bias=False),\n",
        "        nn.BatchNorm2d(256),\n",
        "        nn.ReLU(inplace=True),\n",
        "  \n",
        "\n",
        "        nn.Conv2d(in_channels=256, out_channels=256, kernel_size=3, bias=False),\n",
        "        nn.Dropout(0.2),\n",
        "\n",
        "        nn.BatchNorm2d(256),\n",
        "        nn.ReLU(inplace=True),\n",
        "        nn.MaxPool2d(2, 2),\n",
        "        nn.Flatten()\n",
        "    )\n",
        "\n",
        "    self.classifier = nn.Sequential(\n",
        "        nn.Dropout(0.3),\n",
        "        nn.Linear(1024, 512),\n",
        "        nn.ReLU(inplace=True),\n",
        "        nn.Linear(512, 7),\n",
        "  \n",
        "    )\n",
        "\n",
        "  def forward(self,x):\n",
        "    x=self.features(x)\n",
        "    x=self.classifier(x)\n",
        "    return x "
      ],
      "execution_count": null,
      "outputs": []
    },
    {
      "cell_type": "code",
      "metadata": {
        "colab": {
          "base_uri": "https://localhost:8080/"
        },
        "id": "46eMOQMUPJiv",
        "outputId": "0db6a843-f632-4765-9d2c-0c82433cb14f"
      },
      "source": [
        "# Initialize the mode\n",
        "model = Model().to(device)\n",
        "model.apply(weights_init)\n",
        "summary(model, (3, 48, 48))"
      ],
      "execution_count": null,
      "outputs": [
        {
          "output_type": "stream",
          "text": [
            "----------------------------------------------------------------\n",
            "        Layer (type)               Output Shape         Param #\n",
            "================================================================\n",
            "            Conv2d-1           [-1, 16, 46, 46]             432\n",
            "       BatchNorm2d-2           [-1, 16, 46, 46]              32\n",
            "              ReLU-3           [-1, 16, 46, 46]               0\n",
            "            Conv2d-4           [-1, 32, 44, 44]           4,608\n",
            "           Dropout-5           [-1, 32, 44, 44]               0\n",
            "       BatchNorm2d-6           [-1, 32, 44, 44]              64\n",
            "              ReLU-7           [-1, 32, 44, 44]               0\n",
            "         MaxPool2d-8           [-1, 32, 22, 22]               0\n",
            "            Conv2d-9           [-1, 64, 20, 20]          18,432\n",
            "      BatchNorm2d-10           [-1, 64, 20, 20]             128\n",
            "             ReLU-11           [-1, 64, 20, 20]               0\n",
            "           Conv2d-12          [-1, 128, 18, 18]          73,728\n",
            "          Dropout-13          [-1, 128, 18, 18]               0\n",
            "      BatchNorm2d-14          [-1, 128, 18, 18]             256\n",
            "             ReLU-15          [-1, 128, 18, 18]               0\n",
            "        MaxPool2d-16            [-1, 128, 9, 9]               0\n",
            "           Conv2d-17            [-1, 256, 7, 7]         294,912\n",
            "      BatchNorm2d-18            [-1, 256, 7, 7]             512\n",
            "             ReLU-19            [-1, 256, 7, 7]               0\n",
            "           Conv2d-20            [-1, 256, 5, 5]         589,824\n",
            "          Dropout-21            [-1, 256, 5, 5]               0\n",
            "      BatchNorm2d-22            [-1, 256, 5, 5]             512\n",
            "             ReLU-23            [-1, 256, 5, 5]               0\n",
            "        MaxPool2d-24            [-1, 256, 2, 2]               0\n",
            "          Flatten-25                 [-1, 1024]               0\n",
            "          Dropout-26                 [-1, 1024]               0\n",
            "           Linear-27                  [-1, 512]         524,800\n",
            "             ReLU-28                  [-1, 512]               0\n",
            "           Linear-29                    [-1, 7]           3,591\n",
            "================================================================\n",
            "Total params: 1,511,831\n",
            "Trainable params: 1,511,831\n",
            "Non-trainable params: 0\n",
            "----------------------------------------------------------------\n",
            "Input size (MB): 0.03\n",
            "Forward/backward pass size (MB): 5.23\n",
            "Params size (MB): 5.77\n",
            "Estimated Total Size (MB): 11.02\n",
            "----------------------------------------------------------------\n"
          ],
          "name": "stdout"
        }
      ]
    },
    {
      "cell_type": "code",
      "metadata": {
        "id": "ZmukhbgLPJi0"
      },
      "source": [
        "# Hyper Parameters:\n",
        "model_name = 'balancing_augmented'\n",
        "num_epochs = 100\n",
        "batch_size = 80\n",
        "learning_rate = 0.001\n",
        "learning_rate_decay = 0.9\n",
        "momentum = 0.0001\n",
        "weight_decay = 0.0005\n",
        "early_stopping = 40"
      ],
      "execution_count": null,
      "outputs": []
    },
    {
      "cell_type": "code",
      "metadata": {
        "id": "EJSAZ5uMPJi2"
      },
      "source": [
        "train_transform = transforms.Compose([HistEqualization(),                                      \n",
        "                                      transforms.RandomHorizontalFlip(p=0.5),\n",
        "                                      transforms.RandomApply(torch.nn.ModuleList([transforms.RandomAffine(degrees=(-20, +20))]), p=0.5),\n",
        "                                      transforms.RandomApply(torch.nn.ModuleList([transforms.RandomAffine(degrees=0, translate=(0.20,0.20))]), p=0.5),\n",
        "                                      transforms.ToTensor(),\n",
        "                                      transforms.Normalize(mean=[0.485, 0.456, 0.406], std=[0.229, 0.224, 0.225])\n",
        "                                    ])\n",
        "valid_transform = transforms.Compose([HistEqualization(),\n",
        "                                    transforms.ToTensor(),\n",
        "                                    transforms.Normalize(mean=[0.485, 0.456, 0.406], std=[0.229, 0.224, 0.225])\n",
        "                                    ])"
      ],
      "execution_count": null,
      "outputs": []
    },
    {
      "cell_type": "code",
      "metadata": {
        "colab": {
          "base_uri": "https://localhost:8080/"
        },
        "id": "GnvZF0DIPJi4",
        "outputId": "12d4eff3-fd2a-424d-e53b-aacbac9208ba"
      },
      "source": [
        "run_train(num_epochs, early_stopping, train_transform, valid_transform, batch_size,\n",
        "          model_name, PATH_STATS, PATH_MODELS, PATH_DATA, device, model,\n",
        "          weight_decay=weight_decay, learning_rate=learning_rate, learning_rate_decay=learning_rate_decay,\n",
        "          balanced=True)"
      ],
      "execution_count": null,
      "outputs": [
        {
          "output_type": "stream",
          "text": [
            "Epoch: 1 Loss Train: 1.950254953937766 Train Accuracy: 0.2280118969446483\n",
            "Epoch: 1 Loss Validation: 1.80264926287863 Validation Accuracy: 0.2946808510638298\n"
          ],
          "name": "stdout"
        },
        {
          "output_type": "stream",
          "text": [
            "/usr/local/lib/python3.6/dist-packages/torch/optim/lr_scheduler.py:156: UserWarning: The epoch parameter in `scheduler.step()` was not necessary and is being deprecated where possible. Please use `scheduler.step()` to step the scheduler. During the deprecation, if epoch is different from None, the closed form is used instead of the new chainable form, where available. Please open an issue if you are unable to replicate your use case: https://github.com/pytorch/pytorch/issues/new/choose.\n",
            "  warnings.warn(EPOCH_DEPRECATION_WARNING, UserWarning)\n"
          ],
          "name": "stderr"
        },
        {
          "output_type": "stream",
          "text": [
            "Epoch: 2 Loss Train: 1.6514603477201344 Train Accuracy: 0.3535864652941404\n",
            "Epoch: 2 Loss Validation: 1.676699264181985 Validation Accuracy: 0.34893617021276596\n",
            "Epoch: 3 Loss Train: 1.5135042520216953 Train Accuracy: 0.41550465448646146\n",
            "Epoch: 3 Loss Validation: 1.4664077030287848 Validation Accuracy: 0.4418439716312057\n",
            "Epoch: 4 Loss Train: 1.439666058914161 Train Accuracy: 0.4479508671636602\n",
            "Epoch: 4 Loss Validation: 1.8633151650428772 Validation Accuracy: 0.3170212765957447\n",
            "Epoch: 5 Loss Train: 1.3537351308781425 Train Accuracy: 0.48209664336204566\n",
            "Epoch: 5 Loss Validation: 1.2404720816347334 Validation Accuracy: 0.5273049645390071\n",
            "Epoch: 6 Loss Train: 1.3150132990177767 Train Accuracy: 0.49731546216539846\n",
            "Epoch: 6 Loss Validation: 1.2588644896944363 Validation Accuracy: 0.5290780141843971\n",
            "Epoch: 7 Loss Train: 1.2864104722752983 Train Accuracy: 0.5072038317432114\n",
            "Epoch: 7 Loss Validation: 1.2706964545779758 Validation Accuracy: 0.526595744680851\n",
            "Epoch: 8 Loss Train: 1.2348888472274497 Train Accuracy: 0.535903279385067\n",
            "Epoch: 8 Loss Validation: 1.198424340950118 Validation Accuracy: 0.5386524822695036\n",
            "Epoch: 9 Loss Train: 1.2030277368095186 Train Accuracy: 0.54498049364595\n",
            "Epoch: 9 Loss Validation: 1.202995906273524 Validation Accuracy: 0.5482269503546099\n",
            "Epoch: 10 Loss Train: 1.1913136541843414 Train Accuracy: 0.5436671945613968\n",
            "Epoch: 10 Loss Validation: 1.3185085985395644 Validation Accuracy: 0.500354609929078\n",
            "Epoch: 11 Loss Train: 1.1696560403079161 Train Accuracy: 0.5550233689984163\n",
            "Epoch: 11 Loss Validation: 1.2078036334779527 Validation Accuracy: 0.5567375886524822\n",
            "Epoch: 12 Loss Train: 1.1451746214319158 Train Accuracy: 0.5658773996678126\n",
            "Epoch: 12 Loss Validation: 1.2659126619497936 Validation Accuracy: 0.5269503546099291\n",
            "Epoch: 13 Loss Train: 1.1221211460637457 Train Accuracy: 0.5753795048089922\n",
            "Epoch: 13 Loss Validation: 1.2149881422519684 Validation Accuracy: 0.5379432624113475\n",
            "Epoch: 14 Loss Train: 1.0977378574050503 Train Accuracy: 0.5839159488585886\n",
            "Epoch: 14 Loss Validation: 1.2581336663828955 Validation Accuracy: 0.5439716312056737\n",
            "Epoch: 15 Loss Train: 1.036202354747572 Train Accuracy: 0.6078257174861911\n",
            "Epoch: 15 Loss Validation: 1.0469526333941355 Validation Accuracy: 0.6060283687943262\n",
            "Epoch: 16 Loss Train: 1.090948282568543 Train Accuracy: 0.5870833172389818\n",
            "Epoch: 16 Loss Validation: 1.1794714712434344 Validation Accuracy: 0.5726950354609929\n",
            "Epoch: 17 Loss Train: 1.0733738427544817 Train Accuracy: 0.5919116226968983\n",
            "Epoch: 17 Loss Validation: 1.1411444668968518 Validation Accuracy: 0.5645390070921986\n",
            "Epoch: 18 Loss Train: 1.0616353183616827 Train Accuracy: 0.600023175866198\n",
            "Epoch: 18 Loss Validation: 1.096807274553511 Validation Accuracy: 0.5797872340425532\n",
            "Epoch: 19 Loss Train: 1.057359746944757 Train Accuracy: 0.5972420719224381\n",
            "Epoch: 19 Loss Validation: 1.1073455148273044 Validation Accuracy: 0.5822695035460993\n",
            "Epoch: 20 Loss Train: 1.0372937831245823 Train Accuracy: 0.6097570396693577\n",
            "Epoch: 20 Loss Validation: 1.0768077630135748 Validation Accuracy: 0.5882978723404255\n",
            "Epoch: 21 Loss Train: 1.0294778525461385 Train Accuracy: 0.6113793503032176\n",
            "Epoch: 21 Loss Validation: 1.1000884589221742 Validation Accuracy: 0.5907801418439717\n",
            "Epoch: 22 Loss Train: 0.9669610359418539 Train Accuracy: 0.6342075785082467\n",
            "Epoch: 22 Loss Validation: 1.0139127026001613 Validation Accuracy: 0.6187943262411347\n",
            "Epoch: 23 Loss Train: 1.0207038036099187 Train Accuracy: 0.6119201205145043\n",
            "Epoch: 23 Loss Validation: 1.0689749742547672 Validation Accuracy: 0.5854609929078014\n",
            "Epoch: 24 Loss Validation: 1.0778237299786673 Validation Accuracy: 0.5886524822695035\n",
            "Epoch: 25 Loss Train: 1.0137762940592236 Train Accuracy: 0.6184479894936074\n",
            "Epoch: 25 Loss Validation: 1.063798559208711 Validation Accuracy: 0.6031914893617021\n",
            "Epoch: 26 Loss Train: 1.001079808966613 Train Accuracy: 0.6208814554443972\n",
            "Epoch: 26 Loss Validation: 1.08340503109826 Validation Accuracy: 0.5964539007092199\n",
            "Epoch: 27 Loss Train: 0.9911310288273258 Train Accuracy: 0.6239329444938004\n",
            "Epoch: 27 Loss Validation: 1.1295211414496105 Validation Accuracy: 0.5851063829787234\n",
            "Epoch: 28 Loss Train: 0.9940249700973063 Train Accuracy: 0.6252462435783538\n",
            "Epoch: 28 Loss Validation: 1.056185273660554 Validation Accuracy: 0.6067375886524823\n",
            "Epoch: 29 Loss Train: 0.9205121889158532 Train Accuracy: 0.6503920584031828\n",
            "Epoch: 29 Loss Validation: 1.0112217027280066 Validation Accuracy: 0.6283687943262412\n",
            "Epoch: 30 Loss Train: 0.9735858997812977 Train Accuracy: 0.6341303256209201\n",
            "Epoch: 30 Loss Validation: 1.0584808190663655 Validation Accuracy: 0.6109929078014185\n",
            "Epoch: 31 Loss Train: 0.9745224743713568 Train Accuracy: 0.6303449341419135\n",
            "Epoch: 31 Loss Validation: 1.0702321545945273 Validation Accuracy: 0.6049645390070922\n",
            "Epoch: 32 Loss Train: 0.9745043093039666 Train Accuracy: 0.6319286183321101\n",
            "Epoch: 32 Loss Validation: 1.0736297865708668 Validation Accuracy: 0.6085106382978723\n",
            "Epoch: 33 Loss Train: 0.9554058686818605 Train Accuracy: 0.6430916605508131\n",
            "Epoch: 33 Loss Validation: 1.048362049791548 Validation Accuracy: 0.6166666666666667\n",
            "Epoch: 34 Loss Train: 0.9530339559287201 Train Accuracy: 0.6409672061493298\n",
            "Epoch: 34 Loss Validation: 1.0404371875855658 Validation Accuracy: 0.6120567375886525\n",
            "Epoch: 35 Loss Train: 0.9498541276028127 Train Accuracy: 0.6408127003746765\n",
            "Epoch: 35 Loss Validation: 1.0361527072058783 Validation Accuracy: 0.6060283687943262\n",
            "Epoch: 36 Loss Train: 0.9029048053938665 Train Accuracy: 0.6601645486500058\n",
            "Epoch: 36 Loss Validation: 0.9940481848186917 Validation Accuracy: 0.6273049645390071\n",
            "Epoch: 37 Loss Train: 0.9502926113796822 Train Accuracy: 0.6438641894240797\n",
            "Epoch: 37 Loss Validation: 1.0641069892379973 Validation Accuracy: 0.6046099290780141\n",
            "Epoch: 38 Loss Train: 0.9502509714644632 Train Accuracy: 0.6410830854803198\n",
            "Epoch: 38 Loss Validation: 1.029411769575543 Validation Accuracy: 0.6163120567375886\n",
            "Epoch: 39 Loss Train: 0.9456114573979083 Train Accuracy: 0.6389200046351733\n",
            "Epoch: 39 Loss Validation: 1.0760679841041565 Validation Accuracy: 0.5918439716312057\n",
            "Epoch: 40 Loss Train: 0.940737682176225 Train Accuracy: 0.6442118274170497\n",
            "Epoch: 40 Loss Validation: 1.0369445731242497 Validation Accuracy: 0.6202127659574468\n",
            "Epoch: 41 Loss Train: 0.9175336942260648 Train Accuracy: 0.6584263586851559\n",
            "Epoch: 41 Loss Validation: 1.0668209095795949 Validation Accuracy: 0.6\n",
            "Epoch: 42 Loss Train: 0.932486868566937 Train Accuracy: 0.6520143690370428\n",
            "Epoch: 42 Loss Validation: 1.0524024036195543 Validation Accuracy: 0.6152482269503546\n",
            "Epoch: 43 Loss Train: 0.8786209783068409 Train Accuracy: 0.6681215960446522\n",
            "Epoch: 43 Loss Validation: 1.013229853577084 Validation Accuracy: 0.6308510638297873\n",
            "Epoch: 44 Loss Train: 0.9097637357535185 Train Accuracy: 0.6559156398470393\n",
            "Epoch: 44 Loss Validation: 1.0069053131673071 Validation Accuracy: 0.625531914893617\n",
            "Epoch: 45 Loss Train: 0.9184741497407725 Train Accuracy: 0.6528255243539727\n",
            "Epoch: 45 Loss Validation: 1.0899033356044028 Validation Accuracy: 0.6085106382978723\n",
            "Epoch: 46 Loss Train: 0.9167293554838792 Train Accuracy: 0.6545250878751593\n",
            "Epoch: 46 Loss Validation: 1.0437912907865312 Validation Accuracy: 0.599645390070922\n",
            "Epoch: 47 Loss Train: 0.9060444859442888 Train Accuracy: 0.6591216346710959\n",
            "Epoch: 47 Loss Validation: 1.0215869728061888 Validation Accuracy: 0.6152482269503546\n",
            "Epoch: 48 Loss Train: 0.9129828402289638 Train Accuracy: 0.6594306462204025\n",
            "Epoch: 48 Loss Validation: 1.0376508616738849 Validation Accuracy: 0.6166666666666667\n",
            "Epoch: 49 Loss Train: 0.8674645431247758 Train Accuracy: 0.673220286608212\n",
            "Epoch: 49 Loss Validation: 0.9761074723468887 Validation Accuracy: 0.6372340425531915\n",
            "Epoch: 50 Loss Train: 0.8978102529122506 Train Accuracy: 0.6630229054810923\n",
            "Epoch: 50 Loss Validation: 1.0238855580488841 Validation Accuracy: 0.6173758865248227\n",
            "Epoch: 51 Loss Train: 0.9077711736346469 Train Accuracy: 0.6578855884738692\n",
            "Epoch: 51 Loss Validation: 1.0302046603626676 Validation Accuracy: 0.6152482269503546\n"
          ],
          "name": "stdout"
        },
        {
          "output_type": "execute_result",
          "data": {
            "text/plain": [
              "0.9761074723468887"
            ]
          },
          "metadata": {
            "tags": []
          },
          "execution_count": 78
        }
      ]
    },
    {
      "cell_type": "code",
      "metadata": {
        "colab": {
          "base_uri": "https://localhost:8080/",
          "height": 455
        },
        "id": "spwFV7U0PJi6",
        "outputId": "52c9ece2-a953-4d19-d9aa-fa4f63b821ab"
      },
      "source": [
        "test_transform = transforms.Compose([HistEqualization(),\n",
        "                                    transforms.ToTensor(),\n",
        "                                    transforms.Normalize(mean=[0.485, 0.456, 0.406], std=[0.229, 0.224, 0.225])\n",
        "                                    ])\n",
        "test_loader = CustomDataLoader(PATH_DATA, transformations=test_transform, batch_size=batch_size, as_df='test')\n",
        "\n",
        "y_true, y_pred = test(model, device, PATH_MODELS, PATH_STATS, model_name)\n",
        "confusion_plot(y_true, y_pred, PATH_FIG, model_name)\n"
      ],
      "execution_count": null,
      "outputs": [
        {
          "output_type": "stream",
          "text": [
            "                     precision    recall  f1-score  accuracy\n",
            "balancing_augmented   0.584629  0.608715  0.590169  0.610059\n"
          ],
          "name": "stdout"
        },
        {
          "output_type": "display_data",
          "data": {
            "image/png": "[encoded data removed]",
            "text/plain": [
              "<Figure size 504x432 with 2 Axes>"
            ]
          },
          "metadata": {
            "tags": [],
            "needs_background": "light"
          }
        }
      ]
    },
    {
      "cell_type": "code",
      "metadata": {
        "colab": {
          "base_uri": "https://localhost:8080/",
          "height": 410
        },
        "id": "p9GSjU4iPJi9",
        "outputId": "06c07a0c-11a9-4506-bd6a-e8d5f9a80e6a"
      },
      "source": [
        "show_trai_acc(PATH_STATS, PATH_FIG, model_name)"
      ],
      "execution_count": null,
      "outputs": [
        {
          "output_type": "display_data",
          "data": {
            "image/png": "[encoded data removed]",
            "text/plain": [
              "<Figure size 1080x432 with 2 Axes>"
            ]
          },
          "metadata": {
            "tags": [],
            "needs_background": "light"
          }
        }
      ]
    },
    {
      "cell_type": "markdown",
      "metadata": {
        "id": "MAQhLNDsM0rP"
      },
      "source": [
        "# VGG 11\n",
        "\n",
        "When you train it, you must use CrossEntropyLoss, so **change it in the Enigne in the Optimizer Section** (default is NLLL).\n",
        "After loading the whole network, we keep the feature part, but the last MaxPool. We add a AvgGlobalPool that returns as shape (512, 2, 2).\n",
        "The classifier is completly redesigned to this task, made by 3 Layers 2048-->1024, 1024-->512, 512-->7. With a 30% Dropout between the first two layers."
      ]
    },
    {
      "cell_type": "code",
      "metadata": {
        "colab": {
          "base_uri": "https://localhost:8080/",
          "height": 806,
          "referenced_widgets": [
            "8b5630fcb437468abb936f2693e18209",
            "2c02752db8c84347be07bf046ab3846a",
            "a3eece719fec43388747ed25833137d9",
            "a2bc1a71c94749ad9490269d10126f3c",
            "2c8e1841ffbb4e4fbf1cb575ba172d5d",
            "a02dc2c517c14cb9aae98837a2fcaedf",
            "b9c9d9c013d648a0b573cdd6e5c90f1e",
            "05230a6edff0482bbc522de8d3d97a9c"
          ]
        },
        "id": "wjIgT44tqXwa",
        "outputId": "481bc252-085e-4603-c153-36e1b48092a2"
      },
      "source": [
        "model = torchvision.models.vgg11(pretrained=True)\n",
        "set_parameter_requires_grad(model.features, True)\n",
        "model = nn.Sequential(*list(model.features._modules.values())[:-1])\n",
        "model.avgpool = nn.AvgPool2d(2,1)\n",
        "model.classifier = nn.Sequential(\n",
        "    nn.Flatten(),\n",
        "    nn.Linear(2048, 1024),\n",
        "    nn.ReLU(),\n",
        "    nn.Dropout(0.3),\n",
        "    nn.Linear(1024, 512),\n",
        "    nn.ReLU(),\n",
        "    nn.Linear(512, 7)\n",
        "    )\n",
        "\n",
        "model = model.to(device)\n",
        "#model.apply(weights_init)\n",
        "summary(model, (3,48,48))\n"
      ],
      "execution_count": null,
      "outputs": [
        {
          "output_type": "stream",
          "text": [
            "Downloading: \"https://download.pytorch.org/models/vgg11-bbd30ac9.pth\" to /root/.cache/torch/hub/checkpoints/vgg11-bbd30ac9.pth\n"
          ],
          "name": "stderr"
        },
        {
          "output_type": "display_data",
          "data": {
            "application/vnd.jupyter.widget-view+json": {
              "model_id": "8b5630fcb437468abb936f2693e18209",
              "version_minor": 0,
              "version_major": 2
            },
            "text/plain": [
              "HBox(children=(FloatProgress(value=0.0, max=531456000.0), HTML(value='')))"
            ]
          },
          "metadata": {
            "tags": []
          }
        },
        {
          "output_type": "stream",
          "text": [
            "\n",
            "----------------------------------------------------------------\n",
            "        Layer (type)               Output Shape         Param #\n",
            "================================================================\n",
            "            Conv2d-1           [-1, 64, 48, 48]           1,792\n",
            "              ReLU-2           [-1, 64, 48, 48]               0\n",
            "         MaxPool2d-3           [-1, 64, 24, 24]               0\n",
            "            Conv2d-4          [-1, 128, 24, 24]          73,856\n",
            "              ReLU-5          [-1, 128, 24, 24]               0\n",
            "         MaxPool2d-6          [-1, 128, 12, 12]               0\n",
            "            Conv2d-7          [-1, 256, 12, 12]         295,168\n",
            "              ReLU-8          [-1, 256, 12, 12]               0\n",
            "            Conv2d-9          [-1, 256, 12, 12]         590,080\n",
            "             ReLU-10          [-1, 256, 12, 12]               0\n",
            "        MaxPool2d-11            [-1, 256, 6, 6]               0\n",
            "           Conv2d-12            [-1, 512, 6, 6]       1,180,160\n",
            "             ReLU-13            [-1, 512, 6, 6]               0\n",
            "           Conv2d-14            [-1, 512, 6, 6]       2,359,808\n",
            "             ReLU-15            [-1, 512, 6, 6]               0\n",
            "        MaxPool2d-16            [-1, 512, 3, 3]               0\n",
            "           Conv2d-17            [-1, 512, 3, 3]       2,359,808\n",
            "             ReLU-18            [-1, 512, 3, 3]               0\n",
            "           Conv2d-19            [-1, 512, 3, 3]       2,359,808\n",
            "             ReLU-20            [-1, 512, 3, 3]               0\n",
            "        AvgPool2d-21            [-1, 512, 2, 2]               0\n",
            "          Flatten-22                 [-1, 2048]               0\n",
            "           Linear-23                 [-1, 1024]       2,098,176\n",
            "             ReLU-24                 [-1, 1024]               0\n",
            "          Dropout-25                 [-1, 1024]               0\n",
            "           Linear-26                  [-1, 512]         524,800\n",
            "             ReLU-27                  [-1, 512]               0\n",
            "           Linear-28                    [-1, 7]           3,591\n",
            "================================================================\n",
            "Total params: 11,847,047\n",
            "Trainable params: 2,626,567\n",
            "Non-trainable params: 9,220,480\n",
            "----------------------------------------------------------------\n",
            "Input size (MB): 0.03\n",
            "Forward/backward pass size (MB): 5.79\n",
            "Params size (MB): 45.19\n",
            "Estimated Total Size (MB): 51.01\n",
            "----------------------------------------------------------------\n"
          ],
          "name": "stdout"
        }
      ]
    },
    {
      "cell_type": "code",
      "metadata": {
        "id": "MSTi_MawckvU"
      },
      "source": [
        "# Hyper Parameters:\n",
        "model_name = 'VGG11'\n",
        "num_epochs = 30\n",
        "batch_size = 120\n",
        "learning_rate = 0.001\n",
        "learning_rate_decay = 0.9\n",
        "momentum = 0.0001\n",
        "weight_decay = 0.0005\n",
        "early_stopping = 20"
      ],
      "execution_count": null,
      "outputs": []
    },
    {
      "cell_type": "code",
      "metadata": {
        "id": "_KPEwxwIiLDR"
      },
      "source": [
        "train_transform = transforms.Compose([HistEqualization(),                    \n",
        "                                      transforms.RandomHorizontalFlip(p=0.7),\n",
        "                                      transforms.RandomApply(torch.nn.ModuleList([transforms.RandomAffine(degrees=(-20, +20))]), p=0.3),\n",
        "                                      transforms.RandomApply(torch.nn.ModuleList([transforms.RandomAffine(degrees=0, translate=(0.20,0.20))]), p=0.5),\n",
        "                                      transforms.ToTensor(),\n",
        "                                      transforms.Normalize(mean=[0.485, 0.456, 0.406], std=[0.229, 0.224, 0.225])])\n",
        "valid_transform = transforms.Compose([HistEqualization(),\n",
        "                                      transforms.ToTensor(),\n",
        "                                      transforms.Normalize(mean=[0.485, 0.456, 0.406], std=[0.229, 0.224, 0.225])])"
      ],
      "execution_count": null,
      "outputs": []
    },
    {
      "cell_type": "code",
      "metadata": {
        "id": "8cAlaFboiE0l",
        "colab": {
          "base_uri": "https://localhost:8080/"
        },
        "outputId": "6123b821-c118-49c1-836f-f878cc98764c"
      },
      "source": [
        "run_train(num_epochs, early_stopping, train_transform, valid_transform, batch_size,\n",
        "          model_name, PATH_STATS, PATH_MODELS, PATH_DATA, device, model,\n",
        "          weight_decay=weight_decay, learning_rate=learning_rate, learning_rate_decay=learning_rate_decay,\n",
        "          balanced=True)"
      ],
      "execution_count": null,
      "outputs": [
        {
          "output_type": "stream",
          "text": [
            "Epoch: 1 Loss Train: 1.7034340120024152 Train Accuracy: 0.3366294565259377\n",
            "Epoch: 1 Loss Validation: 1.5961117992798488 Validation Accuracy: 0.3882978723404255\n"
          ],
          "name": "stdout"
        },
        {
          "output_type": "stream",
          "text": [
            "/usr/local/lib/python3.6/dist-packages/torch/optim/lr_scheduler.py:156: UserWarning:\n",
            "\n",
            "The epoch parameter in `scheduler.step()` was not necessary and is being deprecated where possible. Please use `scheduler.step()` to step the scheduler. During the deprecation, if epoch is different from None, the closed form is used instead of the new chainable form, where available. Please open an issue if you are unable to replicate your use case: https://github.com/pytorch/pytorch/issues/new/choose.\n",
            "\n"
          ],
          "name": "stderr"
        },
        {
          "output_type": "stream",
          "text": [
            "Epoch: 2 Loss Train: 1.578391882556456 Train Accuracy: 0.39904978948588204\n",
            "Epoch: 2 Loss Validation: 1.5991160770257313 Validation Accuracy: 0.3801418439716312\n",
            "Epoch: 3 Loss Train: 1.529119137260649 Train Accuracy: 0.41612267758507476\n",
            "Epoch: 3 Loss Validation: 1.47814229875803 Validation Accuracy: 0.42730496453900707\n",
            "Epoch: 4 Loss Train: 1.4952017808402027 Train Accuracy: 0.42388659276140445\n",
            "Epoch: 4 Loss Validation: 1.4767941335837047 Validation Accuracy: 0.4223404255319149\n",
            "Epoch: 5 Loss Train: 1.479375492091532 Train Accuracy: 0.43632430762099733\n",
            "Epoch: 5 Loss Validation: 1.4416888679067295 Validation Accuracy: 0.4397163120567376\n",
            "Epoch: 6 Loss Train: 1.4611230304947607 Train Accuracy: 0.44157750395921047\n",
            "Epoch: 6 Loss Validation: 1.4551317244768143 Validation Accuracy: 0.425177304964539\n",
            "Epoch: 7 Loss Train: 1.4506735454003017 Train Accuracy: 0.4472169647340569\n",
            "Epoch: 7 Loss Validation: 1.426607606311639 Validation Accuracy: 0.4453900709219858\n",
            "Epoch: 8 Loss Train: 1.440071475726587 Train Accuracy: 0.4492641662482135\n",
            "Epoch: 8 Loss Validation: 1.4027192741632462 Validation Accuracy: 0.4648936170212766\n",
            "Epoch: 9 Loss Train: 1.4214784066986155 Train Accuracy: 0.46201089265711304\n",
            "Epoch: 9 Loss Validation: 1.3763538599014282 Validation Accuracy: 0.474468085106383\n",
            "Epoch: 10 Loss Train: 1.419193677328251 Train Accuracy: 0.4599636911429565\n",
            "Epoch: 10 Loss Validation: 1.3916305949290593 Validation Accuracy: 0.4645390070921986\n",
            "Epoch: 11 Loss Train: 1.4157933449303661 Train Accuracy: 0.46259028931206303\n",
            "Epoch: 11 Loss Validation: 1.396347738802433 Validation Accuracy: 0.4592198581560284\n",
            "Epoch: 12 Loss Train: 1.403176000824681 Train Accuracy: 0.46710958322067286\n",
            "Epoch: 12 Loss Validation: 1.3784041653076808 Validation Accuracy: 0.47304964539007094\n",
            "Epoch: 13 Loss Train: 1.3957630202726081 Train Accuracy: 0.46772760631928617\n",
            "Epoch: 13 Loss Validation: 1.37260585774978 Validation Accuracy: 0.47624113475177304\n",
            "Epoch: 14 Loss Train: 1.3859687116410997 Train Accuracy: 0.46923403762215615\n",
            "Epoch: 14 Loss Validation: 1.393718498448531 Validation Accuracy: 0.46099290780141844\n",
            "Epoch: 15 Loss Train: 1.3856025983889897 Train Accuracy: 0.472131020896906\n",
            "Epoch: 15 Loss Validation: 1.3617715040842693 Validation Accuracy: 0.4794326241134752\n",
            "Epoch: 16 Loss Train: 1.3743884182638593 Train Accuracy: 0.47058596315037277\n",
            "Epoch: 16 Loss Validation: 1.3995319704214733 Validation Accuracy: 0.46914893617021275\n",
            "Epoch: 17 Loss Train: 1.3771984190852553 Train Accuracy: 0.4737919579744293\n",
            "Epoch: 17 Loss Validation: 1.378011944393317 Validation Accuracy: 0.48120567375886525\n",
            "Epoch: 18 Loss Train: 1.3749470247162714 Train Accuracy: 0.47471899262234923\n",
            "Epoch: 18 Loss Validation: 1.369301398595174 Validation Accuracy: 0.48439716312056735\n",
            "Epoch: 19 Loss Train: 1.3582256027945765 Train Accuracy: 0.47993356251689906\n",
            "Epoch: 19 Loss Validation: 1.3695874959230423 Validation Accuracy: 0.4879432624113475\n",
            "Epoch: 20 Loss Train: 1.365211628653385 Train Accuracy: 0.48209664336204566\n",
            "Epoch: 20 Loss Validation: 1.3750319580237071 Validation Accuracy: 0.475177304964539\n",
            "Epoch: 21 Loss Train: 1.3578030130377523 Train Accuracy: 0.48217389624937235\n",
            "Epoch: 21 Loss Validation: 1.3931206837296486 Validation Accuracy: 0.4631205673758865\n",
            "Epoch: 22 Loss Train: 1.3109213792615466 Train Accuracy: 0.5013712387500483\n",
            "Epoch: 22 Loss Validation: 1.3326984718441963 Validation Accuracy: 0.48865248226950353\n",
            "Epoch: 23 Loss Train: 1.3474915391869016 Train Accuracy: 0.4883155007918421\n",
            "Epoch: 23 Loss Validation: 1.3447571843862534 Validation Accuracy: 0.48120567375886525\n",
            "Epoch: 24 Loss Train: 1.3408772514926062 Train Accuracy: 0.4896287998763954\n",
            "Epoch: 24 Loss Validation: 1.4161837697029114 Validation Accuracy: 0.46702127659574466\n",
            "Epoch: 25 Loss Train: 1.3487302848586329 Train Accuracy: 0.48510950596778557\n",
            "Epoch: 25 Loss Validation: 1.3958702310919762 Validation Accuracy: 0.4702127659574468\n",
            "Epoch: 26 Loss Train: 1.3381517501892868 Train Accuracy: 0.49314380624975857\n",
            "Epoch: 26 Loss Validation: 1.3829552829265594 Validation Accuracy: 0.4716312056737589\n",
            "Epoch: 27 Loss Train: 1.3425506734185748 Train Accuracy: 0.490169570087682\n",
            "Epoch: 27 Loss Validation: 1.3661917100350063 Validation Accuracy: 0.474822695035461\n",
            "Epoch: 28 Loss Train: 1.3441253398303632 Train Accuracy: 0.4849550001931322\n",
            "Epoch: 28 Loss Validation: 1.3698770900567372 Validation Accuracy: 0.4698581560283688\n",
            "Epoch: 29 Loss Train: 1.3066853124786306 Train Accuracy: 0.5007145892077717\n",
            "Epoch: 29 Loss Validation: 1.315073197086652 Validation Accuracy: 0.49858156028368794\n",
            "Epoch: 30 Loss Train: 1.331206183742594 Train Accuracy: 0.491096604735602\n",
            "Epoch: 30 Loss Validation: 1.3576544299721718 Validation Accuracy: 0.4773049645390071\n"
          ],
          "name": "stdout"
        },
        {
          "output_type": "execute_result",
          "data": {
            "text/plain": [
              "1.315073197086652"
            ]
          },
          "metadata": {
            "tags": []
          },
          "execution_count": 297
        }
      ]
    },
    {
      "cell_type": "code",
      "metadata": {
        "id": "4_TW3ERvSqjZ",
        "colab": {
          "base_uri": "https://localhost:8080/",
          "height": 455
        },
        "outputId": "a524a8a7-28df-4ee3-9603-27c895fdcba4"
      },
      "source": [
        "#Evaluate the model:\n",
        "test_transform = transforms.Compose([HistEqualization(),\n",
        "                                    transforms.ToTensor(),\n",
        "                                    transforms.Normalize(mean=[0.485, 0.456, 0.406], std=[0.229, 0.224, 0.225])\n",
        "                                    ])\n",
        "test_loader = CustomDataLoader(PATH_DATA, transformations=test_transform, batch_size=batch_size, as_df='test')\n",
        "\n",
        "y_true, y_pred = test(model, device, PATH_MODELS, PATH_STATS, model_name)\n",
        "confusion_plot(y_true, y_pred, PATH_FIG, model_name)\n"
      ],
      "execution_count": null,
      "outputs": [
        {
          "output_type": "stream",
          "text": [
            "       precision    recall  f1-score  accuracy\n",
            "VGG11   0.418299  0.479498  0.426693  0.468236\n"
          ],
          "name": "stdout"
        },
        {
          "output_type": "display_data",
          "data": {
            "image/png": "[encoded data removed]",
            "text/plain": [
              "<Figure size 504x432 with 2 Axes>"
            ]
          },
          "metadata": {
            "tags": [],
            "needs_background": "light"
          }
        }
      ]
    },
    {
      "cell_type": "code",
      "metadata": {
        "colab": {
          "base_uri": "https://localhost:8080/",
          "height": 428
        },
        "id": "5FxgiRsVVXb9",
        "outputId": "c233c991-416f-422b-aa88-bb4b04f59d90"
      },
      "source": [
        "show_trai_acc(PATH_STATS, PATH_FIG, model_name)"
      ],
      "execution_count": null,
      "outputs": [
        {
          "output_type": "display_data",
          "data": {
            "image/png": "[encoded data removed]",
            "text/plain": [
              "<Figure size 1080x432 with 2 Axes>"
            ]
          },
          "metadata": {
            "tags": [],
            "needs_background": "light"
          }
        }
      ]
    },
    {
      "cell_type": "markdown",
      "metadata": {
        "id": "SfUvEhslp86m"
      },
      "source": [
        "# ResNet:"
      ]
    },
    {
      "cell_type": "code",
      "metadata": {
        "colab": {
          "base_uri": "https://localhost:8080/"
        },
        "id": "aIYwTHNMqQSV",
        "outputId": "b194ffc8-25d7-4061-eea2-e02d3b1d9f9b"
      },
      "source": [
        "model = torch.hub.load('pytorch/vision:v0.6.0', 'resnet18', pretrained=True)\n",
        "set_parameter_requires_grad(model, True)\n",
        "model.fc = nn.Linear(512, 7)\n",
        "model = model.to(device)\n",
        "summary(model, (3, 48, 48))"
      ],
      "execution_count": null,
      "outputs": [
        {
          "output_type": "stream",
          "text": [
            "Using cache found in /root/.cache/torch/hub/pytorch_vision_v0.6.0\n"
          ],
          "name": "stderr"
        },
        {
          "output_type": "stream",
          "text": [
            "----------------------------------------------------------------\n",
            "        Layer (type)               Output Shape         Param #\n",
            "================================================================\n",
            "            Conv2d-1           [-1, 64, 24, 24]           9,408\n",
            "       BatchNorm2d-2           [-1, 64, 24, 24]             128\n",
            "              ReLU-3           [-1, 64, 24, 24]               0\n",
            "         MaxPool2d-4           [-1, 64, 12, 12]               0\n",
            "            Conv2d-5           [-1, 64, 12, 12]          36,864\n",
            "       BatchNorm2d-6           [-1, 64, 12, 12]             128\n",
            "              ReLU-7           [-1, 64, 12, 12]               0\n",
            "            Conv2d-8           [-1, 64, 12, 12]          36,864\n",
            "       BatchNorm2d-9           [-1, 64, 12, 12]             128\n",
            "             ReLU-10           [-1, 64, 12, 12]               0\n",
            "       BasicBlock-11           [-1, 64, 12, 12]               0\n",
            "           Conv2d-12           [-1, 64, 12, 12]          36,864\n",
            "      BatchNorm2d-13           [-1, 64, 12, 12]             128\n",
            "             ReLU-14           [-1, 64, 12, 12]               0\n",
            "           Conv2d-15           [-1, 64, 12, 12]          36,864\n",
            "      BatchNorm2d-16           [-1, 64, 12, 12]             128\n",
            "             ReLU-17           [-1, 64, 12, 12]               0\n",
            "       BasicBlock-18           [-1, 64, 12, 12]               0\n",
            "           Conv2d-19            [-1, 128, 6, 6]          73,728\n",
            "      BatchNorm2d-20            [-1, 128, 6, 6]             256\n",
            "             ReLU-21            [-1, 128, 6, 6]               0\n",
            "           Conv2d-22            [-1, 128, 6, 6]         147,456\n",
            "      BatchNorm2d-23            [-1, 128, 6, 6]             256\n",
            "           Conv2d-24            [-1, 128, 6, 6]           8,192\n",
            "      BatchNorm2d-25            [-1, 128, 6, 6]             256\n",
            "             ReLU-26            [-1, 128, 6, 6]               0\n",
            "       BasicBlock-27            [-1, 128, 6, 6]               0\n",
            "           Conv2d-28            [-1, 128, 6, 6]         147,456\n",
            "      BatchNorm2d-29            [-1, 128, 6, 6]             256\n",
            "             ReLU-30            [-1, 128, 6, 6]               0\n",
            "           Conv2d-31            [-1, 128, 6, 6]         147,456\n",
            "      BatchNorm2d-32            [-1, 128, 6, 6]             256\n",
            "             ReLU-33            [-1, 128, 6, 6]               0\n",
            "       BasicBlock-34            [-1, 128, 6, 6]               0\n",
            "           Conv2d-35            [-1, 256, 3, 3]         294,912\n",
            "      BatchNorm2d-36            [-1, 256, 3, 3]             512\n",
            "             ReLU-37            [-1, 256, 3, 3]               0\n",
            "           Conv2d-38            [-1, 256, 3, 3]         589,824\n",
            "      BatchNorm2d-39            [-1, 256, 3, 3]             512\n",
            "           Conv2d-40            [-1, 256, 3, 3]          32,768\n",
            "      BatchNorm2d-41            [-1, 256, 3, 3]             512\n",
            "             ReLU-42            [-1, 256, 3, 3]               0\n",
            "       BasicBlock-43            [-1, 256, 3, 3]               0\n",
            "           Conv2d-44            [-1, 256, 3, 3]         589,824\n",
            "      BatchNorm2d-45            [-1, 256, 3, 3]             512\n",
            "             ReLU-46            [-1, 256, 3, 3]               0\n",
            "           Conv2d-47            [-1, 256, 3, 3]         589,824\n",
            "      BatchNorm2d-48            [-1, 256, 3, 3]             512\n",
            "             ReLU-49            [-1, 256, 3, 3]               0\n",
            "       BasicBlock-50            [-1, 256, 3, 3]               0\n",
            "           Conv2d-51            [-1, 512, 2, 2]       1,179,648\n",
            "      BatchNorm2d-52            [-1, 512, 2, 2]           1,024\n",
            "             ReLU-53            [-1, 512, 2, 2]               0\n",
            "           Conv2d-54            [-1, 512, 2, 2]       2,359,296\n",
            "      BatchNorm2d-55            [-1, 512, 2, 2]           1,024\n",
            "           Conv2d-56            [-1, 512, 2, 2]         131,072\n",
            "      BatchNorm2d-57            [-1, 512, 2, 2]           1,024\n",
            "             ReLU-58            [-1, 512, 2, 2]               0\n",
            "       BasicBlock-59            [-1, 512, 2, 2]               0\n",
            "           Conv2d-60            [-1, 512, 2, 2]       2,359,296\n",
            "      BatchNorm2d-61            [-1, 512, 2, 2]           1,024\n",
            "             ReLU-62            [-1, 512, 2, 2]               0\n",
            "           Conv2d-63            [-1, 512, 2, 2]       2,359,296\n",
            "      BatchNorm2d-64            [-1, 512, 2, 2]           1,024\n",
            "             ReLU-65            [-1, 512, 2, 2]               0\n",
            "       BasicBlock-66            [-1, 512, 2, 2]               0\n",
            "AdaptiveAvgPool2d-67            [-1, 512, 1, 1]               0\n",
            "           Linear-68                    [-1, 7]           3,591\n",
            "================================================================\n",
            "Total params: 11,180,103\n",
            "Trainable params: 3,591\n",
            "Non-trainable params: 11,176,512\n",
            "----------------------------------------------------------------\n",
            "Input size (MB): 0.03\n",
            "Forward/backward pass size (MB): 3.00\n",
            "Params size (MB): 42.65\n",
            "Estimated Total Size (MB): 45.67\n",
            "----------------------------------------------------------------\n"
          ],
          "name": "stdout"
        }
      ]
    },
    {
      "cell_type": "code",
      "metadata": {
        "id": "DXp2IG3UwKIY"
      },
      "source": [
        "# Hyper Parameters:\n",
        "model_name = 'RES18'\n",
        "num_epochs = 50\n",
        "batch_size = 100\n",
        "learning_rate = 0.001\n",
        "learning_rate_decay = 0.9\n",
        "momentum = 0.0001\n",
        "weight_decay = 0.0005\n",
        "early_stopping = 20"
      ],
      "execution_count": null,
      "outputs": []
    },
    {
      "cell_type": "code",
      "metadata": {
        "id": "3Rj9r9BnwKIZ"
      },
      "source": [
        "train_transform = transforms.Compose([HistEqualization(),                    \n",
        "                                      transforms.RandomHorizontalFlip(p=0.7),\n",
        "                                      transforms.RandomApply(torch.nn.ModuleList([transforms.RandomAffine(degrees=(-20, +20))]), p=0.5),\n",
        "                                      transforms.RandomApply(torch.nn.ModuleList([transforms.RandomAffine(degrees=0, translate=(0.20,0.20))]), p=0.5),\n",
        "                                      transforms.ToTensor(),\n",
        "                                      transforms.Normalize(mean=[0.485, 0.456, 0.406], std=[0.229, 0.224, 0.225])])\n",
        "valid_transform = transforms.Compose([HistEqualization(),\n",
        "                                      transforms.ToTensor(),\n",
        "                                      transforms.Normalize(mean=[0.485, 0.456, 0.406], std=[0.229, 0.224, 0.225])])"
      ],
      "execution_count": null,
      "outputs": []
    },
    {
      "cell_type": "code",
      "metadata": {
        "colab": {
          "base_uri": "https://localhost:8080/"
        },
        "id": "F0nAqzAzwKIc",
        "outputId": "1b921479-a974-49a6-ccc8-1cfc60aa3508"
      },
      "source": [
        "run_train(num_epochs, early_stopping, train_transform, valid_transform, batch_size,\n",
        "          model_name, PATH_STATS, PATH_MODELS, PATH_DATA, device, model,\n",
        "          weight_decay=weight_decay, learning_rate=learning_rate, learning_rate_decay=learning_rate_decay, \n",
        "          balanced=True)"
      ],
      "execution_count": null,
      "outputs": [
        {
          "output_type": "stream",
          "text": [
            "Epoch: 1 Loss Train: 1.8192471988412864 Train Accuracy: 0.2716984047278767\n",
            "Epoch: 1 Loss Validation: 1.7474073236053054 Validation Accuracy: 0.29947081772181233\n"
          ],
          "name": "stdout"
        },
        {
          "output_type": "stream",
          "text": [
            "/usr/local/lib/python3.6/dist-packages/torch/optim/lr_scheduler.py:156: UserWarning: The epoch parameter in `scheduler.step()` was not necessary and is being deprecated where possible. Please use `scheduler.step()` to step the scheduler. During the deprecation, if epoch is different from None, the closed form is used instead of the new chainable form, where available. Please open an issue if you are unable to replicate your use case: https://github.com/pytorch/pytorch/issues/new/choose.\n",
            "  warnings.warn(EPOCH_DEPRECATION_WARNING, UserWarning)\n"
          ],
          "name": "stderr"
        },
        {
          "output_type": "stream",
          "text": [
            "Epoch: 2 Loss Train: 1.7447167317379395 Train Accuracy: 0.30576692803893546\n",
            "Epoch: 2 Loss Validation: 1.7237880842105762 Validation Accuracy: 0.31411023987021514\n",
            "Epoch: 3 Loss Train: 1.7310301926145222 Train Accuracy: 0.3099385839545753\n",
            "Epoch: 3 Loss Validation: 1.7141096154695312 Validation Accuracy: 0.31534628606744175\n",
            "Epoch: 4 Loss Train: 1.7239794496403698 Train Accuracy: 0.31438062497585845\n",
            "Epoch: 4 Loss Validation: 1.7115286243468177 Validation Accuracy: 0.3237668507860481\n",
            "Epoch: 5 Loss Train: 1.7179413150176117 Train Accuracy: 0.3146510100815018\n",
            "Epoch: 5 Loss Validation: 1.701887523805773 Validation Accuracy: 0.3240758623353548\n",
            "Epoch: 6 Loss Train: 1.7115426348903464 Train Accuracy: 0.31928618332110165\n",
            "Epoch: 6 Loss Validation: 1.7134564493613813 Validation Accuracy: 0.31716172891961836\n",
            "Epoch: 7 Loss Train: 1.718959423105689 Train Accuracy: 0.31507590096179844\n",
            "Epoch: 7 Loss Validation: 1.705101220303981 Validation Accuracy: 0.31905442465912165\n",
            "Epoch: 8 Loss Train: 1.7132657365909414 Train Accuracy: 0.3173162346942717\n",
            "Epoch: 8 Loss Validation: 1.7053242673284759 Validation Accuracy: 0.31990420641971495\n",
            "Epoch: 9 Loss Train: 1.7092587404729778 Train Accuracy: 0.31994283286337827\n",
            "Epoch: 9 Loss Validation: 1.7148168795817607 Validation Accuracy: 0.3236509714550581\n",
            "Epoch: 10 Loss Train: 1.711490637547261 Train Accuracy: 0.31777975201823166\n",
            "Epoch: 10 Loss Validation: 1.7188324587685722 Validation Accuracy: 0.3148827687434818\n",
            "Epoch: 11 Loss Train: 1.7165781572518661 Train Accuracy: 0.31835914867318166\n",
            "Epoch: 11 Loss Validation: 1.6981403496274616 Validation Accuracy: 0.32778400092703464\n",
            "Epoch: 12 Loss Train: 1.7090231401119453 Train Accuracy: 0.32102437328595157\n",
            "Epoch: 12 Loss Validation: 1.7199929312849598 Validation Accuracy: 0.31681409092664836\n",
            "Epoch: 13 Loss Train: 1.717858216477177 Train Accuracy: 0.3150372745181351\n",
            "Epoch: 13 Loss Validation: 1.7080042224132876 Validation Accuracy: 0.3207926146239716\n",
            "Epoch: 14 Loss Train: 1.7106286517441502 Train Accuracy: 0.32025184441268495\n",
            "Epoch: 14 Loss Validation: 1.7126024827993975 Validation Accuracy: 0.32573679941287803\n",
            "Epoch: 15 Loss Train: 1.7106041995714991 Train Accuracy: 0.31743211402526167\n",
            "Epoch: 15 Loss Validation: 1.7052465783122883 Validation Accuracy: 0.3227625632508015\n",
            "Epoch: 16 Loss Train: 1.7124932912325768 Train Accuracy: 0.32171964927189156\n",
            "Epoch: 16 Loss Validation: 1.6955420570483999 Validation Accuracy: 0.32693421916644133\n",
            "Epoch: 17 Loss Train: 1.7088287300124592 Train Accuracy: 0.31909305110278496\n",
            "Epoch: 17 Loss Validation: 1.7001758574518917 Validation Accuracy: 0.3206767352929816\n",
            "Epoch: 18 Loss Train: 1.7078665996610427 Train Accuracy: 0.32183552860288156\n",
            "Epoch: 18 Loss Validation: 1.7064271530129274 Validation Accuracy: 0.3229943219127815\n",
            "Epoch: 19 Loss Train: 1.7179519122171587 Train Accuracy: 0.3153849125111051\n",
            "Epoch: 19 Loss Validation: 1.7083987623568206 Validation Accuracy: 0.3244235003283248\n",
            "Epoch: 20 Loss Train: 1.7048648848957078 Train Accuracy: 0.3198655799760516\n",
            "Epoch: 20 Loss Validation: 1.7127327467944171 Validation Accuracy: 0.31944068909575496\n",
            "Epoch: 21 Loss Train: 1.7139470756744326 Train Accuracy: 0.3150372745181351\n",
            "Epoch: 21 Loss Validation: 1.7029094079286435 Validation Accuracy: 0.32778400092703464\n",
            "Epoch: 22 Loss Train: 1.7110838273317197 Train Accuracy: 0.31874541310981497\n",
            "Epoch: 22 Loss Validation: 1.717703179042772 Validation Accuracy: 0.31785700490555835\n",
            "Epoch: 23 Loss Train: 1.6954602997275392 Train Accuracy: 0.3243462474409981\n",
            "Epoch: 23 Loss Validation: 1.6873711660561874 Validation Accuracy: 0.3284406504693113\n",
            "Epoch: 24 Loss Train: 1.7098082023237662 Train Accuracy: 0.31716172891961836\n",
            "Epoch: 24 Loss Validation: 1.698492783837337 Validation Accuracy: 0.3250801498706014\n",
            "Epoch: 25 Loss Train: 1.7100671953216022 Train Accuracy: 0.3197497006450616\n",
            "Epoch: 25 Loss Validation: 1.7127062639214357 Validation Accuracy: 0.31909305110278496\n",
            "Epoch: 26 Loss Train: 1.7174205977944335 Train Accuracy: 0.31859090733516165\n",
            "Epoch: 26 Loss Validation: 1.716314569403306 Validation Accuracy: 0.31739348758159835\n",
            "Epoch: 27 Loss Train: 1.7123327563628266 Train Accuracy: 0.31870678666615165\n",
            "Epoch: 27 Loss Validation: 1.7349153241595707 Validation Accuracy: 0.30549654293329215\n",
            "Epoch: 28 Loss Train: 1.7122087138039725 Train Accuracy: 0.31650507937734174\n",
            "Epoch: 28 Loss Validation: 1.696092380059732 Validation Accuracy: 0.3290586735679246\n",
            "Epoch: 29 Loss Train: 1.7110399173493551 Train Accuracy: 0.3198655799760516\n",
            "Epoch: 29 Loss Validation: 1.7031944308962141 Validation Accuracy: 0.3206767352929816\n"
          ],
          "name": "stdout"
        },
        {
          "output_type": "execute_result",
          "data": {
            "text/plain": [
              "1.6873711660561874"
            ]
          },
          "metadata": {
            "tags": []
          },
          "execution_count": 67
        }
      ]
    },
    {
      "cell_type": "code",
      "metadata": {
        "colab": {
          "base_uri": "https://localhost:8080/",
          "height": 455
        },
        "id": "SlaX6F6JwKIe",
        "outputId": "28ef51b2-2e5d-444b-babb-d5b8fa0d1bf5"
      },
      "source": [
        "#Evaluate the model:\n",
        "test_transform = transforms.Compose([HistEqualization(),\n",
        "                                    transforms.ToTensor(),\n",
        "                                    transforms.Normalize(mean=[0.485, 0.456, 0.406], std=[0.229, 0.224, 0.225])\n",
        "                                    ])\n",
        "test_loader = CustomDataLoader(PATH_DATA, transformations=test_transform, batch_size=batch_size, as_df='test')\n",
        "\n",
        "y_true, y_pred = test(model, device, PATH_MODELS, PATH_STATS, model_name)\n",
        "confusion_plot(y_true, y_pred, PATH_FIG, model_name)\n"
      ],
      "execution_count": null,
      "outputs": [
        {
          "output_type": "stream",
          "text": [
            "       precision    recall  f1-score  accuracy\n",
            "RES18    0.26972  0.254456  0.244076  0.322095\n"
          ],
          "name": "stdout"
        },
        {
          "output_type": "display_data",
          "data": {
            "image/png": "[encoded data removed]",
            "text/plain": [
              "<Figure size 504x432 with 2 Axes>"
            ]
          },
          "metadata": {
            "tags": [],
            "needs_background": "light"
          }
        }
      ]
    },
    {
      "cell_type": "code",
      "metadata": {
        "colab": {
          "base_uri": "https://localhost:8080/",
          "height": 428
        },
        "id": "bxi_OT4PwKIh",
        "outputId": "cc6901dc-6b82-4a85-954d-5bb1c4e480e5"
      },
      "source": [
        "show_trai_acc(PATH_STATS, PATH_FIG, model_name)"
      ],
      "execution_count": null,
      "outputs": [
        {
          "output_type": "display_data",
          "data": {
            "image/png": "[encoded data removed]",
            "text/plain": [
              "<Figure size 1080x432 with 2 Axes>"
            ]
          },
          "metadata": {
            "tags": [],
            "needs_background": "light"
          }
        }
      ]
    },
    {
      "cell_type": "markdown",
      "metadata": {
        "id": "pug6cKMwW_Sh"
      },
      "source": [
        "# Interpretability:\n"
      ]
    },
    {
      "cell_type": "code",
      "metadata": {
        "id": "lCHe1UzFXX2n"
      },
      "source": [
        "class Model(nn.Module):\n",
        "  \n",
        "  def __init__(self):\n",
        "    \n",
        "    super().__init__()\n",
        "\n",
        "    self.features = nn.Sequential(\n",
        "        nn.Conv2d(in_channels=3, out_channels=16, kernel_size=3,  bias=False),\n",
        "        nn.BatchNorm2d(16),\n",
        "        nn.ReLU(inplace=True),\n",
        "\n",
        "        nn.Conv2d(in_channels=16, out_channels=32, kernel_size=3, bias=False),\n",
        "        nn.Dropout(0.2),\n",
        "        nn.BatchNorm2d(32),\n",
        "        nn.ReLU(inplace=True),\n",
        "        nn.MaxPool2d(2, 2),\n",
        "\n",
        "        nn.Conv2d(in_channels=32, out_channels=64, kernel_size=3, bias=False),\n",
        "        nn.BatchNorm2d(64),\n",
        "        nn.ReLU(inplace=True),\n",
        "\n",
        "        nn.Conv2d(in_channels=64, out_channels=128, kernel_size=3, bias=False),\n",
        "        nn.Dropout(0.2),\n",
        "        nn.BatchNorm2d(128),\n",
        "        nn.ReLU(inplace=True),\n",
        "        nn.MaxPool2d(2, 2),\n",
        "\n",
        "        nn.Conv2d(in_channels=128, out_channels=256, kernel_size=3,  bias=False),\n",
        "        nn.BatchNorm2d(256),\n",
        "        nn.ReLU(inplace=True),\n",
        "  \n",
        "\n",
        "        nn.Conv2d(in_channels=256, out_channels=256, kernel_size=3,  bias=False),\n",
        "        nn.Dropout(0.2),\n",
        "\n",
        "        nn.BatchNorm2d(256),\n",
        "        nn.ReLU(inplace=True),\n",
        "        nn.MaxPool2d(2, 2),\n",
        "        nn.Flatten()\n",
        "    )\n",
        "\n",
        "    self.classifier = nn.Sequential(\n",
        "        nn.Dropout(),\n",
        "        nn.Linear(1024, 512),\n",
        "        nn.ReLU(inplace=True),\n",
        "        nn.Dropout(),\n",
        "        nn.Linear(512, 7),\n",
        "    )\n",
        "\n",
        "  def forward(self,x):\n",
        "    x=self.features(x)\n",
        "    x=self.classifier(x)\n",
        "    return x "
      ],
      "execution_count": null,
      "outputs": []
    },
    {
      "cell_type": "code",
      "metadata": {
        "id": "TEbjBAfXXc3V"
      },
      "source": [
        "device = torch.device('cuda' if torch.cuda.is_available() else 'cpu')\n",
        "model = Model().to(device)\n",
        "model.load_state_dict(torch.load(\"augmented.ckpt\"))\n",
        "model.eval()"
      ],
      "execution_count": null,
      "outputs": []
    },
    {
      "cell_type": "code",
      "metadata": {
        "id": "ACb-oae7XneJ"
      },
      "source": [
        "class ImageFolderWithPaths(torchvision.datasets.ImageFolder):\n",
        "    \"\"\"Custom dataset that includes image file paths. Extends\n",
        "    torchvision.datasets.ImageFolder\n",
        "    \"\"\"\n",
        "\n",
        "    # override the __getitem__ method. this is the method that dataloader calls\n",
        "    def __getitem__(self, index):\n",
        "        # this is what ImageFolder normally returns \n",
        "        original_tuple = super(ImageFolderWithPaths, self).__getitem__(index)\n",
        "        # the image file path\n",
        "        path = self.imgs[index][0]\n",
        "        # make a new tuple that includes original and the path\n",
        "        tuple_with_path = (original_tuple + (path,))\n",
        "        return tuple_with_path"
      ],
      "execution_count": null,
      "outputs": []
    },
    {
      "cell_type": "code",
      "metadata": {
        "id": "aCrTopMPXsSx"
      },
      "source": [
        "class Grad_CAM(nn.Module):\n",
        "    def __init__(self,model,index_1,data_folder):\n",
        "        \"\"\"\n",
        "\n",
        "        :param model: model that will dissect\n",
        "        :param index_1: index of the last activation function of the\n",
        "        feature map\n",
        "        \"\"\"\n",
        "        super().__init__()\n",
        "        self.model=model\n",
        "        self.class_labels={data_folder.class_to_idx[key]:key for key in data_folder.class_to_idx }\n",
        "        #layers until the last activation layer\n",
        "        self.features_conv = self.model.features[:index_1]\n",
        "\n",
        "        ## remaining part of the layers\n",
        "        self.remaining_part_of_features=self.model.features[index_1:]\n",
        "        self.classifier = self.model.classifier\n",
        "\n",
        "        ##Gradient of the Last Activation\n",
        "        self.last_layer_activadtion_gr=None\n",
        "\n",
        "\n",
        "        #key : path\n",
        "        #values predicted,GT\n",
        "        self.wrong_classified_img_info=[]\n",
        "\n",
        "    def activations_hook(self,grad):\n",
        "        self.last_layer_activadtion_gr=grad\n",
        "\n",
        "\n",
        "    def forward(self,x):\n",
        "        x=self.features_conv(x)\n",
        "        self.activation_map=x.detach().clone()\n",
        "        hook = x.register_hook(self.activations_hook)\n",
        "        x=self.remaining_part_of_features(x)\n",
        "        x=self.classifier(x)\n",
        "        return x\n",
        "\n",
        "    def calculate_color_map(self,prediction):\n",
        "      ## send gradient backward according to the mostly probable class\n",
        "      prediction[:,torch.argmax(prediction)].backward()\n",
        "      pooled_gradient=torch.mean(self.last_layer_activadtion_gr,dim=[0, 2, 3])\n",
        "      for i in range(pooled_gradient.shape[0]):\n",
        "        self.activation_map[:, i, :, :] *= pooled_gradient[i]\n",
        "      heatmap = torch.mean(self.activation_map, dim=1).squeeze().cpu()\n",
        "      heatmap = np.maximum(heatmap, 0)\n",
        "      heatmap /= torch.max(heatmap)\n",
        "      return heatmap\n",
        "    \n",
        "    def write_images_related_file(self,prediction,ground_truth,path_to_img):\n",
        "      heatmap=self.calculate_color_map(prediction)\n",
        "      original_img=cv2.imread(path_to_img[0])\n",
        "      heatmap = cv2.resize(heatmap.numpy(), (original_img.shape[1], original_img.shape[0]))\n",
        "      heatmap = np.uint8(255 * heatmap)\n",
        "      heatmap = cv2.applyColorMap(heatmap, cv2.COLORMAP_JET)\n",
        "      superimposed_img = heatmap * 0.4 + original_img\n",
        "\n",
        "      file_name=\"-\".join(path[0].split(\"/\")[4:])\n",
        "      if  torch.argmax(prediction).cpu().item() == ground_truth.cpu().item():\n",
        "        cv2.imwrite(f'/content/Gan_Result/correct/{file_name}', superimposed_img)\n",
        "      else:\n",
        "\n",
        "        gt_label=path[0].split(\"/\")[5]\n",
        "        predicted_label = torch.argmax(prediction).cpu().item()\n",
        "        self.wrong_classified_img_info.append([\n",
        "                                                   path[0],\n",
        "                                                   self.class_labels[predicted_label],\n",
        "                                                   gt_label\n",
        "                                                  ] )\n",
        "        cv2.imwrite(f'/content/Gan_Result/wrong/{file_name}', superimposed_img)\n",
        "\n",
        "\n",
        "#height, width, channels cv2 \n",
        "#channels, height, width pytorch\n"
      ],
      "execution_count": null,
      "outputs": []
    },
    {
      "cell_type": "code",
      "metadata": {
        "id": "cOBgJC5oXvax"
      },
      "source": [
        "Grad=Grad_CAM(model,23,test_images)\n",
        "\n",
        "for idx,(img, label,path) in enumerate(test_gen):\n",
        "    img = img.to(device)\n",
        "    label = label.to(device)\n",
        "    prediction = Grad(img)\n",
        "    \n",
        "    Grad.write_images_related_file(prediction,label,path)\n",
        "    "
      ],
      "execution_count": null,
      "outputs": []
    },
    {
      "cell_type": "code",
      "metadata": {
        "id": "1ItTgJzXX2n9"
      },
      "source": [
        "import pandas as pd \n",
        "result_analysis=pd.DataFrame(Grad.wrong_classified_img_info,columns=[\"path\",\n",
        "                                                     \"predicted\",\n",
        "                                                     \"GroundTr\"])\n",
        "result_analysis.to_csv(\"wrongly_classified.csv\",index=False)"
      ],
      "execution_count": null,
      "outputs": []
    }
  ]
}